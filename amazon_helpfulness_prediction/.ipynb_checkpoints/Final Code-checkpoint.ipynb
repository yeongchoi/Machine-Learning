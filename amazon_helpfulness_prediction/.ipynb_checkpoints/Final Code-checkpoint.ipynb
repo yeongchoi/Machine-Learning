{
 "cells": [
  {
   "cell_type": "markdown",
   "metadata": {},
   "source": [
    "# DSE 220 Final Project"
   ]
  },
  {
   "cell_type": "markdown",
   "metadata": {},
   "source": [
    "### Load Library"
   ]
  },
  {
   "cell_type": "code",
   "execution_count": 1,
   "metadata": {},
   "outputs": [],
   "source": [
    "import gzip\n",
    "import string\n",
    "import numpy as np\n",
    "import pandas as pd\n",
    "import matplotlib.pyplot as plt\n",
    "\n",
    "import warnings\n",
    "warnings.filterwarnings(\"ignore\")\n",
    "\n",
    "from collections import defaultdict\n",
    "from collections import Counter\n",
    "from statistics import mean \n",
    "\n",
    "from nltk.corpus import stopwords\n",
    "from nltk.tokenize import WordPunctTokenizer\n",
    "from nltk.sentiment.vader import allcap_differential\n",
    "\n",
    "from sklearn import svm\n",
    "from sklearn import linear_model\n",
    "\n",
    "from sklearn.metrics import mean_absolute_error\n",
    "from sklearn.model_selection import train_test_split\n",
    "from sklearn.model_selection import GridSearchCV\n",
    "from sklearn.feature_extraction.text import TfidfVectorizer\n",
    "from sklearn.feature_extraction.text import CountVectorizer\n",
    "from sklearn.feature_extraction import FeatureHasher\n",
    "from sklearn.linear_model import LogisticRegression\n",
    "from sklearn.linear_model import Ridge\n",
    "from sklearn.linear_model import ElasticNet\n",
    "from sklearn.linear_model import ElasticNetCV\n",
    "from sklearn.ensemble import RandomForestRegressor\n",
    "\n",
    "import warnings\n",
    "warnings.filterwarnings(\"ignore\")"
   ]
  },
  {
   "cell_type": "markdown",
   "metadata": {},
   "source": [
    "## Part 1. Data Process"
   ]
  },
  {
   "cell_type": "code",
   "execution_count": 2,
   "metadata": {},
   "outputs": [],
   "source": [
    "# Load data functions. \n",
    "def readGz(f):\n",
    "    for l in gzip.open(f):\n",
    "        yield eval(l)\n",
    "\n",
    "def parse(path):\n",
    "    g = gzip.open(path, 'rb')\n",
    "    for l in g:\n",
    "        yield eval(l)\n",
    "\n",
    "def getDF(path):\n",
    "    i = 0\n",
    "    df = {}\n",
    "    for d in parse(path):\n",
    "        df[i] = d\n",
    "        i += 1\n",
    "    return pd.DataFrame.from_dict(df, orient='index')"
   ]
  },
  {
   "cell_type": "code",
   "execution_count": 5,
   "metadata": {},
   "outputs": [],
   "source": [
    "# Convert to dataframe.\n",
    "df = getDF('train.json.gz')\n",
    "test_df = getDF('test_Helpful.json.gz')"
   ]
  },
  {
   "cell_type": "markdown",
   "metadata": {},
   "source": [
    "### Explotary Data Analysis\n",
    "#### Data Summary"
   ]
  },
  {
   "cell_type": "code",
   "execution_count": 6,
   "metadata": {},
   "outputs": [
    {
     "name": "stdout",
     "output_type": "stream",
     "text": [
      "Number of samples: 200000\n"
     ]
    },
    {
     "data": {
      "text/plain": [
       "categoryID                                                        0\n",
       "categories        [[Clothing, Shoes & Jewelry, Women], [Clothing...\n",
       "itemID                                                   I655355328\n",
       "reviewerID                                               U745881038\n",
       "rating                                                            3\n",
       "reviewText        These are cute, but they are a little small.  ...\n",
       "reviewHash                                               R115160670\n",
       "reviewTime                                              05 20, 2014\n",
       "summary                                                        Cute\n",
       "unixReviewTime                                           1400544000\n",
       "helpful                                 {'outOf': 0, 'nHelpful': 0}\n",
       "price                                                           NaN\n",
       "Name: 0, dtype: object"
      ]
     },
     "execution_count": 6,
     "metadata": {},
     "output_type": "execute_result"
    }
   ],
   "source": [
    "print(\"Number of samples:\", df.shape[0])\n",
    "# sample:\n",
    "df.iloc[0,:]"
   ]
  },
  {
   "cell_type": "code",
   "execution_count": 7,
   "metadata": {},
   "outputs": [
    {
     "data": {
      "text/plain": [
       "categoryID             0\n",
       "categories             0\n",
       "itemID                 0\n",
       "reviewerID             0\n",
       "rating                 0\n",
       "reviewText             0\n",
       "reviewHash             0\n",
       "reviewTime             0\n",
       "summary                0\n",
       "unixReviewTime         0\n",
       "helpful                0\n",
       "price             125851\n",
       "dtype: int64"
      ]
     },
     "execution_count": 7,
     "metadata": {},
     "output_type": "execute_result"
    }
   ],
   "source": [
    "# Check number of NaN value in each column.\n",
    "df.isnull().sum()"
   ]
  },
  {
   "cell_type": "code",
   "execution_count": 8,
   "metadata": {},
   "outputs": [],
   "source": [
    "# Append two colums of \"outOf\" and \"nHelpful\"\n",
    "df = df.join(pd.DataFrame(df[\"helpful\"].to_dict()).T)\n",
    "df = df.drop(['helpful'],axis=1)\n",
    "df['helpfulrate']=df['nHelpful']/df['outOf']\n",
    "df['helpfulrate'].fillna(0,inplace=True)"
   ]
  },
  {
   "cell_type": "code",
   "execution_count": 9,
   "metadata": {},
   "outputs": [
    {
     "name": "stdout",
     "output_type": "stream",
     "text": [
      "Number of reviews with no vote: 136984\n",
      "Number of reviews with vote: 63016\n"
     ]
    }
   ],
   "source": [
    "print('Number of reviews with no vote:',df[df['outOf']==0].count()[0])\n",
    "print('Number of reviews with vote:',df[df['outOf']>0].count()[0])"
   ]
  },
  {
   "cell_type": "code",
   "execution_count": 10,
   "metadata": {},
   "outputs": [
    {
     "data": {
      "text/plain": [
       "(63016, 14)"
      ]
     },
     "execution_count": 10,
     "metadata": {},
     "output_type": "execute_result"
    }
   ],
   "source": [
    "# Remove no voting reviews.\n",
    "df_voted=df[df['outOf']!=0]\n",
    "df_voted.shape"
   ]
  },
  {
   "cell_type": "markdown",
   "metadata": {},
   "source": [
    "#### Helfulrate"
   ]
  },
  {
   "cell_type": "code",
   "execution_count": 11,
   "metadata": {},
   "outputs": [
    {
     "data": {
      "image/png": "[encoded data removed]",
      "text/plain": [
       "<Figure size 432x288 with 1 Axes>"
      ]
     },
     "metadata": {
      "needs_background": "light"
     },
     "output_type": "display_data"
    }
   ],
   "source": [
    "# Voted reviews average helpfulrate.\n",
    "plt.hist(df_voted['helpfulrate'],10,ec='black')\n",
    "plt.title('Helpfulrate for voted reviews')\n",
    "plt.xlabel('Helpfulrate')\n",
    "plt.ylabel('Counts')\n",
    "# plt.savefig('helpfulrate_voted_all.jpg')\n",
    "plt.show()"
   ]
  },
  {
   "cell_type": "markdown",
   "metadata": {},
   "source": [
    "#### Rating"
   ]
  },
  {
   "cell_type": "code",
   "execution_count": 12,
   "metadata": {},
   "outputs": [
    {
     "data": {
      "image/png": "[encoded data removed]",
      "text/plain": [
       "<Figure size 432x288 with 1 Axes>"
      ]
     },
     "metadata": {
      "needs_background": "light"
     },
     "output_type": "display_data"
    }
   ],
   "source": [
    "# Voted review counts in each product rating.\n",
    "df_voted['rating'].value_counts().plot.bar()\n",
    "plt.title('Rating for voted reviews')\n",
    "plt.xlabel('rating')\n",
    "plt.ylabel('Counts')\n",
    "# plt.savefig('rating_voted_all.pdf')\n",
    "plt.show()"
   ]
  },
  {
   "cell_type": "code",
   "execution_count": 13,
   "metadata": {},
   "outputs": [
    {
     "data": {
      "image/png": "[encoded data removed]",
      "text/plain": [
       "<Figure size 432x288 with 1 Axes>"
      ]
     },
     "metadata": {
      "needs_background": "light"
     },
     "output_type": "display_data"
    }
   ],
   "source": [
    "# rating vs avgHelpfulrate\n",
    "s_1=df_voted.groupby('rating')['helpfulrate'].mean()\n",
    "plt.plot(s_1.index, s_1, '*-')\n",
    "plt.xticks(range(1,6))\n",
    "plt.title('Average helpfulrate of each rating')\n",
    "plt.xlabel('rating')\n",
    "plt.ylabel('Average helpfulrate')\n",
    "# plt.savefig('rating_avgHelpfulrate_voted_all.pdf')\n",
    "plt.show()"
   ]
  },
  {
   "cell_type": "markdown",
   "metadata": {},
   "source": [
    "#### Category"
   ]
  },
  {
   "cell_type": "code",
   "execution_count": 14,
   "metadata": {},
   "outputs": [
    {
     "data": {
      "image/png": "[encoded data removed]",
      "text/plain": [
       "<Figure size 432x288 with 1 Axes>"
      ]
     },
     "metadata": {
      "needs_background": "light"
     },
     "output_type": "display_data"
    }
   ],
   "source": [
    "# Voted reviews counts in each categoryID. \n",
    "df_voted['categoryID'].value_counts().plot.bar()\n",
    "plt.title('CategoryID and number of voted reviews')\n",
    "plt.xlabel('categoryID')\n",
    "plt.ylabel('Counts')\n",
    "# plt.savefig('categoryID_voted_all.pdf')\n",
    "plt.show()"
   ]
  },
  {
   "cell_type": "code",
   "execution_count": 15,
   "metadata": {},
   "outputs": [
    {
     "data": {
      "image/png": "[encoded data removed]",
      "text/plain": [
       "<Figure size 432x288 with 1 Axes>"
      ]
     },
     "metadata": {
      "needs_background": "light"
     },
     "output_type": "display_data"
    }
   ],
   "source": [
    "# Category vs avgHelpfulrate\n",
    "s_2=df_voted.groupby('categoryID')['helpfulrate'].mean()\n",
    "plt.plot(s_2.index, s_2, '*-')\n",
    "plt.xticks(range(5))\n",
    "plt.title('Average helpfulrate of each categoryID')\n",
    "plt.xlabel('categoryID')\n",
    "plt.ylabel('Average helpfulrate')\n",
    "# plt.savefig('categoryID_avgHelpfulrate_voted_all.pdf')\n",
    "plt.show()"
   ]
  },
  {
   "cell_type": "code",
   "execution_count": 16,
   "metadata": {},
   "outputs": [
    {
     "data": {
      "text/plain": [
       "<matplotlib.axes._subplots.AxesSubplot at 0x1a2d677438>"
      ]
     },
     "execution_count": 16,
     "metadata": {},
     "output_type": "execute_result"
    },
    {
     "data": {
      "image/png": "[encoded data removed]",
      "text/plain": [
       "<Figure size 1080x360 with 1 Axes>"
      ]
     },
     "metadata": {
      "needs_background": "light"
     },
     "output_type": "display_data"
    }
   ],
   "source": [
    "s_cate = df['categories']\n",
    "categories={}\n",
    "for i in s_cate.index:    \n",
    "    categories[i]=[]\n",
    "    for item in s_cate[i]:\n",
    "        for w in item:\n",
    "            categories[i].append(w)\n",
    "\n",
    "categories=[str(categories[i]) for i in categories.keys()]\n",
    "# Count category    \n",
    "vectorizer = CountVectorizer(max_features=20)\n",
    "cate_count = vectorizer.fit_transform(pd.Series(categories))\n",
    "category=vectorizer.get_feature_names()\n",
    "df_category = pd.DataFrame(data=cate_count.toarray(), columns = category)\n",
    "# df_category\n",
    "# plot \n",
    "df_category['helpfulrate'] = df_voted['helpfulrate']\n",
    "S={}\n",
    "for label in df_category.columns[:-1]:\n",
    "    S[label]=df_category.groupby(label)['helpfulrate'].mean()\n",
    "DF=pd.DataFrame(S).T\n",
    "DF.plot.bar(figsize=(15,5),width=0.8)"
   ]
  },
  {
   "cell_type": "markdown",
   "metadata": {},
   "source": [
    "#### Review Time"
   ]
  },
  {
   "cell_type": "code",
   "execution_count": 17,
   "metadata": {},
   "outputs": [
    {
     "data": {
      "text/html": [
       "<div>\n",
       "<style scoped>\n",
       "    .dataframe tbody tr th:only-of-type {\n",
       "        vertical-align: middle;\n",
       "    }\n",
       "\n",
       "    .dataframe tbody tr th {\n",
       "        vertical-align: top;\n",
       "    }\n",
       "\n",
       "    .dataframe thead th {\n",
       "        text-align: right;\n",
       "    }\n",
       "</style>\n",
       "<table border=\"1\" class=\"dataframe\">\n",
       "  <thead>\n",
       "    <tr style=\"text-align: right;\">\n",
       "      <th></th>\n",
       "      <th>Year</th>\n",
       "      <th>Count</th>\n",
       "      <th>AvgHelpfulRate</th>\n",
       "    </tr>\n",
       "  </thead>\n",
       "  <tbody>\n",
       "    <tr>\n",
       "      <th>0</th>\n",
       "      <td>2003</td>\n",
       "      <td>2</td>\n",
       "      <td>0.952381</td>\n",
       "    </tr>\n",
       "    <tr>\n",
       "      <th>1</th>\n",
       "      <td>2004</td>\n",
       "      <td>4</td>\n",
       "      <td>0.942113</td>\n",
       "    </tr>\n",
       "    <tr>\n",
       "      <th>2</th>\n",
       "      <td>2005</td>\n",
       "      <td>18</td>\n",
       "      <td>0.846171</td>\n",
       "    </tr>\n",
       "    <tr>\n",
       "      <th>3</th>\n",
       "      <td>2006</td>\n",
       "      <td>67</td>\n",
       "      <td>0.865395</td>\n",
       "    </tr>\n",
       "    <tr>\n",
       "      <th>4</th>\n",
       "      <td>2007</td>\n",
       "      <td>270</td>\n",
       "      <td>0.842723</td>\n",
       "    </tr>\n",
       "    <tr>\n",
       "      <th>5</th>\n",
       "      <td>2008</td>\n",
       "      <td>446</td>\n",
       "      <td>0.849477</td>\n",
       "    </tr>\n",
       "    <tr>\n",
       "      <th>6</th>\n",
       "      <td>2009</td>\n",
       "      <td>858</td>\n",
       "      <td>0.846909</td>\n",
       "    </tr>\n",
       "    <tr>\n",
       "      <th>7</th>\n",
       "      <td>2010</td>\n",
       "      <td>1607</td>\n",
       "      <td>0.822857</td>\n",
       "    </tr>\n",
       "    <tr>\n",
       "      <th>8</th>\n",
       "      <td>2011</td>\n",
       "      <td>4345</td>\n",
       "      <td>0.820282</td>\n",
       "    </tr>\n",
       "    <tr>\n",
       "      <th>9</th>\n",
       "      <td>2012</td>\n",
       "      <td>11162</td>\n",
       "      <td>0.800393</td>\n",
       "    </tr>\n",
       "    <tr>\n",
       "      <th>10</th>\n",
       "      <td>2013</td>\n",
       "      <td>30784</td>\n",
       "      <td>0.764609</td>\n",
       "    </tr>\n",
       "    <tr>\n",
       "      <th>11</th>\n",
       "      <td>2014</td>\n",
       "      <td>13453</td>\n",
       "      <td>0.785128</td>\n",
       "    </tr>\n",
       "  </tbody>\n",
       "</table>\n",
       "</div>"
      ],
      "text/plain": [
       "    Year  Count  AvgHelpfulRate\n",
       "0   2003      2        0.952381\n",
       "1   2004      4        0.942113\n",
       "2   2005     18        0.846171\n",
       "3   2006     67        0.865395\n",
       "4   2007    270        0.842723\n",
       "5   2008    446        0.849477\n",
       "6   2009    858        0.846909\n",
       "7   2010   1607        0.822857\n",
       "8   2011   4345        0.820282\n",
       "9   2012  11162        0.800393\n",
       "10  2013  30784        0.764609\n",
       "11  2014  13453        0.785128"
      ]
     },
     "execution_count": 17,
     "metadata": {},
     "output_type": "execute_result"
    }
   ],
   "source": [
    "## Time \n",
    "time=[int(i[-4:]) for i in df_voted['reviewTime']]\n",
    "df_voted['time']=time\n",
    "pd.DataFrame({'Year':df_voted.groupby('time')['helpfulrate'].count().index,\n",
    "             'Count':np.array(df_voted.groupby('time')['helpfulrate'].count()),\n",
    "             'AvgHelpfulRate':np.array(df_voted.groupby('time')['helpfulrate'].mean())})"
   ]
  },
  {
   "cell_type": "markdown",
   "metadata": {},
   "source": [
    "#### OutOf (total votes)"
   ]
  },
  {
   "cell_type": "code",
   "execution_count": 18,
   "metadata": {},
   "outputs": [
    {
     "data": {
      "image/png": "[encoded data removed]",
      "text/plain": [
       "<Figure size 432x216 with 1 Axes>"
      ]
     },
     "metadata": {
      "needs_background": "light"
     },
     "output_type": "display_data"
    }
   ],
   "source": [
    "out = pd.cut(df_voted['outOf'], bins=[0,5,10,20,30,40],include_lowest=True)\n",
    "out_norm = out.value_counts(sort=False, normalize=True)\n",
    "ax = out_norm.plot.bar(figsize=(6,3),)\n",
    "plt.savefig('outof_voted.jpg')\n",
    "plt.show()"
   ]
  },
  {
   "cell_type": "code",
   "execution_count": 19,
   "metadata": {},
   "outputs": [
    {
     "data": {
      "text/html": [
       "<div>\n",
       "<style scoped>\n",
       "    .dataframe tbody tr th:only-of-type {\n",
       "        vertical-align: middle;\n",
       "    }\n",
       "\n",
       "    .dataframe tbody tr th {\n",
       "        vertical-align: top;\n",
       "    }\n",
       "\n",
       "    .dataframe thead th {\n",
       "        text-align: right;\n",
       "    }\n",
       "</style>\n",
       "<table border=\"1\" class=\"dataframe\">\n",
       "  <thead>\n",
       "    <tr style=\"text-align: right;\">\n",
       "      <th></th>\n",
       "      <th>Total_votes_range</th>\n",
       "      <th>counts</th>\n",
       "      <th>percentage</th>\n",
       "      <th>avgHelpfulrate</th>\n",
       "    </tr>\n",
       "  </thead>\n",
       "  <tbody>\n",
       "    <tr>\n",
       "      <th>0</th>\n",
       "      <td>(0, 5)</td>\n",
       "      <td>53025</td>\n",
       "      <td>0.8400</td>\n",
       "      <td>0.7652</td>\n",
       "    </tr>\n",
       "    <tr>\n",
       "      <th>1</th>\n",
       "      <td>(5, 10)</td>\n",
       "      <td>5322</td>\n",
       "      <td>0.0800</td>\n",
       "      <td>0.8554</td>\n",
       "    </tr>\n",
       "    <tr>\n",
       "      <th>2</th>\n",
       "      <td>(10, 15)</td>\n",
       "      <td>1854</td>\n",
       "      <td>0.0300</td>\n",
       "      <td>0.8855</td>\n",
       "    </tr>\n",
       "    <tr>\n",
       "      <th>3</th>\n",
       "      <td>(15, 20)</td>\n",
       "      <td>947</td>\n",
       "      <td>0.0200</td>\n",
       "      <td>0.8953</td>\n",
       "    </tr>\n",
       "    <tr>\n",
       "      <th>4</th>\n",
       "      <td>(20, 25)</td>\n",
       "      <td>576</td>\n",
       "      <td>0.0100</td>\n",
       "      <td>0.9054</td>\n",
       "    </tr>\n",
       "    <tr>\n",
       "      <th>5</th>\n",
       "      <td>(25, 30)</td>\n",
       "      <td>326</td>\n",
       "      <td>0.0100</td>\n",
       "      <td>0.9123</td>\n",
       "    </tr>\n",
       "    <tr>\n",
       "      <th>6</th>\n",
       "      <td>(30, 35)</td>\n",
       "      <td>224</td>\n",
       "      <td>0.0000</td>\n",
       "      <td>0.9228</td>\n",
       "    </tr>\n",
       "    <tr>\n",
       "      <th>7</th>\n",
       "      <td>(35, 40)</td>\n",
       "      <td>153</td>\n",
       "      <td>0.0000</td>\n",
       "      <td>0.9128</td>\n",
       "    </tr>\n",
       "    <tr>\n",
       "      <th>8</th>\n",
       "      <td>(40, 45)</td>\n",
       "      <td>106</td>\n",
       "      <td>0.0000</td>\n",
       "      <td>0.9404</td>\n",
       "    </tr>\n",
       "    <tr>\n",
       "      <th>9</th>\n",
       "      <td>(45, 50)</td>\n",
       "      <td>95</td>\n",
       "      <td>0.0000</td>\n",
       "      <td>0.9286</td>\n",
       "    </tr>\n",
       "    <tr>\n",
       "      <th>10</th>\n",
       "      <td>(50, 537)</td>\n",
       "      <td>388</td>\n",
       "      <td>0.0062</td>\n",
       "      <td>0.9281</td>\n",
       "    </tr>\n",
       "  </tbody>\n",
       "</table>\n",
       "</div>"
      ],
      "text/plain": [
       "   Total_votes_range  counts  percentage  avgHelpfulrate\n",
       "0             (0, 5)   53025      0.8400          0.7652\n",
       "1            (5, 10)    5322      0.0800          0.8554\n",
       "2           (10, 15)    1854      0.0300          0.8855\n",
       "3           (15, 20)     947      0.0200          0.8953\n",
       "4           (20, 25)     576      0.0100          0.9054\n",
       "5           (25, 30)     326      0.0100          0.9123\n",
       "6           (30, 35)     224      0.0000          0.9228\n",
       "7           (35, 40)     153      0.0000          0.9128\n",
       "8           (40, 45)     106      0.0000          0.9404\n",
       "9           (45, 50)      95      0.0000          0.9286\n",
       "10         (50, 537)     388      0.0062          0.9281"
      ]
     },
     "execution_count": 19,
     "metadata": {},
     "output_type": "execute_result"
    }
   ],
   "source": [
    "count=[]\n",
    "percentage=[]\n",
    "average=[]\n",
    "for r in range(5,55,5):\n",
    "    c= df_voted[(df_voted['outOf']<=r) & (df_voted['outOf']>r-5)]['helpfulrate'].count()\n",
    "    p = np.round(c/df_voted.shape[0],2)\n",
    "    m = np.round(df_voted[(df_voted['outOf']<=r) & (df_voted['outOf']>r-5)]['helpfulrate'].mean(),4)\n",
    "    \n",
    "    count.append(c)\n",
    "    percentage.append(p)\n",
    "    average.append(m)\n",
    "\n",
    "count.append(df_voted[df_voted['outOf']>50]['helpfulrate'].count())\n",
    "percentage.append(np.round(df_voted[df_voted['outOf']>50]['helpfulrate'].count()/df_voted.shape[0],4))\n",
    "average.append(np.round(df_voted[df_voted['outOf']>50]['helpfulrate'].mean(),4))\n",
    "\n",
    "\n",
    "range_list = [(a,a+5)for a in range(0,50,5)]\n",
    "max_outof=max(df_voted['outOf'])\n",
    "range_list.append((50,max_outof))\n",
    "outOf = pd.DataFrame({'Total_votes_range': range_list,'counts':count,'percentage':percentage,'avgHelpfulrate':average})\n",
    "outOf"
   ]
  },
  {
   "cell_type": "markdown",
   "metadata": {},
   "source": [
    "#### Review Length"
   ]
  },
  {
   "cell_type": "code",
   "execution_count": 20,
   "metadata": {},
   "outputs": [
    {
     "data": {
      "image/png": "[encoded data removed]",
      "text/plain": [
       "<Figure size 432x216 with 1 Axes>"
      ]
     },
     "metadata": {
      "needs_background": "light"
     },
     "output_type": "display_data"
    }
   ],
   "source": [
    "# count word frequency in review text . \n",
    "def get_review_length_feature(df):\n",
    "    \n",
    "    count=CountVectorizer(stop_words='english')\n",
    "    count.fit(df['reviewText'])\n",
    "    review_count=count.transform(df['reviewText'])\n",
    "    review_length = np.count_nonzero(review_count.toarray(),axis=1)\n",
    "    \n",
    "    return review_length\n",
    "review_length=get_review_length_feature(df_voted)\n",
    "df_voted['reviewLength']=review_length\n",
    "\n",
    "# Plot\n",
    "out = pd.cut(df_voted['reviewLength'], bins=[0, 10, 20, 30, 40, 50, 80, 120, 200,800],include_lowest=True)\n",
    "out_norm = out.value_counts(sort=False, normalize=True)\n",
    "ax = out_norm.plot.bar(figsize=(6,3))\n",
    "plt.xlabel('reviewLength')\n",
    "plt.ylabel('Percentage')\n",
    "plt.show()"
   ]
  },
  {
   "cell_type": "code",
   "execution_count": 21,
   "metadata": {},
   "outputs": [
    {
     "data": {
      "image/png": "[encoded data removed]",
      "text/plain": [
       "<Figure size 432x288 with 1 Axes>"
      ]
     },
     "metadata": {
      "needs_background": "light"
     },
     "output_type": "display_data"
    }
   ],
   "source": [
    "length_rate = df_voted[df_voted['reviewLength']<=100].groupby('reviewLength')['helpfulrate'].mean()\n",
    "plt.plot(length_rate)\n",
    "plt.title('Average helpfulrate over reviewlength')\n",
    "plt.xlabel('review length')\n",
    "plt.ylabel('Average helpfulrate')\n",
    "# plt.savefig('reviewlength_avgHelpfulrate_voted_all.pdf')\n",
    "plt.show()"
   ]
  },
  {
   "cell_type": "markdown",
   "metadata": {},
   "source": [
    "## Part 2. Modeling & Tuning"
   ]
  },
  {
   "cell_type": "markdown",
   "metadata": {},
   "source": [
    "### train validation split (0.4)"
   ]
  },
  {
   "cell_type": "code",
   "execution_count": 22,
   "metadata": {},
   "outputs": [],
   "source": [
    "train_val=list(readGz(\"train.json.gz\"))\n",
    "test=list(readGz(\"test_Helpful.json.gz\"))\n",
    "train,valid = train_test_split(train_val,test_size=0.4,random_state=10)"
   ]
  },
  {
   "cell_type": "code",
   "execution_count": 23,
   "metadata": {},
   "outputs": [
    {
     "name": "stdout",
     "output_type": "stream",
     "text": [
      "Training data size: 120000\n",
      "Validation data size: 80000\n",
      "Test data size: 14000\n"
     ]
    }
   ],
   "source": [
    "print('Training data size:',len(train))\n",
    "print('Validation data size:',len(valid))\n",
    "print('Test data size:',len(test))"
   ]
  },
  {
   "cell_type": "markdown",
   "metadata": {},
   "source": [
    "### Function for feature selection"
   ]
  },
  {
   "cell_type": "raw",
   "metadata": {},
   "source": [
    "Calculate every useful features. \n",
    "# itemAvgRating\n",
    "# userAvgRating\n",
    "# avgRating\n",
    "# userAvgHelpfulRate\n",
    "# itemAvgHelpfulRata\n",
    "# avgHelpfulRate\n",
    "# user_item_WordCounts\n",
    "# user_item_SentenceCounts\n",
    "# user_item_CharacterCounts  "
   ]
  },
  {
   "cell_type": "code",
   "execution_count": 24,
   "metadata": {},
   "outputs": [],
   "source": [
    "# Get item average rating.\n",
    "def get_average_rating(data):\n",
    "    \n",
    "    allRating=[]\n",
    "    itemRating=defaultdict(list)\n",
    "    userRating=defaultdict(list)\n",
    "\n",
    "    for l in data:\n",
    "        user,item,rating=l['reviewerID'],l['itemID'],l['rating']\n",
    "        allRating.append(rating)\n",
    "        itemRating[item].append(rating)\n",
    "        userRating[user].append(rating)\n",
    "       \n",
    "    itemAvgRating = {} \n",
    "    for item in itemRating:\n",
    "        itemAvgRating[item] = sum(itemRating[item])/len(itemRating[item])\n",
    "        \n",
    "    userAvgRating = {} \n",
    "    for user in userRating:\n",
    "        userAvgRating[user] = sum(userRating[user])/len(userRating[user])\n",
    "       \n",
    "  \n",
    "    avgRating = mean(allRating)\n",
    "    \n",
    "    return itemAvgRating,userAvgRating,avgRating"
   ]
  },
  {
   "cell_type": "code",
   "execution_count": 25,
   "metadata": {},
   "outputs": [],
   "source": [
    "# Get user average helpfulrate.\n",
    "def get_average_helpfulrate(data):\n",
    "    allHelpful = []\n",
    "    userHelpful=defaultdict(list)\n",
    "    itemHelpful=defaultdict(list)\n",
    "    for l in data:\n",
    "        item,user=l['itemID'],l['reviewerID']\n",
    "        userHelpful[user].append(l['helpful'])\n",
    "        itemHelpful[item].append(l['helpful'])\n",
    "        allHelpful.append(l['helpful'])\n",
    "        \n",
    "    # userAvgHelpfulRate\n",
    "    userAvgHelpfulRate = {}\n",
    "    for user in userHelpful:\n",
    "        totalOutOf_user = sum([x['outOf'] for x in userHelpful[user]])\n",
    "        if totalOutOf_user >0:\n",
    "            userAvgHelpfulRate[user] = sum([x['nHelpful'] for x in userHelpful[user]]) * 1.0 / totalOutOf_user\n",
    "        else:\n",
    "            userAvgHelpfulRate[user] = 0\n",
    "    # itemAvgHelpfulRate \n",
    "    itemAvgHelpfulRate = {}        \n",
    "    for item in itemHelpful:\n",
    "        totalOutOf_item = sum([x['outOf'] for x in itemHelpful[item]])\n",
    "        if totalOutOf_item >0:\n",
    "            itemAvgHelpfulRate[item] = sum([x['nHelpful'] for x in itemHelpful[item]]) * 1.0 / totalOutOf_item\n",
    "        else:\n",
    "            itemAvgHelpfulRate[item] = 0\n",
    "             \n",
    "    avgHelpfulRate = sum([x['nHelpful'] for x in allHelpful]) * 1.0 / sum([x['outOf'] for x in allHelpful])\n",
    "    \n",
    "    return userAvgHelpfulRate, itemAvgHelpfulRate, avgHelpfulRate"
   ]
  },
  {
   "cell_type": "code",
   "execution_count": 26,
   "metadata": {},
   "outputs": [],
   "source": [
    "# Minmun and maximum review time.\n",
    "def get_time_range(data):\n",
    "    time=[]\n",
    "    for l in data:\n",
    "        time.append(int(l['reviewTime'][-4:]))\n",
    "       \n",
    "    return min(time), max(time)"
   ]
  },
  {
   "cell_type": "code",
   "execution_count": 27,
   "metadata": {},
   "outputs": [],
   "source": [
    "# Get review length. \n",
    "def reviewCounts(data):  \n",
    "    user_item_WordCounts={}\n",
    "    user_item_SentenceCounts={}\n",
    "    user_item_CharacterCounts={}\n",
    "    user_item_Exclamations={}\n",
    "    user_item_Allcaps={}\n",
    "    \n",
    "    for l in data:\n",
    "        user,item,review = l['reviewerID'],l['itemID'],l['reviewText']\n",
    "        words = review.split()\n",
    "        user_item_WordCounts[user,item]=len(words)\n",
    "        user_item_SentenceCounts[user,item]=len(review.split(\".\"))\n",
    "        user_item_CharacterCounts[user,item]=len(review)\n",
    "        user_item_Exclamations[user,item]=len([w for w in words if w == '!'])\n",
    "        user_item_Allcaps[user,item]=allcap_differential(words)\n",
    "\n",
    "    return user_item_WordCounts, user_item_SentenceCounts,\\\n",
    "           user_item_CharacterCounts, user_item_Exclamations,user_item_Allcaps\n"
   ]
  },
  {
   "cell_type": "code",
   "execution_count": 28,
   "metadata": {},
   "outputs": [],
   "source": [
    "# Get helpful review text average counts.(words, sentences, allCaps, Exclamations)\n",
    "def get_helpful_review_average_counts(data,min_outof):\n",
    "    allWordCounts=[]\n",
    "    allSentenceCounts=[]\n",
    "    allCharacterCounts=[]\n",
    "    allExclamationCounts=[]\n",
    "    for l in data:\n",
    "        user,item,review = l['reviewerID'],l['itemID'],l['reviewText']\n",
    "        if l['helpful']['outOf']>min_outof:\n",
    "            review=l['reviewText']\n",
    "            words = review.split()\n",
    "            allWordCounts.append(len(words))\n",
    "            allSentenceCounts.append(len(review.split(\".\")))\n",
    "            allCharacterCounts.append(len(review))\n",
    "            allExclamationCounts.append(len([w for w in words if w == '!']))\n",
    "            \n",
    "    avgWordCounts= mean(allWordCounts)\n",
    "    avgSentenceCounts= mean(allSentenceCounts)\n",
    "    avgCharacterCounts= mean(allCharacterCounts)\n",
    "    avgExclamationCounts= mean(allExclamationCounts)\n",
    "    \n",
    "    maxWordCounts=max(allWordCounts)\n",
    "    maxCharacterCounts=max(allCharacterCounts)\n",
    "\n",
    "    return avgWordCounts,avgSentenceCounts,\\\n",
    "           avgCharacterCounts, avgExclamationCounts,\\\n",
    "           maxWordCounts,maxCharacterCounts"
   ]
  },
  {
   "cell_type": "code",
   "execution_count": 29,
   "metadata": {},
   "outputs": [],
   "source": [
    "# Vectorize review text.\n",
    "def get_tfidf(data,minOutOf,num_max_features):\n",
    "    '''\n",
    "    Use tfidf vectorize helpful reviews.\n",
    "    '''\n",
    "    helpful_reviews=[l['reviewText'] for l in data if l['helpful']['outOf']>minOutOf]\n",
    "    # Tfidf\n",
    "    tfidf = TfidfVectorizer(max_features=num_max_features,use_idf=True,stop_words='english')\n",
    "    tfidf.fit(helpful_reviews)\n",
    "    transformed_data = tfidf.transform(helpful_reviews).toarray()\n",
    "    helpful_words = tfidf.get_feature_names()\n",
    "            \n",
    "    return tfidf,helpful_words"
   ]
  },
  {
   "cell_type": "markdown",
   "metadata": {},
   "source": [
    "### Feature selection"
   ]
  },
  {
   "cell_type": "code",
   "execution_count": 31,
   "metadata": {},
   "outputs": [],
   "source": [
    "# Append feature to a list. \n",
    "def addFeature(l): # each line\n",
    "\n",
    "    f=[]\n",
    "    user,item,outOf,time=l['reviewerID'],l['itemID'],l['helpful']['outOf'],int(l['reviewTime'][-4:])\n",
    "            \n",
    "    # Append \"rating\" features.\n",
    "    f.append(l['rating'])\n",
    "    f.append(l['rating']/5)\n",
    "    f.append(np.abs(l['rating']-avgRating))\n",
    "#     f.append(l['categoryID'])\n",
    "    f.append(outOf)\n",
    "            \n",
    "    # Append \"review counts\" features.\n",
    "    f.append(user_item_WordCounts[user,item]/maxWordCounts)# or /maxWordCounts\n",
    "#     f.append(user_item_SentenceCounts[user,item])\n",
    "#     f.append(user_item_CharacterCounts[user,item]) \n",
    "    f.append(user_item_Allcaps[user,item])\n",
    "    f.append(user_item_Exclamations[user,item])\n",
    "    \n",
    "    # Append \"Time\" features. (one-hot encoding)\n",
    "    for i in range(minY,maxY+1):\n",
    "        f.append(1 if time==i else 0)\n",
    "    \n",
    "            \n",
    "    # Append \"outOf\" features. (one-hot encoding)\n",
    "#     f.append(1 if outOf <=10 else 0)\n",
    "#     f.append(1 if outOf <=20 and outOf > 10 else 0)\n",
    "#     f.append(1 if outOf <=40 and outOf > 20 else 0)\n",
    "#     f.append(1 if outOf <=80 and outOf > 40 else 0)\n",
    "#     f.append(1 if outOf <=150 and outOf > 80 else 0)\n",
    "#     f.append(1 if outOf > 150 else 0)\n",
    "\n",
    "\n",
    "#     f.append(1 if outOf >0 and outOf <=5 else 0)\n",
    "#     f.append(1 if outOf >0 and outOf <=1 else 0)\n",
    "    f.append(1 if outOf >0 and outOf <=2 else 0)\n",
    "    f.append(1 if outOf >2 and outOf <=5 else 0)\n",
    "    f.append(1 if outOf >5 and outOf <=10 else 0)\n",
    "    f.append(1 if outOf >10 and outOf <=30 else 0)\n",
    "    f.append(1 if outOf >30 and outOf <=50 else 0)\n",
    "    f.append(1 if outOf >50 and outOf <=80 else 0)\n",
    "    f.append(1 if outOf >80 and outOf <=120 else 0)\n",
    "    f.append(1 if outOf >120 else 0)\n",
    "    \n",
    "    return f\n",
    "  "
   ]
  },
  {
   "cell_type": "markdown",
   "metadata": {},
   "source": [
    "### Training data shaping"
   ]
  },
  {
   "cell_type": "code",
   "execution_count": 32,
   "metadata": {},
   "outputs": [],
   "source": [
    "def Train(data,minOut,maxOut):\n",
    "    \n",
    "\n",
    "    X=[] #nested_list\n",
    "    outOf=[] \n",
    "    nHelpful=[]\n",
    "    helpfulrate=[] #y=helpfulrate\n",
    "    \n",
    "    X2=[]\n",
    "    outOf2=[]\n",
    "    nHelpful2=[]\n",
    "    helpfulrate2=[]\n",
    "    \n",
    "    for l in data:        \n",
    "        \n",
    "        user,item,out = l['reviewerID'],l['itemID'],l['helpful']['outOf']\n",
    "        \n",
    "        if out>=minOut and out<=maxOut:\n",
    "            \n",
    "            # commom features.\n",
    "            f=addFeature(l)\n",
    "            X.append(f)\n",
    "               \n",
    "            # outOf    \n",
    "            outOf.append(l['helpful']['outOf'])            \n",
    "            # nHelpful\n",
    "            nHelpful.append(l['helpful']['nHelpful'])          \n",
    "            # helpfulrate\n",
    "            if l['helpful']['outOf']>0:\n",
    "                helpfulrate.append(l['helpful']['nHelpful']/l['helpful']['outOf'])\n",
    "            else:\n",
    "                helpfulrate.append(0)\n",
    "                \n",
    "            \n",
    "                \n",
    "        elif out>maxOut:\n",
    "            \n",
    "            # common feature\n",
    "            f2=addFeature(l)\n",
    "            # Append review tfidf \n",
    "            review_tfidf = tfidf.transform([l['reviewText']]).toarray()\n",
    "            for value in review_tfidf[0]:\n",
    "                f2.append(value)\n",
    "            X2.append(f2)\n",
    "            \n",
    "            # outOf\n",
    "            outOf2.append(l['helpful']['outOf'])\n",
    "    \n",
    "            # nHelpful\n",
    "            nHelpful2.append(l['helpful']['nHelpful'])\n",
    "            \n",
    "            # helpfulrate                        \n",
    "            if l['helpful']['outOf']>0:\n",
    "                helpfulrate2.append(l['helpful']['nHelpful']/l['helpful']['outOf'])\n",
    "            else:\n",
    "                helpfulrate2.append(0)\n",
    "                \n",
    "                            \n",
    "        \n",
    "    return X, helpfulrate, outOf, nHelpful,\\\n",
    "           X2, helpfulrate2, outOf2, nHelpful2\n",
    "\n",
    "\n"
   ]
  },
  {
   "cell_type": "markdown",
   "metadata": {},
   "source": [
    "### Validation data shaping"
   ]
  },
  {
   "cell_type": "code",
   "execution_count": 33,
   "metadata": {},
   "outputs": [],
   "source": [
    "def Valid(data,minOut,maxOut):\n",
    "    \n",
    "\n",
    "    X=[] #nested_list\n",
    "    outOf=[] \n",
    "    nHelpful=[]\n",
    "    helpfulrate=[] #y=helpfulrate\n",
    "    \n",
    "    X2=[]\n",
    "    outOf2=[]\n",
    "    nHelpful2=[]\n",
    "    helpfulrate2=[]\n",
    "    \n",
    "    for l in data:\n",
    "        user,item,out = l['reviewerID'],l['itemID'],l['helpful']['outOf']\n",
    "\n",
    "        if out>=minOut and out<=maxOut:\n",
    "            \n",
    "            # commom features.\n",
    "            f=addFeature(l)\n",
    "            X.append(f)\n",
    "                \n",
    "            # outOf    \n",
    "            outOf.append(l['helpful']['outOf'])\n",
    "            \n",
    "            # nHelpful\n",
    "            nHelpful.append(l['helpful']['nHelpful'])\n",
    "            \n",
    "            # helpfulrate\n",
    "            if l['helpful']['outOf']>0:\n",
    "                helpfulrate.append(l['helpful']['nHelpful']/l['helpful']['outOf'])\n",
    "            else:\n",
    "                helpfulrate.append(0)\n",
    "                \n",
    "        elif out>maxOut:\n",
    "            \n",
    "            # common feature\n",
    "            f2=addFeature(l)\n",
    "            # Append review tfidf \n",
    "            review_tfidf = tfidf.transform([l['reviewText']]).toarray()\n",
    "            for value in review_tfidf[0]:\n",
    "                f2.append(value)\n",
    "            X2.append(f2)\n",
    "            \n",
    "            # outOf\n",
    "            outOf2.append(l['helpful']['outOf'])\n",
    "    \n",
    "            # nHelpful\n",
    "            nHelpful2.append(l['helpful']['nHelpful'])\n",
    "            \n",
    "            # helpfulrate                        \n",
    "            if l['helpful']['outOf']>0:\n",
    "                helpfulrate2.append(l['helpful']['nHelpful']/l['helpful']['outOf'])\n",
    "            else:\n",
    "                helpfulrate2.append(0)\n",
    "                           \n",
    "        \n",
    "    return X, helpfulrate, outOf, nHelpful,\\\n",
    "           X2, helpfulrate2, outOf2, nHelpful2\n",
    "\n"
   ]
  },
  {
   "cell_type": "markdown",
   "metadata": {},
   "source": [
    "### Test data shaping"
   ]
  },
  {
   "cell_type": "code",
   "execution_count": 34,
   "metadata": {},
   "outputs": [],
   "source": [
    "def TEST(data,minOut,maxOut):\n",
    "\n",
    "\n",
    "    X={}\n",
    "    outOf={} \n",
    "    X2={}\n",
    "\n",
    "    for l in data:\n",
    "       \n",
    "        user,item,out = l['reviewerID'],l['itemID'],l['helpful']['outOf']\n",
    "    \n",
    "        if out>=minOut and out<=maxOut:\n",
    "            f=addFeature(l)  \n",
    "            X[user,item]=f\n",
    "\n",
    "        elif out>maxOut:\n",
    "            f2=addFeature(l)\n",
    "            # Append review tfidf \n",
    "            review_tfidf = tfidf.transform([l['reviewText']]).toarray()\n",
    "            for value in review_tfidf[0]:\n",
    "                f2.append(value)\n",
    "            X2[user,item]=f2\n",
    "        outOf[user,item]=l['helpful']['outOf']\n",
    "                                         \n",
    "    return X, X2, outOf"
   ]
  },
  {
   "cell_type": "markdown",
   "metadata": {},
   "source": [
    "### Model 1 - For group_1 data"
   ]
  },
  {
   "cell_type": "code",
   "execution_count": 44,
   "metadata": {},
   "outputs": [],
   "source": [
    "def model_1(X_train_1,y_train_1,X_valid_1,y_valid_1,nHelpful_valid_1,outOf_valid_1):\n",
    "#     clf1= Ridge(alpha=1,normalize=False,fit_intercept =True, solver='auto')\n",
    "#     clf1.fit(X_train_1,y_train_1)\n",
    "    clf1 = ElasticNetCV(cv=5,l1_ratio=0.8,random_state=0)\n",
    "    clf1.fit(X_train_1, y_train_1)\n",
    "\n",
    "#     clf1 = RidgeCV(alphas=[1e-3, 1e-2, 1e-1, 1,10,100])\n",
    "#     clf1.fit(X_train_1,y_train_1)\n",
    "\n",
    "#     clf1= RandomForestRegressor(n_estimators=200,max_features=f,max_depth=d)\n",
    "#     clf1.fit(X_train_1,y_train_1)\n",
    "\n",
    "    predict1 = clf1.predict(X_valid_1)\n",
    "    pred_nHelful_1 = [np.rint(a*b) for a,b in zip(outOf_valid_1,predict1)]\n",
    "\n",
    "    mae1 = mean_absolute_error(nHelpful_valid_1,pred_nHelful_1)\n",
    "    \n",
    "    return mae1,pred_nHelful_1"
   ]
  },
  {
   "cell_type": "markdown",
   "metadata": {},
   "source": [
    "### Model 2- For group_2 data"
   ]
  },
  {
   "cell_type": "code",
   "execution_count": 35,
   "metadata": {},
   "outputs": [],
   "source": [
    "def model_2(X_train_2,y_train_2,X_valid_2,y_valid_2,nHelpful_valid_2,outOf_valid_2):\n",
    "    clf2= Ridge(alpha=5,normalize=False, fit_intercept = True, solver='auto')\n",
    "    clf2.fit(X_train_2,y_train_2)\n",
    "\n",
    "#     clf2 = ElasticNet(alpha=5,random_state=0)\n",
    "#     clf2.fit(X_train_2,y_train_2)\n",
    "\n",
    "#     clf2 = ElasticNetCV(cv=5,l1_ratio=0.8,random_state=0)\n",
    "#     clf2.fit(X_train_2, y_train_2)\n",
    "\n",
    "    predict2 = clf2.predict(X_valid_2)\n",
    "    pred_nHelful_2 = [np.rint(a*b) for a,b in zip(outOf_valid_2,predict2)]\n",
    "\n",
    "    mae2 = mean_absolute_error(nHelpful_valid_2,pred_nHelful_2)\n",
    "    \n",
    "    return mae2,pred_nHelful_2"
   ]
  },
  {
   "cell_type": "markdown",
   "metadata": {},
   "source": [
    "### Train_validation "
   ]
  },
  {
   "cell_type": "code",
   "execution_count": 37,
   "metadata": {},
   "outputs": [],
   "source": [
    "# Train data\n",
    "itemAvgRating,userAvgRating,avgRating=get_average_rating(train)\n",
    "userAvgHelpfulRate, itemAvgHelpfulRate, avgHelpfulRate=get_average_helpfulrate(train)\n",
    "minY,maxY= get_time_range(train)\n",
    "user_item_WordCounts,user_item_SentenceCounts,user_item_CharacterCounts,\\\n",
    "user_item_Exclamations,user_item_Allcaps=reviewCounts(train)"
   ]
  },
  {
   "cell_type": "code",
   "execution_count": 38,
   "metadata": {},
   "outputs": [],
   "source": [
    "minOutOf=30\n",
    "words_features=5000"
   ]
  },
  {
   "cell_type": "code",
   "execution_count": 39,
   "metadata": {},
   "outputs": [],
   "source": [
    "avgWordCounts,avgSentenceCounts,\\\n",
    "avgCharacterCounts, avgExclamationCounts,\\\n",
    "maxWordCounts,maxCharacterCounts=get_helpful_review_average_counts(train,minOutOf)\n",
    "\n",
    "tfidf,helpful_words= get_tfidf(train,minOutOf,words_features)"
   ]
  },
  {
   "cell_type": "code",
   "execution_count": 40,
   "metadata": {},
   "outputs": [],
   "source": [
    "minOut= 1\n",
    "maxOut= 30"
   ]
  },
  {
   "cell_type": "code",
   "execution_count": 41,
   "metadata": {},
   "outputs": [],
   "source": [
    "user_item_WordCounts,user_item_SentenceCounts,user_item_CharacterCounts,\\\n",
    "user_item_Exclamations,user_item_Allcaps=reviewCounts(train)\n",
    "\n",
    "X_train_1, y_train_1, nHelpful_train_1, outOf_train_1,\\\n",
    "X_train_2, y_train_2, nHelpful_train_2, outOf_train_2 =Train(train,minOut,maxOut)"
   ]
  },
  {
   "cell_type": "code",
   "execution_count": 42,
   "metadata": {},
   "outputs": [],
   "source": [
    "user_item_WordCounts,user_item_SentenceCounts,user_item_CharacterCounts,\\\n",
    "user_item_Exclamations,user_item_Allcaps=reviewCounts(valid)\n",
    "\n",
    "X_valid_1, y_valid_1, nHelpful_valid_1, outOf_valid_1,\\\n",
    "X_valid_2, y_valid_2, nHelpful_valid_2, outOf_valid_2 = Valid(valid,minOut,maxOut)"
   ]
  },
  {
   "cell_type": "code",
   "execution_count": 45,
   "metadata": {},
   "outputs": [],
   "source": [
    "mae1,pred_nHelful_1=model_1(X_train_1,y_train_1,X_valid_1,y_valid_1,nHelpful_valid_1,outOf_valid_1)\n",
    "mae2,pred_nHelful_2=model_2(X_train_2,y_train_2,X_valid_2,y_valid_2,nHelpful_valid_2,outOf_valid_2)"
   ]
  },
  {
   "cell_type": "code",
   "execution_count": 46,
   "metadata": {},
   "outputs": [],
   "source": [
    "diff1=sum([np.abs(a-b) for a,b in zip(nHelpful_valid_1,pred_nHelful_1)])\n",
    "diff2= sum([np.abs(a-b) for a,b in zip(nHelpful_valid_2,pred_nHelful_2)])\n",
    "mae = (diff1+diff2)/len(valid)\n",
    "# print('diff1:',diff1)\n",
    "# print('diff2:',diff2)\n",
    "# print(diff1+diff2)"
   ]
  },
  {
   "cell_type": "code",
   "execution_count": 47,
   "metadata": {},
   "outputs": [
    {
     "name": "stdout",
     "output_type": "stream",
     "text": [
      "MAE of model_1: 0.5796648679352456\n",
      "MAE of model_2: 3.0965364775239497\n",
      "MAE of validation: 0.31065\n"
     ]
    }
   ],
   "source": [
    "print(\"MAE of model_1:\",mae1)\n",
    "print(\"MAE of model_2:\",mae2)\n",
    "print(\"MAE of validation:\",mae)"
   ]
  },
  {
   "cell_type": "markdown",
   "metadata": {},
   "source": [
    "### Train model on 'Train+Validation' dataset"
   ]
  },
  {
   "cell_type": "code",
   "execution_count": 48,
   "metadata": {},
   "outputs": [],
   "source": [
    "# train_val\n",
    "user_item_WordCounts,user_item_SentenceCounts,user_item_CharacterCounts,\\\n",
    "user_item_Exclamations,user_item_Allcaps=reviewCounts(train_val)\n",
    "minY,maxY= get_time_range(train_val)\n",
    "# tfidf\n",
    "tfidf,helpful_words= get_tfidf(train_val,minOutOf,words_features)\n",
    "# data\n",
    "X_1, y_1, nHelpful_1, outOf_1,\\\n",
    "X_2, y_2, nHelpful_2, outOf_2 =Train(train_val,minOut,maxOut)"
   ]
  },
  {
   "cell_type": "markdown",
   "metadata": {},
   "source": [
    "#### model_1"
   ]
  },
  {
   "cell_type": "code",
   "execution_count": 49,
   "metadata": {},
   "outputs": [
    {
     "data": {
      "text/plain": [
       "ElasticNetCV(alphas=None, copy_X=True, cv=5, eps=0.001, fit_intercept=True,\n",
       "             l1_ratio=0.8, max_iter=1000, n_alphas=100, n_jobs=None,\n",
       "             normalize=False, positive=False, precompute='auto', random_state=0,\n",
       "             selection='cyclic', tol=0.0001, verbose=0)"
      ]
     },
     "execution_count": 49,
     "metadata": {},
     "output_type": "execute_result"
    }
   ],
   "source": [
    "clf1 = ElasticNetCV(cv=5,l1_ratio=0.8,random_state=0)\n",
    "clf1.fit(X_1,y_1)"
   ]
  },
  {
   "cell_type": "markdown",
   "metadata": {},
   "source": [
    "#### model_2"
   ]
  },
  {
   "cell_type": "code",
   "execution_count": 50,
   "metadata": {},
   "outputs": [
    {
     "data": {
      "text/plain": [
       "Ridge(alpha=5, copy_X=True, fit_intercept=True, max_iter=None, normalize=False,\n",
       "      random_state=None, solver='auto', tol=0.001)"
      ]
     },
     "execution_count": 50,
     "metadata": {},
     "output_type": "execute_result"
    }
   ],
   "source": [
    "clf2= Ridge(alpha=5,normalize=False, fit_intercept = True, solver='auto')\n",
    "clf2.fit(X_2,y_2)"
   ]
  },
  {
   "cell_type": "markdown",
   "metadata": {},
   "source": [
    "### Test"
   ]
  },
  {
   "cell_type": "code",
   "execution_count": 51,
   "metadata": {},
   "outputs": [],
   "source": [
    "# test\n",
    "user_item_WordCounts,user_item_SentenceCounts,user_item_CharacterCounts,\\\n",
    "user_item_Exclamations,user_item_Allcaps=reviewCounts(test)\n",
    "\n",
    "X_test, X2_test, outOf_test =TEST(test,minOut,maxOut)"
   ]
  },
  {
   "cell_type": "code",
   "execution_count": 52,
   "metadata": {},
   "outputs": [],
   "source": [
    "predictions={}\n",
    "for l in test:\n",
    "    user,item,out=l['reviewerID'],l['itemID'],l['helpful']['outOf']\n",
    "    if out==0:\n",
    "        predictions[user,item]=0  \n",
    "    if out>=minOut and out<=maxOut:\n",
    "        pred=clf1.predict([X_test[user,item]])*outOf_test[user,item]\n",
    "        predictions[user,item]= np.rint(pred[0])\n",
    "    if out>maxOut:\n",
    "        pred=clf2.predict([X2_test[user,item]])*outOf_test[user,item]\n",
    "        predictions[user,item]= np.rint(pred[0])\n",
    "        "
   ]
  },
  {
   "cell_type": "code",
   "execution_count": 55,
   "metadata": {},
   "outputs": [],
   "source": [
    "PRED = open(\"predictions_Helpful_2.txt\", 'w')\n",
    "\n",
    "for l in open(\"pairs_Helpful.txt\"):\n",
    "    if l.startswith(\"userID\"):\n",
    "        #header\n",
    "        PRED.write(l)\n",
    "        continue\n",
    "    u,i,outOf = l.strip().split('-')\n",
    "    outOf = int(outOf)\n",
    "    PRED.write(u + '-' + i + '-' + str(outOf) + ',' + str(predictions[u,i]) + '\\n')\n",
    "    \n",
    "PRED.close()"
   ]
  },
  {
   "cell_type": "code",
   "execution_count": null,
   "metadata": {},
   "outputs": [],
   "source": []
  }
 ],
 "metadata": {
  "kernelspec": {
   "display_name": "Python 3",
   "language": "python",
   "name": "python3"
  },
  "language_info": {
   "codemirror_mode": {
    "name": "ipython",
    "version": 3
   },
   "file_extension": ".py",
   "mimetype": "text/x-python",
   "name": "python",
   "nbconvert_exporter": "python",
   "pygments_lexer": "ipython3",
   "version": "3.6.6"
  }
 },
 "nbformat": 4,
 "nbformat_minor": 2
}
