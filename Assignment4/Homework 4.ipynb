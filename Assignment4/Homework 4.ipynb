{
 "cells": [
  {
   "cell_type": "markdown",
   "metadata": {},
   "source": [
    "# DSE 220 Homework 4 "
   ]
  },
  {
   "cell_type": "markdown",
   "metadata": {},
   "source": [
    "### Load Libraries "
   ]
  },
  {
   "cell_type": "code",
   "execution_count": 2,
   "metadata": {},
   "outputs": [],
   "source": [
    "import numpy as np\n",
    "import pandas as pd\n",
    "import nltk\n",
    "import string\n",
    "from nltk.corpus import brown\n",
    "from nltk.corpus import stopwords\n",
    "from collections import Counter\n",
    "from math import log\n",
    "\n",
    "from sklearn.decomposition import PCA\n",
    "from sklearn.cluster import KMeans\n",
    "from sklearn.cluster import AgglomerativeClustering\n",
    "from sklearn.metrics import pairwise_distances\n",
    "from sklearn.metrics import silhouette_score\n",
    "from sklearn.metrics import davies_bouldin_score\n"
   ]
  },
  {
   "cell_type": "markdown",
   "metadata": {},
   "source": [
    "### Q1\n",
    "Load data."
   ]
  },
  {
   "cell_type": "code",
   "execution_count": 3,
   "metadata": {},
   "outputs": [],
   "source": [
    "# Brown_words. \n",
    "text = brown.words()\n",
    "\n",
    "# Convert to lowercase.\n",
    "lower_words = [word.lower() for word in text]"
   ]
  },
  {
   "cell_type": "code",
   "execution_count": null,
   "metadata": {},
   "outputs": [],
   "source": []
  },
  {
   "cell_type": "markdown",
   "metadata": {},
   "source": [
    "### Q2\n",
    "Data Preparation."
   ]
  },
  {
   "cell_type": "code",
   "execution_count": 3,
   "metadata": {},
   "outputs": [],
   "source": [
    "# Remove stop words and punctuations. \n",
    "stop_words = stopwords.words('english')\n",
    "punctuations = list(string.punctuation)\n",
    "useless_words = stop_words + punctuations\n",
    "# words = [word for word in lower_words if word not in useless_words]\n",
    "words = [word for word in lower_words if word not in useless_words and word.isalnum()]"
   ]
  },
  {
   "cell_type": "code",
   "execution_count": 4,
   "metadata": {},
   "outputs": [
    {
     "name": "stdout",
     "output_type": "stream",
     "text": [
      "Number of words after cleaning: 515882\n"
     ]
    }
   ],
   "source": [
    "# Number of words after removing stopwords and punctuations.\n",
    "print('Number of words after cleaning:',len(words))"
   ]
  },
  {
   "cell_type": "code",
   "execution_count": 5,
   "metadata": {},
   "outputs": [],
   "source": [
    "# Counting frequencies of words.\n",
    "word_count = Counter(words)\n",
    "\n",
    "# 5000 of most commonly-occuring words.\n",
    "V_counts_dict = dict(word_count.most_common()[:5000])\n",
    "V = list(V_counts_dict.keys())\n",
    "\n",
    "# Context words: 1000 of most commonly-occuring words.\n",
    "C_counts_dict = dict(word_count.most_common()[:1000])\n",
    "C = list(C_counts_dict.keys())\n"
   ]
  },
  {
   "cell_type": "markdown",
   "metadata": {},
   "source": [
    "### Q3\n",
    "\n",
    "Overall distribution of context words (Distributions over C):\n",
    "\n",
    "$Pr(c)=\\frac{count(c_{j})}{count(c)}$"
   ]
  },
  {
   "cell_type": "code",
   "execution_count": 6,
   "metadata": {},
   "outputs": [],
   "source": [
    "def Pr_c(C_counts_dict):\n",
    "    \"\"\"\n",
    "    Overall distribution of context words.\n",
    "    \"\"\"\n",
    "    total_C_counts = sum(C_counts_dict.values())\n",
    "    pr_c_dict = dict([(k, v/total_C_counts) for k,v in C_counts_dict.items()])\n",
    "    \n",
    "    return pr_c_dict"
   ]
  },
  {
   "cell_type": "code",
   "execution_count": 7,
   "metadata": {},
   "outputs": [],
   "source": [
    "# Pr(c)\n",
    "pr_c_dict = Pr_c(C_counts_dict)"
   ]
  },
  {
   "cell_type": "markdown",
   "metadata": {},
   "source": [
    "Probability of context words around $w$: \n",
    "\n",
    "$Pr(c|w)=\\frac{count(c,w)}{count(w)}$"
   ]
  },
  {
   "cell_type": "code",
   "execution_count": 8,
   "metadata": {},
   "outputs": [],
   "source": [
    "def WINDOW(index):\n",
    "    \"\"\"\n",
    "    Get surrounding window of four words indices.\n",
    "    \"\"\"\n",
    "    return [index-2,index-1,index+1,index+2]      "
   ]
  },
  {
   "cell_type": "code",
   "execution_count": 9,
   "metadata": {},
   "outputs": [],
   "source": [
    "\n",
    "def COUNT(words,V,C):\n",
    "    \"\"\"\n",
    "    Count the number of times c occurs in a window around word w.\n",
    "    \"\"\"\n",
    "    CW_counts_dict={}\n",
    "    \n",
    "    for w in V:\n",
    "        CW_counts_dict[w]={}\n",
    "\n",
    "        for c in C:\n",
    "            CW_counts_dict[w][c]=0\n",
    "                    \n",
    "    for index in range(len(words)):\n",
    "        if words[index] in V:\n",
    "            w = words[index]            \n",
    "            window_index = WINDOW(index)\n",
    "            \n",
    "            for item in window_index:\n",
    "                if item in range(len(words)):\n",
    "                    if words[item] in C:\n",
    "                        c = words[item]\n",
    "                        CW_counts_dict[w][c]+=1\n",
    "    \n",
    "    return CW_counts_dict\n"
   ]
  },
  {
   "cell_type": "code",
   "execution_count": 10,
   "metadata": {},
   "outputs": [],
   "source": [
    "def Pr_cw(V_counts_dict, CW_counts_dict):\n",
    "    \"\"\"\n",
    "    Probability of context words c around w. \n",
    "    \"\"\"\n",
    "    # Probability of \n",
    "    pr_cw_dict={}\n",
    "    for w in V:\n",
    "        pr_cw_dict[w]={}\n",
    "        for c in C:\n",
    "            pr_cw_dict[w][c]=CW_counts_dict[w][c]/V_counts_dict[w]   \n",
    "    \n",
    "    return pr_cw_dict\n"
   ]
  },
  {
   "cell_type": "code",
   "execution_count": 11,
   "metadata": {},
   "outputs": [],
   "source": [
    "# Pr(c|w)\n",
    "n_wc_dict = COUNT(words,V,C)\n",
    "pr_cw_dict = Pr_cw(V_counts_dict, n_wc_dict)"
   ]
  },
  {
   "cell_type": "code",
   "execution_count": 12,
   "metadata": {},
   "outputs": [],
   "source": [
    "# n_wc_df = pd.DataFrame(n_wc_dict).T\n",
    "# n_wc_df.head(5)"
   ]
  },
  {
   "cell_type": "markdown",
   "metadata": {},
   "source": [
    "### Q4\n",
    "\n",
    "Represent each vocabulary item w by a |C|-dimensional vector $\\phi(w)$:\n",
    "\n",
    "$\\phi(w)=max(0, log\\frac{Pr(c|w)}{Pr(c)})$"
   ]
  },
  {
   "cell_type": "code",
   "execution_count": 13,
   "metadata": {},
   "outputs": [],
   "source": [
    "def Phi(pr_cw,pr_c):\n",
    "    phi={}\n",
    "    for w in V:\n",
    "        phi[w]={}\n",
    "        for c in C:\n",
    "            if pr_cw[w][c]/pr_c[c]>1:\n",
    "                phi[w][c]=log(pr_cw[w][c]/pr_c[c])\n",
    "            else:\n",
    "                phi[w][c]=0            \n",
    "    return phi"
   ]
  },
  {
   "cell_type": "code",
   "execution_count": 14,
   "metadata": {},
   "outputs": [],
   "source": [
    "# Dictionary of phi_w.\n",
    "phi=Phi(pr_cw_dict,pr_c_dict)"
   ]
  },
  {
   "cell_type": "code",
   "execution_count": 15,
   "metadata": {},
   "outputs": [],
   "source": [
    "# Convert phi_w dictionary to dataframe(5000*1000). \n",
    "phi_df = pd.DataFrame(phi).T"
   ]
  },
  {
   "cell_type": "markdown",
   "metadata": {},
   "source": [
    "### Q5:  \n",
    "100-dimentional representation."
   ]
  },
  {
   "cell_type": "code",
   "execution_count": 16,
   "metadata": {},
   "outputs": [],
   "source": [
    "pca = PCA(n_components=100)\n",
    "phi_transformed = pca.fit_transform(phi_df)\n",
    "phi_transformed_df = pd.DataFrame(phi_transformed,index=V)"
   ]
  },
  {
   "cell_type": "code",
   "execution_count": 17,
   "metadata": {},
   "outputs": [
    {
     "data": {
      "text/html": [
       "<div>\n",
       "<style scoped>\n",
       "    .dataframe tbody tr th:only-of-type {\n",
       "        vertical-align: middle;\n",
       "    }\n",
       "\n",
       "    .dataframe tbody tr th {\n",
       "        vertical-align: top;\n",
       "    }\n",
       "\n",
       "    .dataframe thead th {\n",
       "        text-align: right;\n",
       "    }\n",
       "</style>\n",
       "<table border=\"1\" class=\"dataframe\">\n",
       "  <thead>\n",
       "    <tr style=\"text-align: right;\">\n",
       "      <th></th>\n",
       "      <th>0</th>\n",
       "      <th>1</th>\n",
       "      <th>2</th>\n",
       "      <th>3</th>\n",
       "      <th>4</th>\n",
       "      <th>5</th>\n",
       "      <th>6</th>\n",
       "      <th>7</th>\n",
       "      <th>8</th>\n",
       "      <th>9</th>\n",
       "      <th>...</th>\n",
       "      <th>90</th>\n",
       "      <th>91</th>\n",
       "      <th>92</th>\n",
       "      <th>93</th>\n",
       "      <th>94</th>\n",
       "      <th>95</th>\n",
       "      <th>96</th>\n",
       "      <th>97</th>\n",
       "      <th>98</th>\n",
       "      <th>99</th>\n",
       "    </tr>\n",
       "  </thead>\n",
       "  <tbody>\n",
       "    <tr>\n",
       "      <th>one</th>\n",
       "      <td>9.943482</td>\n",
       "      <td>4.068119</td>\n",
       "      <td>-0.399103</td>\n",
       "      <td>1.394123</td>\n",
       "      <td>-2.121217</td>\n",
       "      <td>-2.034808</td>\n",
       "      <td>0.099559</td>\n",
       "      <td>0.613726</td>\n",
       "      <td>-0.223209</td>\n",
       "      <td>1.133620</td>\n",
       "      <td>...</td>\n",
       "      <td>0.093434</td>\n",
       "      <td>-0.122450</td>\n",
       "      <td>-0.569844</td>\n",
       "      <td>0.267297</td>\n",
       "      <td>0.221468</td>\n",
       "      <td>-0.219818</td>\n",
       "      <td>-0.049514</td>\n",
       "      <td>0.356502</td>\n",
       "      <td>0.241374</td>\n",
       "      <td>-0.495892</td>\n",
       "    </tr>\n",
       "    <tr>\n",
       "      <th>would</th>\n",
       "      <td>10.541195</td>\n",
       "      <td>3.996600</td>\n",
       "      <td>-3.114096</td>\n",
       "      <td>-0.164777</td>\n",
       "      <td>-3.244383</td>\n",
       "      <td>4.727616</td>\n",
       "      <td>0.218133</td>\n",
       "      <td>-1.578871</td>\n",
       "      <td>-0.295157</td>\n",
       "      <td>1.738129</td>\n",
       "      <td>...</td>\n",
       "      <td>0.270259</td>\n",
       "      <td>-0.963589</td>\n",
       "      <td>0.384445</td>\n",
       "      <td>0.459622</td>\n",
       "      <td>-1.036262</td>\n",
       "      <td>1.433826</td>\n",
       "      <td>-1.132137</td>\n",
       "      <td>-0.187011</td>\n",
       "      <td>-0.121513</td>\n",
       "      <td>-0.308771</td>\n",
       "    </tr>\n",
       "    <tr>\n",
       "      <th>said</th>\n",
       "      <td>7.509495</td>\n",
       "      <td>10.703473</td>\n",
       "      <td>-2.160421</td>\n",
       "      <td>-2.972781</td>\n",
       "      <td>-3.415102</td>\n",
       "      <td>3.501724</td>\n",
       "      <td>1.485335</td>\n",
       "      <td>1.165958</td>\n",
       "      <td>-1.091091</td>\n",
       "      <td>-0.531963</td>\n",
       "      <td>...</td>\n",
       "      <td>0.290679</td>\n",
       "      <td>0.016524</td>\n",
       "      <td>-0.337564</td>\n",
       "      <td>0.292447</td>\n",
       "      <td>-0.362312</td>\n",
       "      <td>-0.346557</td>\n",
       "      <td>0.202809</td>\n",
       "      <td>-0.958901</td>\n",
       "      <td>0.025326</td>\n",
       "      <td>-0.284423</td>\n",
       "    </tr>\n",
       "    <tr>\n",
       "      <th>new</th>\n",
       "      <td>9.155203</td>\n",
       "      <td>-3.794313</td>\n",
       "      <td>2.931107</td>\n",
       "      <td>-3.927246</td>\n",
       "      <td>2.010811</td>\n",
       "      <td>-2.223109</td>\n",
       "      <td>-1.343689</td>\n",
       "      <td>1.194033</td>\n",
       "      <td>0.875259</td>\n",
       "      <td>1.564110</td>\n",
       "      <td>...</td>\n",
       "      <td>-1.379819</td>\n",
       "      <td>0.018407</td>\n",
       "      <td>0.850753</td>\n",
       "      <td>-0.559948</td>\n",
       "      <td>-1.451546</td>\n",
       "      <td>0.819477</td>\n",
       "      <td>1.305234</td>\n",
       "      <td>-0.721986</td>\n",
       "      <td>-0.732835</td>\n",
       "      <td>0.390011</td>\n",
       "    </tr>\n",
       "    <tr>\n",
       "      <th>could</th>\n",
       "      <td>9.741721</td>\n",
       "      <td>8.684384</td>\n",
       "      <td>-3.133943</td>\n",
       "      <td>0.570771</td>\n",
       "      <td>-1.532481</td>\n",
       "      <td>2.746958</td>\n",
       "      <td>1.175994</td>\n",
       "      <td>-0.080773</td>\n",
       "      <td>-1.344955</td>\n",
       "      <td>1.297109</td>\n",
       "      <td>...</td>\n",
       "      <td>-0.067938</td>\n",
       "      <td>-1.308629</td>\n",
       "      <td>-0.586168</td>\n",
       "      <td>-0.121710</td>\n",
       "      <td>-0.940357</td>\n",
       "      <td>0.573011</td>\n",
       "      <td>-0.379509</td>\n",
       "      <td>-0.232038</td>\n",
       "      <td>0.441013</td>\n",
       "      <td>0.174857</td>\n",
       "    </tr>\n",
       "  </tbody>\n",
       "</table>\n",
       "<p>5 rows × 100 columns</p>\n",
       "</div>"
      ],
      "text/plain": [
       "              0          1         2         3         4         5         6   \\\n",
       "one     9.943482   4.068119 -0.399103  1.394123 -2.121217 -2.034808  0.099559   \n",
       "would  10.541195   3.996600 -3.114096 -0.164777 -3.244383  4.727616  0.218133   \n",
       "said    7.509495  10.703473 -2.160421 -2.972781 -3.415102  3.501724  1.485335   \n",
       "new     9.155203  -3.794313  2.931107 -3.927246  2.010811 -2.223109 -1.343689   \n",
       "could   9.741721   8.684384 -3.133943  0.570771 -1.532481  2.746958  1.175994   \n",
       "\n",
       "             7         8         9     ...           90        91        92  \\\n",
       "one    0.613726 -0.223209  1.133620    ...     0.093434 -0.122450 -0.569844   \n",
       "would -1.578871 -0.295157  1.738129    ...     0.270259 -0.963589  0.384445   \n",
       "said   1.165958 -1.091091 -0.531963    ...     0.290679  0.016524 -0.337564   \n",
       "new    1.194033  0.875259  1.564110    ...    -1.379819  0.018407  0.850753   \n",
       "could -0.080773 -1.344955  1.297109    ...    -0.067938 -1.308629 -0.586168   \n",
       "\n",
       "             93        94        95        96        97        98        99  \n",
       "one    0.267297  0.221468 -0.219818 -0.049514  0.356502  0.241374 -0.495892  \n",
       "would  0.459622 -1.036262  1.433826 -1.132137 -0.187011 -0.121513 -0.308771  \n",
       "said   0.292447 -0.362312 -0.346557  0.202809 -0.958901  0.025326 -0.284423  \n",
       "new   -0.559948 -1.451546  0.819477  1.305234 -0.721986 -0.732835  0.390011  \n",
       "could -0.121710 -0.940357  0.573011 -0.379509 -0.232038  0.441013  0.174857  \n",
       "\n",
       "[5 rows x 100 columns]"
      ]
     },
     "execution_count": 17,
     "metadata": {},
     "output_type": "execute_result"
    }
   ],
   "source": [
    "phi_transformed_df.head()"
   ]
  },
  {
   "cell_type": "markdown",
   "metadata": {},
   "source": [
    "### Q6\n",
    "### 1. Nearest Neighbor"
   ]
  },
  {
   "cell_type": "code",
   "execution_count": 18,
   "metadata": {},
   "outputs": [],
   "source": [
    "def NearestNeighbor(TestWord, WordsVectorDf, distance):\n",
    "    \n",
    "    Distance={}\n",
    "    \n",
    "    for i in WordsVectorDf.index:\n",
    "        if i!=TestWord:\n",
    "            \n",
    "            X = np.array(WordsVectorDf.loc[TestWord,:]).reshape(1,-1)\n",
    "            Y = np.array(WordsVectorDf.loc[i,:]).reshape(1,-1)\n",
    "            Distance[i] = pairwise_distances(X,Y,metric=distance)\n",
    "            \n",
    "    min_distance = min(Distance, key=Distance.get)\n",
    "    \n",
    "    return min_distance\n",
    "            "
   ]
  },
  {
   "cell_type": "markdown",
   "metadata": {},
   "source": [
    "#### NN - cosine distance"
   ]
  },
  {
   "cell_type": "code",
   "execution_count": 22,
   "metadata": {},
   "outputs": [],
   "source": [
    "# List of 25 test words.\n",
    "test_words_list = ['communism', 'autumn', 'cigarette', 'pulmonary', 'mankind', 'africa', 'chicago', \n",
    "                   'revolution', 'september', 'chemical', 'detergent', 'dictionary', 'storm', 'worship',\n",
    "                   'school', 'weather', 'tax', 'art','data', 'america', 'earth','happy','female','color','flight']"
   ]
  },
  {
   "cell_type": "code",
   "execution_count": 23,
   "metadata": {},
   "outputs": [
    {
     "name": "stdout",
     "output_type": "stream",
     "text": [
      "Nearest neighbor: communism -- utopian\n",
      "Nearest neighbor: autumn -- slide\n",
      "Nearest neighbor: cigarette -- smelled\n",
      "Nearest neighbor: pulmonary -- artery\n",
      "Nearest neighbor: mankind -- civil\n",
      "Nearest neighbor: africa -- asia\n",
      "Nearest neighbor: chicago -- portland\n",
      "Nearest neighbor: revolution -- exercise\n",
      "Nearest neighbor: september -- december\n",
      "Nearest neighbor: chemical -- milligrams\n",
      "Nearest neighbor: detergent -- cleaning\n",
      "Nearest neighbor: dictionary -- text\n",
      "Nearest neighbor: storm -- autumn\n",
      "Nearest neighbor: worship -- religion\n",
      "Nearest neighbor: school -- college\n",
      "Nearest neighbor: weather -- hot\n",
      "Nearest neighbor: tax -- income\n",
      "Nearest neighbor: art -- literature\n",
      "Nearest neighbor: data -- results\n",
      "Nearest neighbor: america -- states\n",
      "Nearest neighbor: earth -- dust\n",
      "Nearest neighbor: happy -- know\n",
      "Nearest neighbor: female -- feature\n",
      "Nearest neighbor: color -- dress\n",
      "Nearest neighbor: flight -- landing\n"
     ]
    }
   ],
   "source": [
    "# Nearest Neighbors of test words using cosine distance.\n",
    "for TestWord in test_words_list:\n",
    "    NN = NearestNeighbor(TestWord, phi_transformed_df, 'cosine')\n",
    "    print('Nearest neighbor: {} -- {}'.format(TestWord, NN))"
   ]
  },
  {
   "cell_type": "markdown",
   "metadata": {},
   "source": [
    "#### NN - euclidean distance"
   ]
  },
  {
   "cell_type": "code",
   "execution_count": 24,
   "metadata": {},
   "outputs": [
    {
     "name": "stdout",
     "output_type": "stream",
     "text": [
      "Nearest neighbor: communism -- utopian\n",
      "Nearest neighbor: autumn -- slide\n",
      "Nearest neighbor: cigarette -- smelled\n",
      "Nearest neighbor: pulmonary -- artery\n",
      "Nearest neighbor: mankind -- fatal\n",
      "Nearest neighbor: africa -- asia\n",
      "Nearest neighbor: chicago -- portland\n",
      "Nearest neighbor: revolution -- twentieth\n",
      "Nearest neighbor: september -- december\n",
      "Nearest neighbor: chemical -- milligrams\n",
      "Nearest neighbor: detergent -- fabrics\n",
      "Nearest neighbor: dictionary -- text\n",
      "Nearest neighbor: storm -- autumn\n",
      "Nearest neighbor: worship -- voluntary\n",
      "Nearest neighbor: school -- college\n",
      "Nearest neighbor: weather -- cheap\n",
      "Nearest neighbor: tax -- income\n",
      "Nearest neighbor: art -- english\n",
      "Nearest neighbor: data -- include\n",
      "Nearest neighbor: america -- peoples\n",
      "Nearest neighbor: earth -- dust\n",
      "Nearest neighbor: happy -- wondered\n",
      "Nearest neighbor: female -- nude\n",
      "Nearest neighbor: color -- pure\n",
      "Nearest neighbor: flight -- landing\n"
     ]
    }
   ],
   "source": [
    "# Nearest Neighbors of test words using cosine distance.\n",
    "for TestWord in test_words_list:\n",
    "    NN = NearestNeighbor(TestWord, phi_transformed_df, 'euclidean')\n",
    "    print('Nearest neighbor: {} -- {}'.format(TestWord, NN))"
   ]
  },
  {
   "cell_type": "markdown",
   "metadata": {},
   "source": [
    "### 2. Clustering"
   ]
  },
  {
   "cell_type": "markdown",
   "metadata": {},
   "source": [
    "### KMeans clustering"
   ]
  },
  {
   "cell_type": "code",
   "execution_count": 25,
   "metadata": {},
   "outputs": [],
   "source": [
    "X = phi_transformed_df"
   ]
  },
  {
   "cell_type": "code",
   "execution_count": 32,
   "metadata": {},
   "outputs": [
    {
     "data": {
      "text/plain": [
       "KMeans(algorithm='full', copy_x=True, init='k-means++', max_iter=300,\n",
       "       n_clusters=100, n_init=10, n_jobs=None, precompute_distances='auto',\n",
       "       random_state=20, tol=0.0001, verbose=0)"
      ]
     },
     "execution_count": 32,
     "metadata": {},
     "output_type": "execute_result"
    }
   ],
   "source": [
    "# Initialize k-means\n",
    "k_means = KMeans(algorithm='full', n_clusters=100,init='k-means++',random_state=20)\n",
    "# Fit the k-means by passing it the input\n",
    "k_means.fit(X)"
   ]
  },
  {
   "cell_type": "code",
   "execution_count": 34,
   "metadata": {},
   "outputs": [
    {
     "name": "stdout",
     "output_type": "stream",
     "text": [
      "Kmeans:\n",
      "\n",
      "silhouette_score= -0.01705429050979716\n",
      "\n",
      "Number of words in each cluster:\n",
      "\n",
      "[ 53   5  92  93  31  17  54  32  19  91  21  72  18 125  52  77  30  46\n",
      "  37  45  75  23  54  14  35  48  99  33  30  86 111  63  95  18  42  77\n",
      "  22  29  53  34  45 105  52  40  14  44   9  14  50 116  51  37  88  51\n",
      "  62  24   6  93  37  27  65  80  19  50  40  11  24  12 112  51  82  57\n",
      "  57  38  97 191  68   1  14  15  19  18  68  17  83 197  41  16  83  65\n",
      "  19  40  16  19  29  32  68  26  23  21] \n",
      "\n"
     ]
    }
   ],
   "source": [
    "# Get the cluster labels.\n",
    "kmeans_labels = k_means.labels_\n",
    "# Calculate the silhouette score and davies bouldin score.\n",
    "print('Kmeans:\\n')\n",
    "print('silhouette_score=',silhouette_score(X,kmeans_labels, metric='euclidean'))\n",
    "\n",
    "# Convert word and cluster to a dataframe.\n",
    "data = {'word': V,'cluster': kmeans_labels}\n",
    "kmeans_word_cluster_df = pd.DataFrame(data)\n",
    "# Print all words in each cluster. \n",
    "print('\\nNumber of words in each cluster:\\n')\n",
    "print(np.array(kmeans_word_cluster_df.groupby('cluster')['word'].count()),'\\n')"
   ]
  },
  {
   "cell_type": "markdown",
   "metadata": {},
   "source": [
    "### Agglomerative clustering"
   ]
  },
  {
   "cell_type": "code",
   "execution_count": 35,
   "metadata": {},
   "outputs": [
    {
     "name": "stdout",
     "output_type": "stream",
     "text": [
      "cosine distance:\n",
      "\n",
      "average silhouette_score= -0.029540530632476737\n",
      "complete silhouette_score= -0.04568668896804509\n",
      "single silhouette_score= -0.1803078951213885\n",
      "\n",
      " euclidean distance:\n",
      "\n",
      "ward silhouette_score= -0.027399593772126526\n",
      "average silhouette_score= 0.0716034046173084\n",
      "complete silhouette_score= 0.0005346767937223774\n",
      "single silhouette_score= 0.023402049419600342\n"
     ]
    }
   ],
   "source": [
    "linkage_list = ['ward','average','complete','single']\n",
    "labels={}\n",
    "print('cosine distance:\\n')\n",
    "for linkage in linkage_list:\n",
    "    if linkage != 'ward':\n",
    "        model = AgglomerativeClustering(n_clusters=100,affinity='cosine',linkage=linkage)\n",
    "        # Get the cluster labels.\n",
    "        labels[('cosine',linkage)] = model.fit_predict(X)\n",
    "        # Calculate the silhouette score and davies bouldin score.\n",
    "        print(linkage,'silhouette_score=',silhouette_score(X,labels[('cosine',linkage)], metric='euclidean'))\n",
    "\n",
    "print('\\n euclidean distance:\\n')\n",
    "for linkage in linkage_list:\n",
    "    model = AgglomerativeClustering(n_clusters=100,affinity='euclidean',linkage=linkage)\n",
    "    # Get the cluster labels.\n",
    "    labels[('euclidean', linkage)] = model.fit_predict(X)\n",
    "    # Calculate the silhouette score and davies bouldin score.\n",
    "    print(linkage,'silhouette_score=',silhouette_score(X,labels[('euclidean', linkage)], metric='euclidean'))\n",
    "\n",
    "   "
   ]
  },
  {
   "cell_type": "markdown",
   "metadata": {},
   "source": [
    "**Paremeters: n_clusters=100,  affinity='euclidean',  linkage='complete'**"
   ]
  },
  {
   "cell_type": "code",
   "execution_count": 42,
   "metadata": {},
   "outputs": [
    {
     "name": "stdout",
     "output_type": "stream",
     "text": [
      "Number of words in each cluster:\n",
      "\n",
      "[  14   24   68   26   18   25   78   28  230   19   18   22  147 1855\n",
      "   28   17   14   63   48   36   20    9   10    8   33   20   28    9\n",
      "    6    7   32  291   74   19   25   12   27   27   54   11   12   46\n",
      "   11   96   10    4   13    3   44   21   17   95   64   70   16    9\n",
      "    5    2   11   11   13    9   10   13   24   15    3   12   16   19\n",
      "   33    1    4    3   36    8  528    5   14   33    3   18   10   14\n",
      "   10    2    4    2    7    5    8    8    2    8    3    4   10   12\n",
      "    6    5] \n",
      "\n"
     ]
    }
   ],
   "source": [
    "# Convert word and cluster to a dataframe.\n",
    "data = {'word': V,'cluster': labels['euclidean','complete']}\n",
    "word_cluster_df = pd.DataFrame(data)\n",
    "# Print all words in each cluster. \n",
    "print('Number of words in each cluster:\\n')\n",
    "print(np.array(word_cluster_df.groupby('cluster')['word'].count()),'\\n')\n",
    "# print(word_cluster_df.groupby('cluster')['word'].apply(list))"
   ]
  },
  {
   "cell_type": "markdown",
   "metadata": {},
   "source": [
    "Analysis: Overfitting"
   ]
  },
  {
   "cell_type": "markdown",
   "metadata": {},
   "source": [
    "### Selected KMeans algorithm which using euclidean distance for the clustering. "
   ]
  },
  {
   "cell_type": "code",
   "execution_count": 43,
   "metadata": {
    "scrolled": false
   },
   "outputs": [
    {
     "name": "stdout",
     "output_type": "stream",
     "text": [
      "KMeans:\n",
      "\n",
      "Label: 0: ['places', 'names', 'dog', 'boat', 'forth', 'signs', 'families', 'pictures', 'ends', 'score', 'passing', 'bodies', 'dream', 'unusual', 'guests', 'songs', 'negroes', 'orders', 'birds', 'appearance', 'notes', 'double', 'divided', 'games', 'advice', 'colors', 'brilliant', 'brothers', 'neighbors', 'furniture', 'license', 'bomb', 'cards', 'crew', 'visitors', 'columns', 'eggs', 'roll', 'seldom', 'corn', 'kids', 'volunteers', 'shots', 'suits', 'rifles', 'grades', 'carries', 'hits', 'pitch', 'joke', 'passengers', 'clock', 'salesmen']\n",
      "\n",
      "Label: 1: ['point', 'clear', 'simple', 'decided', 'statement']\n",
      "\n",
      "Label: 2: ['associated', 'chain', 'resistance', 'fears', 'bond', 'rapid', 'muscle', 'reactions', 'distinct', 'limits', 'exception', 'proof', 'studying', 'intense', 'controlled', 'maturity', 'experimental', 'represent', 'tremendous', 'outstanding', 'magic', 'devices', 'intention', 'phenomenon', 'stems', 'precise', 'awareness', 'fallout', 'juniors', 'worker', 'cuts', 'stable', 'signals', 'proportion', 'responses', 'sensitivity', 'drugs', 'passes', 'restrictions', 'clinical', 'instruments', 'phenomena', 'zen', 'gyro', 'exhibit', 'magnetic', 'adult', 'pupils', 'approaches', 'component', 'reflect', 'structural', 'diffusion', 'channels', 'bases', 'suggestions', 'variations', 'radar', 'assumptions', 'authors', 'altered', 'chart', 'thrust', 'formulas', 'meanings', 'planets', 'frequency', 'foams', 'ideological', 'thorough', 'complement', 'planetary', 'underlying', 'aroused', 'strongest', 'clothing', 'rises', 'attain', 'biological', 'input', 'elementary', 'stresses', 'males', 'gains', 'produces', 'applies', 'optical', 'hypothalamus', 'reactivity', 'proceed', 'remarkably', 'pronounced']\n",
      "\n",
      "Label: 3: ['de', 'wine', 'closely', 'objects', 'contact', 'huge', 'television', 'female', 'singing', 'medium', 'odd', 'separated', 'drama', 'suffered', 'reflected', 'rare', 'visual', 'soldier', 'experts', 'male', 'accompanied', 'images', 'filling', 'sympathetic', 'fruit', 'exposed', 'arrangement', 'folk', 'visible', 'mechanical', 'frequent', 'abstract', 'affair', 'owner', 'scheme', 'swift', 'protected', 'dancers', 'studio', 'films', 'perfectly', 'gay', 'complicated', 'testament', 'encouraged', 'applying', 'anxious', 'encounter', 'ladies', 'delicate', 'outdoor', 'prevented', 'widow', 'card', 'intervals', 'reaches', 'pressing', 'evidently', 'vivid', 'impressions', 'enthusiastic', 'wholly', 'adults', 'dances', 'cleared', 'habit', 'chiefly', 'substitute', 'unfortunate', 'displayed', 'fans', 'colorful', 'drawings', 'competent', 'gentlemen', 'displays', 'verbal', 'persuaded', 'heroic', 'intimate', 'decent', 'pioneer', 'landscape', 'amazing', 'passages', 'creatures', 'anticipation', 'eve', 'venture', 'rugged', 'emperor', 'distinguish', 'angel']\n",
      "\n",
      "Label: 4: ['corps', 'carry', 'prevent', 'economy', 'personnel', 'seek', 'domestic', 'armed', 'existing', 'goal', 'maintain', 'providing', 'establish', 'conduct', 'establishment', 'achieve', 'shooting', 'encourage', 'permanent', 'serving', 'assure', 'formation', 'preserve', 'promote', 'proposals', 'maintaining', 'establishing', 'assist', 'insure', 'rehabilitation', 'launched']\n",
      "\n",
      "Label: 5: ['life', 'sense', 'human', 'experience', 'whose', 'community', 'true', 'common', 'personal', 'nature', 'natural', 'christian', 'moral', 'theory', 'meaning', 'quality', 'characteristic']\n",
      "\n",
      "Label: 6: ['favor', 'khrushchev', 'speech', 'finds', 'apart', 'bear', 'bitter', 'elections', 'partly', 'identified', 'confusion', 'agent', 'saved', 'comment', 'anxiety', 'brings', 'necessity', 'authorities', 'communists', 'bringing', 'inevitably', 'moves', 'satisfied', 'facing', 'raising', 'duties', 'suffer', 'poland', 'medicine', 'comments', 'propaganda', 'surprising', 'purely', 'encountered', 'argued', 'ignored', 'creating', 'arise', 'discuss', 'clarity', 'climate', 'discrimination', 'settle', 'assessment', 'justified', 'appreciation', 'intentions', 'dealt', 'moderate', 'belgians', 'emphasize', 'assessors', 'movable', 'arose']\n",
      "\n",
      "Label: 7: ['whatever', 'completely', 'race', 'remain', 'leader', 'standards', 'rule', 'accept', 'universe', 'independent', 'independence', 'liberal', 'intellectual', 'join', 'dominant', 'powerful', 'friendly', 'bible', 'majority', 'regarded', 'create', 'japanese', 'conviction', 'convinced', 'congregation', 'opposition', 'confused', 'fellowship', 'conservative', 'sovereign', 'insist', 'identify']\n",
      "\n",
      "Label: 8: ['feet', 'voice', 'run', 'top', 'soon', 'started', 'fire', 'ground', 'reached', 'floor', 'suddenly', 'running', 'game', 'straight', 'hit', 'shot', 'ball', 'fell', 'broke']\n",
      "\n",
      "Label: 9: ['foot', 'lips', 'drew', 'legs', 'fingers', 'hung', 'holding', 'towards', 'rifle', 'shoulder', 'heavily', 'onto', 'hole', 'leg', 'beneath', 'shook', 'wheel', 'wood', 'marine', 'grass', 'chest', 'wet', 'breath', 'shoulders', 'throat', 'wooden', 'rolled', 'stairs', 'threw', 'pocket', 'fired', 'snake', 'path', 'shoes', 'dirt', 'coat', 'lifted', 'touched', 'burned', 'finger', 'thrown', 'stick', 'leaned', 'knees', 'roberts', 'lying', 'bench', 'pat', 'jumped', 'matsuo', 'bent', 'stretched', 'falling', 'bone', 'slipped', 'curt', 'knocked', 'dave', 'lightly', 'softly', 'counter', 'gently', 'bare', 'pressed', 'paused', 'pistol', 'trembling', 'nick', 'glanced', 'chin', 'saddle', 'tilghman', 'slid', 'heels', 'elaine', 'backward', 'deegan', 'russ', 'stiff', 'lowered', 'shaking', 'grabbed', 'grip', 'brushed', 'abel', 'cheek', 'resting', 'rolling', 'rourke', 'squeezed', 'bat']\n",
      "\n",
      "Label: 10: ['money', 'property', 'paid', 'farm', 'charge', 'account', 'hospital', 'date', 'demand', 'share', 'oil', 'check', 'capital', 'fair', 'credit', 'goods', 'raise', 'extra', 'dollar', 'taxes', 'investment']\n",
      "\n",
      "Label: 11: ['james', 'robert', 'joseph', 'smith', 'remarks', 'version', 'arthur', 'eisenhower', 'speaker', 'suit', '1957', 'edward', 'engineer', 'adams', 'editorial', 'vice', 'writes', 'senator', 'dean', 'walter', 'pope', 'paul', 'delivered', 'assistant', 'peter', 'baker', 'candidate', 'shortly', 'samuel', 'sentence', 'prince', 'interview', 'engineers', 'elaborate', 'concluded', 'van', 'franklin', 'sharpe', 'republicans', 'lieutenant', 'albert', 'roosevelt', 'sergeant', 'veteran', 'davis', 'hughes', 'marshall', 'jefferson', 'premier', 'quoted', 'nixon', 'generous', 'ford', 'mason', 'mexican', 'douglas', 'jean', 'quiney', 'ambassador', 'congressman', 'taylor', 'painter', 'allen', 'negotiations', 'notte', 'authentic', 'freddy', 'continental', 'frederick', 'austin', 'yankee', 'harvey']\n",
      "\n",
      "Label: 12: ['school', 'children', 'members', 'college', 'university', 'students', 'class', 'schools', 'student', 'activities', 'negro', 'interested', 'professional', 'parents', 'active', 'jewish', 'teachers', 'teaching']\n",
      "\n",
      "Label: 13: ['mantle', 'precisely', 'curious', 'prime', 'rarely', 'severe', 'organic', 'strongly', 'belong', 'mixed', 'challenge', 'normally', 'error', 'nationalism', 'prepare', 'badly', 'massive', 'grave', 'slavery', 'missiles', 'poets', 'remote', 'coal', 'defeat', 'reform', 'sacrifice', 'reveal', 'impressed', 'citizen', 'consequence', 'consciousness', 'shakespeare', 'divorce', 'guilty', 'exciting', 'shapes', 'innocence', 'formerly', 'worthy', 'friendship', 'germans', 'concepts', 'discipline', 'observation', 'oral', 'liberals', 'desperate', 'threatening', 'overcome', 'treat', 'legend', 'urethane', 'succession', 'dilemma', 'terror', 'ritual', 'continually', 'subtle', 'chances', 'tribute', 'realism', 'meaningful', 'desires', 'regime', 'colleagues', 'controlling', 'expectations', 'lift', 'trace', 'curiosity', 'imitation', 'spencer', 'physics', 'triumph', 'eighteenth', 'implications', 'casual', 'freely', 'acceptable', 'cope', 'respond', 'accepting', 'philip', 'races', 'revolutionary', 'governing', 'defend', 'urgent', 'respectable', 'urge', 'diet', 'cholesterol', 'wives', 'habits', 'mode', 'utopian', 'receives', 'stake', 'judges', 'confirmed', 'explains', 'compromise', 'indication', 'overwhelming', 'theories', 'avoided', 'fathers', 'theology', 'attract', 'allows', 'tensions', 'insistence', 'devotion', 'assurance', 'individually', 'exceptional', 'lesser', 'relax', 'naive', 'orthodox', 'immortality', 'therapist', 'commented', 'abuse', 'favored']\n",
      "\n",
      "Label: 14: ['happened', 'bad', 'maybe', 'chance', 'wrong', 'easy', 'stop', 'learned', 'saying', 'wish', 'expect', 'hardly', 'bit', 'talking', 'meant', 'fight', 'happy', 'suppose', 'wait', 'someone', 'strange', 'murder', 'nobody', 'send', 'everybody', 'wants', 'somehow', 'ought', 'helped', 'gets', 'supposed', 'explain', 'kill', 'happen', 'please', 'closer', 'refused', 'notice', 'somebody', 'liked', 'replied', 'afraid', 'guess', 'worry', 'plenty', 'guy', 'sorry', 'honest', 'anybody', 'happens', 'missed', 'fool']\n",
      "\n",
      "Label: 15: ['attempt', 'sex', 'difficulty', 'failed', 'evil', 'proved', 'communism', 'willing', 'task', 'enjoyed', 'becoming', 'confidence', 'pure', 'minds', 'sought', 'begins', 'device', 'artists', 'properly', 'trained', 'experienced', 'extremely', 'childhood', 'difficulties', 'weakness', 'seriously', 'impression', 'offers', 'warning', 'enjoy', 'helping', 'lies', 'answers', 'mental', 'reader', 'emotions', 'holds', 'bound', 'pride', 'skill', 'opposed', 'distinction', 'favorite', 'musicians', 'attempts', 'holmes', 'aim', 'affected', 'desirable', 'host', 'genuine', 'realistic', 'roles', 'prokofieff', 'inadequate', 'courage', 'mature', 'composer', 'dates', 'slave', 'helpful', 'ecumenical', 'intelligent', 'critics', 'sophisticated', 'perspective', 'magazines', 'undoubtedly', 'musician', 'exercises', 'suited', 'resist', 'fortunate', 'certainty', 'solve', 'listeners', 'historians']\n",
      "\n",
      "Label: 16: ['must', 'world', 'general', 'upon', 'become', 'power', 'problem', 'whole', 'matter', 'law', 'action', 'whether', 'shall', 'free', 'political', 'question', 'problems', 'economic', 'position', 'individual', 'society', 'policy', 'subject', 'needs', 'nation', 'concerned', 'influence', 'freedom', 'respect', 'based']\n",
      "\n",
      "Label: 17: ['decision', 'justice', 'principle', 'relations', 'raised', 'opinion', 'failure', 'facts', 'allowed', 'rules', 'concept', 'interests', 'crisis', 'campaign', 'immediate', 'desire', 'expressed', 'brief', 'legal', 'actions', 'statements', 'practical', 'career', 'issues', 'discussed', 'jobs', 'matters', 'primarily', 'struggle', 'judgment', 'permitted', 'decisions', 'views', 'protestant', 'consideration', 'changing', 'contribute', 'exists', 'legislative', 'acts', 'determination', 'consequences', 'context', 'debate', 'prestige', 'racial']\n",
      "\n",
      "Label: 18: ['new', 'two', 'first', 'made', 'work', 'another', 'since', 'american', 'part', 'every', 'almost', 'set', 'end', 'several', 'second', 'among', 'church', 'least', 'family', 'country', 'times', 'company', 'show', 'today', 'taken', 'past', 'half', 'period', 'held', 'became', 'age', 'following', 'third', 'expected', 'followed', 'beginning', 'earlier']\n",
      "\n",
      "Label: 19: ['including', 'developed', 'equipment', 'market', 'production', 'effort', 'methods', 'systems', 'efforts', 'plant', 'technical', 'types', 'designed', 'products', 'division', 'studies', 'supply', 'techniques', 'source', 'management', 'objective', 'sources', 'product', 'units', 'require', 'operations', 'collection', 'essential', 'permit', 'increasing', 'resources', 'adequate', 'site', 'uses', 'useful', 'processes', 'requires', 'improved', 'components', 'developing', 'trend', 'developments', 'marketing', 'survey', 'evaluation']\n",
      "\n",
      "Label: 20: ['offered', 'poems', 'rich', 'powers', 'master', 'beauty', 'realized', 'speaking', 'equally', 'repeated', 'stories', 'roman', 'combination', 'positions', 'soil', 'jews', 'finding', 'trust', 'detective', 'contrary', 'latin', 'tragedy', 'personality', 'testimony', 'remarkable', 'unknown', 'movements', 'numerous', 'violence', 'decade', 'author', 'centuries', 'brain', 'discovery', 'republic', 'nineteenth', 'hardy', 'whereas', 'existed', 'rayburn', 'recall', 'accounts', 'definition', 'release', 'occasional', 'guide', 'characters', 'patients', 'scientists', 'performed', 'receiving', 'decades', 'fallen', 'gift', 'presentation', 'catholics', 'discussions', 'enterprise', 'movies', 'recording', 'era', 'historian', 'altogether', 'lesson', 'delight', 'scenes', 'commonly', 'marks', 'conceived', 'troubles', 'novels', 'reveals', 'steele', 'fantastic', 'twentieth']\n",
      "\n",
      "Label: 21: ['home', 'night', 'together', 'miss', 'heard', 'town', 'gone', 'except', 'meet', 'hour', 'ready', 'evening', 'couple', 'lived', 'audience', 'visit', 'afternoon', 'closed', 'dinner', 'leaving', 'trip', 'stayed', 'sleep']\n",
      "\n",
      "Label: 22: ['would', 'said', 'could', 'like', 'way', 'see', 'get', 'never', 'know', 'us', 'come', 'go', 'right', 'take', 'thought', 'say', 'got', 'something', 'think', 'better', 'told', 'nothing', 'find', 'going', 'look', 'asked', 'knew', 'let', 'things', 'ever', 'thing', 'want', 'done', 'help', 'anything', 'really', 'tell', 'sure', 'wanted', 'feel', 'hard', 'everything', 'else', 'tried', 'getting', 'trying', 'care', 'talk', 'hear', 'yes', 'anyone', 'try', 'remember', 'trouble']\n",
      "\n",
      "Label: 23: ['available', 'provide', 'data', 'industrial', 'addition', 'services', 'provided', 'operation', 'include', 'facilities', 'construction', 'requirements', 'membership', 'maintenance']\n",
      "\n",
      "Label: 24: ['gives', 'current', 'becomes', 'prepared', 'primary', 'measure', 'balance', 'positive', 'ordinary', 'phase', 'application', 'assume', 'relation', 'internal', 'vital', 'negative', 'conflict', 'necessarily', 'tendency', 'acceptance', 'depends', 'employment', 'intended', 'burden', 'continuous', 'identification', 'shift', 'participation', 'involves', 'represents', 'contribution', 'enormous', 'protect', 'determining', 'dynamic']\n",
      "\n",
      "Label: 25: ['cold', 'lot', 'eye', 'oh', 'sir', 'hell', 'jack', 'clothes', 'touch', 'seeing', 'captain', 'sight', 'drink', 'watch', 'explained', 'lady', 'fast', 'quiet', 'nice', 'mercer', 'smiled', 'quick', 'asking', 'sit', 'answered', 'tom', 'baby', 'kid', 'talked', 'busy', 'pick', 'phone', 'forget', 'dear', 'alfred', 'listen', 'nodded', 'moments', 'quietly', 'charlie', 'anyway', 'lucy', 'adam', 'hate', 'kate', 'winston', 'glad', 'jess']\n",
      "\n",
      "Label: 26: ['extreme', 'sensitive', 'interpretation', 'depth', 'passage', 'destroy', 'limit', 'intelligence', 'depend', 'target', 'interference', 'universal', 'accomplished', 'explanation', 'core', 'warfare', 'threat', 'increasingly', 'removal', 'combined', 'dependent', 'drawing', 'improve', 'selection', 'satisfactory', 'simultaneously', 'effectively', 'fail', 'atom', 'illusion', 'automatically', 'conclusions', 'accurate', 'alternative', 'logical', 'lacking', 'efficient', 'variation', 'initiative', 'consequently', 'successfully', 'extend', 'voting', 'absolute', 'excessive', 'radical', 'unconscious', 'false', 'merit', 'morality', 'constitute', 'solutions', 'compare', 'sovereignty', 'exact', 'eliminate', 'retirement', 'handled', 'inherent', 'electricity', 'composition', 'bearing', 'rational', 'responsibilities', 'observe', 'destructive', 'contacts', 'exploration', 'explicit', 'accomplish', 'tended', 'accurately', 'mathematical', 'registration', 'compete', 'dedicated', 'strategic', 'empirical', 'ambiguous', 'motive', 'targets', 'eliminated', 'economical', 'alienation', 'inclined', 'resolved', 'enforced', 'conditioned', 'tactics', 'pupil', 'oedipus', 'whereby', 'achievements', 'solved', 'caution', 'startling', 'ignore', 'assign', 'representation']\n",
      "\n",
      "Label: 27: ['president', 'board', 'department', 'party', 'washington', 'secretary', 'report', 'committee', 'meeting', 'congress', 'kennedy', 'member', 'association', 'army', 'press', 'plans', 'democratic', 'health', 'council', 'news', 'director', 'officer', 'conference', 'announced', 'affairs', 'officers', 'election', 'official', 'vote', 'chairman', 'senate', 'executive', 'republican']\n",
      "\n",
      "Label: 28: ['per', '1960', 'cent', '10', 'march', '15', '30', '1959', 'june', '12', '20', '1958', '25', 'april', 'july', '9', '11', '14', '18', '16', '13', '24', '21', '23', '22', 'february', '17', '31', '26', 'ending']\n",
      "\n",
      "Label: 29: ['created', 'unity', 'chosen', 'ancient', 'animal', 'vast', 'greek', 'sexual', 'causes', 'unique', 'details', 'truly', 'sin', 'hero', 'creative', 'everywhere', 'creation', 'liberty', 'fought', 'doctrine', 'wisdom', 'seeking', 'virtually', 'notion', 'conscience', 'criticism', 'gained', 'revealed', 'mankind', 'destruction', 'deeper', 'feature', 'readers', 'species', 'classic', 'beings', 'sciences', 'dignity', 'emotion', 'tends', 'divine', 'classical', 'harmony', 'leads', 'artistic', 'presents', 'substance', 'salvation', 'reflection', 'conception', 'poetic', 'controls', 'virtue', 'crucial', 'perception', 'enthusiasm', 'witness', 'satisfaction', 'peculiar', 'folklore', 'humanity', 'profound', 'judgments', 'disaster', 'inspired', 'continuity', 'realization', 'expressing', 'utopia', 'hearts', 'reflects', 'loyalty', 'insight', 'trends', 'traditions', 'punishment', 'glory', 'dominated', 'renaissance', 'convictions', 'ethics', 'affects', 'broader', 'realm', 'assert', 'realtors']\n",
      "\n",
      "Label: 30: ['cattle', 'flat', 'metal', 'uniform', 'milk', 'liquid', 'salt', 'chamber', 'artery', 'sheet', 'mounted', 'cup', 'diameter', 'mold', 'tables', 'washing', 'thickness', 'cloth', 'smooth', 'seeds', 'regions', 'parallel', 'holes', 'inch', 'contains', 'edges', 'foam', 'constructed', 'questionnaire', 'symbols', 'lumber', 'tape', 'washed', 'calculated', 'sugar', 'drill', 'tube', 'beef', 'saline', 'directions', 'sheets', 'suspended', 'strip', 'measuring', 'mixture', 'carbon', 'jet', 'drying', 'fabrics', 'apparatus', 'bronchial', 'pound', 'mines', 'stained', 'powder', 'butter', 'roots', 'holder', 'fiber', 'pulmonary', 'frames', '27', 'bath', 'switches', 'velocity', '300', 'roughly', 'flexible', 'vein', 'disk', 'pond', 'detergent', 'firing', 'consisted', 'specimen', 'rigid', 'drug', 'tubes', 'bowl', 'sheep', 'insects', 'plug', 'continuously', 'substances', 'lengths', 'plaster', 'fibers', 'plate', 'lo', 'soap', 'screw', 'forming', 'fluid', '34', 'protein', 'shu', 'trim', '1951', 'foil', 'pipe', 'sauce', 'mustard', 'lid', 'livestock', 'combinations', 'shorter', 'brass', 'blowing', 'sera', 'drain', '400']\n",
      "\n",
      "Label: 31: ['apartment', 'store', 'empty', 'garden', 'roof', 'rooms', 'windows', 'gold', 'crossed', 'display', 'restaurant', 'painted', 'stepped', 'glance', 'guest', 'blocks', 'doors', 'sounded', 'gathered', 'crowded', 'parking', 'ceiling', 'basement', 'locked', 'alex', 'barn', 'lighted', 'glasses', 'dining', 'upstairs', 'closing', 'hanging', 'rushed', 'suite', 'slept', 'cellar', 'hang', 'emerged', 'noon', 'partially', 'pulling', 'alec', 'backed', 'nearest', 'lock', 'chairs', 'spare', 'cabin', 'refrigerator', 'deck', 'hurried', 'dressing', 'neat', 'hen', 'garage', 'hoag', 'cafe', 'tent', 'lobby', 'peered', 'suitcase', 'halfway', 'wing']\n",
      "\n",
      "Label: 32: ['pass', 'otherwise', 'secret', 'believed', 'wonder', 'honor', 'besides', 'escape', 'grow', 'save', 'imagine', 'eat', 'taste', 'lie', 'avoid', 'lose', 'bought', 'inner', 'unable', 'suggest', 'handle', 'prove', 'practically', 'agree', 'easier', 'choose', 'knowing', 'proud', 'worse', 'firmly', 'count', 'incident', 'anger', 'deny', 'surely', 'dangerous', 'promised', 'promise', 'feels', 'pace', 'comfort', 'catch', 'heaven', 'reply', 'express', 'teach', 'sell', 'sake', 'match', 'afford', 'decide', 'discover', 'focus', 'joy', 'deeply', 'assured', 'self', 'forever', 'anywhere', 'roy', 'admit', 'wise', 'sees', 'sympathy', 'wear', 'smell', 'blame', 'mistake', 'examine', 'inevitable', 'helps', 'troubled', 'doctors', 'recovery', 'argue', 'precious', 'happening', 'excuse', 'passion', 'acquire', 'prefer', 'enemies', 'imagined', 'appreciate', 'harm', 'devil', 'scarcely', 'brave', 'happiness', 'desperately', 'hide', 'rent', 'rid', 'spell', 'compelled']\n",
      "\n",
      "Label: 33: ['companies', 'educational', 'projects', 'agencies', 'library', 'organizations', 'agency', 'conducted', 'firms', 'devoted', 'recreation', 'communities', 'cooperation', 'contributed', 'objectives', 'agricultural', 'counties', 'agriculture']\n",
      "\n",
      "Label: 34: ['type', 'similar', 'final', 'issue', 'results', 'cases', 'involved', 'using', 'method', 'showed', 'list', 'manner', 'described', 'test', 'determined', 'activity', 'specific', 'latter', 'pattern', 'standard', 'analysis', 'continue', 'determine', 'applied', 'attack', 'original', 'exactly', 'actual', 'discussion', 'complex', 'purposes', 'instance', 'fully', 'indicate', 'separate', 'procedure', 'enter', 'follows', 'appropriate', 'tests', 'preparation', 'correct']\n",
      "\n",
      "Label: 35: ['suffering', 'whenever', 'constantly', 'henrietta', 'personally', 'turns', 'mood', 'tough', 'managed', 'crime', 'worried', 'suggestion', 'missing', 'accident', 'partner', 'remarked', 'confronted', 'weak', 'bird', 'shock', 'suspect', 'deliberately', 'woodruff', 'eternal', 'losing', 'promptly', 'verse', 'gentleman', 'victim', 'reputation', 'marriages', 'shoot', 'mutual', 'charm', 'southerners', 'jew', 'abandoned', 'accused', 'grateful', 'painful', 'fortune', 'criminal', 'charming', 'forgive', 'nervous', 'stupid', 'sitter', 'thinks', 'farmer', 'noble', 'unexpected', 'genius', 'uncertain', 'luxury', 'suspected', 'pause', 'aristotle', 'tales', 'tale', 'faulkner', 'quarrel', 'puts', 'arnold', 'boss', 'newer', 'reactionary', 'fascinating', 'motives', 'poverty', 'manage', 'demanding', 'likes', 'hostile', 'essay', 'murderer', 'helion', 'faster']\n",
      "\n",
      "Label: 36: ['parts', 'cities', 'agreement', 'principal', 'leadership', 'term', 'claims', 'calls', 'experiment', 'showing', 'parties', 'minor', 'chinese', 'advanced', 'introduced', 'towns', 'constitution', 'agents', 'districts', 'affect', 'vary', '1955']\n",
      "\n",
      "Label: 37: ['season', 'sunday', 'opening', 'session', 'planned', 'november', 'fourth', 'completed', 'monday', 'saturday', 'page', 'december', 'boston', 'friday', 'ended', 'tuesday', 'september', 'january', 'august', 'october', 'prior', 'tv', 'scheduled', 'fifth', '1962', 'thursday', 'museum', '1953', 'announcement']\n",
      "\n",
      "Label: 38: ['club', 'chicago', 'published', 'team', 'studied', 'junior', 'interior', 'texas', 'league', 'highest', 'courses', 'professor', 'academic', 'attend', 'institute', 'formal', 'engineering', 'regional', 'francisco', 'institution', 'candidates', 'signed', 'profession', 'attended', 'football', 'grade', 'senior', 'harvard', 'campus', 'admission', 'universities', 'panel', 'sponsored', 'graduate', 'dartmouth', 'brooklyn', 'players', 'carleton', 'publicity', 'trustees', 'managers', 'portland', 'academy', 'attending', 'publications', 'associate', 'mathematics', '1949', 'founded', 'cooperative', 'supervision', 'athletic', 'hunter']\n",
      "\n",
      "Label: 39: ['private', 'island', 'rhode', 'commission', 'funds', 'authority', 'laws', 'proposed', 'provides', 'vocational', 'assumed', 'declared', 'employees', 'officials', 'governments', 'contract', 'commerce', 'granted', 'review', 'supported', 'welfare', 'approval', 'grant', 'legislation', 'loan', 'adopted', 'allotment', 'scholarship', 'matching', 'finance', 'libraries', 'departments', 'supplement', 'enforcement']\n",
      "\n",
      "Label: 40: ['back', 'came', 'house', 'around', 'went', 'left', 'away', 'head', 'eyes', 'toward', 'room', 'side', 'face', 'looked', 'saw', 'turned', 'open', 'door', 'across', 'car', 'behind', 'office', 'street', 'front', 'stood', 'road', 'moved', 'inside', 'looking', 'building', 'wall', 'walked', 'hall', 'sat', 'ran', 'stopped', 'steps', 'window', 'corner', 'slowly', 'waiting', 'standing', 'walk', 'sitting', 'waited']\n",
      "\n",
      "Label: 41: ['broad', 'fields', 'forest', 'weapons', 'demands', 'disease', 'widely', 'fill', 'missile', 'instrument', 'atomic', 'valuable', 'extensive', 'pilot', 'technology', 'replaced', 'weapon', 'laboratory', 'guidance', 'presumably', 'emergency', 'furthermore', 'specifically', 'foundation', 'serves', 'extension', 'latest', 'vehicle', 'presently', 'hunting', 'favorable', 'involving', 'strictly', 'damage', 'connected', 'healthy', 'collective', 'survival', 'mainly', 'secondary', 'expert', 'associations', 'secure', 'skilled', 'concentrated', 'perform', 'furnish', 'meetings', 'exclusive', 'expanding', 'talents', 'communications', 'consistent', 'prevention', 'aids', 'distributed', 'submarine', 'instruction', 'justify', 'exceptions', 'wars', 'peaceful', 'applications', 'coverage', 'conferences', 'operational', 'phases', 'aimed', 'access', 'originally', 'encouraging', 'governmental', 'stressed', 'champion', 'ultimately', 'sharing', 'select', 'recommendations', 'obligations', 'investigations', 'statistics', 'balanced', 'respects', 'valid', 'ownership', 'participate', 'capabilities', 'forests', 'sixties', 'inspection', 'crises', 'replacement', 'orderly', 'adjustments', 'submarines', 'intervention', 'basically', 'struggling', 'minority', 'grains', 'imposed', 'wildlife', 'shipping', 'comprehensive', 'asks']\n",
      "\n",
      "Label: 42: ['line', 'air', 'sound', 'near', 'cut', 'paper', 'earth', 'lay', 'step', 'piece', 'carried', 'wide', 'immediately', 'middle', 'forward', 'plane', 'pool', 'distance', 'reach', 'covered', 'clay', 'sides', 'bridge', 'pieces', 'base', 'weight', 'cover', 'enemy', 'key', 'bottom', 'finished', 'carefully', 'shape', 'speed', 'regular', 'spread', 'slightly', 'bar', 'fresh', 'opposite', 'edge', 'solid', 'knife', 'frame', 'upper', 'dry', 'keeping', 'circle', 'remove', 'spot', 'stream', 'desired']\n",
      "\n",
      "Label: 43: ['generally', 'ways', 'somewhat', 'degree', 'persons', 'served', 'appear', 'serious', 'design', 'effects', 'elements', 'despite', 'reasons', 'related', 'books', 'changed', 'successful', 'highly', 'noted', 'regard', 'moreover', 'stated', 'appears', 'interesting', 'offer', 'teacher', 'features', 'response', 'faculty', 'command', 'responsible', 'naturally', 'levels', 'achievement', 'object', 'aspects', 'achieved', 'critical', 'apply', 'spite']\n",
      "\n",
      "Label: 44: ['surface', 'pressure', 'material', 'low', 'range', 'temperature', 'reaction', 'rise', 'gas', 'heat', 'anode', 'measured', 'drop', 'arc']\n",
      "\n",
      "Label: 45: ['passed', 'appeared', 'met', 'worked', 'moving', 'remained', 'played', 'filled', 'entered', 'usual', 'americans', 'goes', 'died', 'mark', 'winter', 'remembered', 'laid', 'removed', 'pointed', 'twice', 'discovered', 'village', 'drawn', 'settled', 'leading', 'occurred', 'broken', 'arrived', 'setting', 'struck', 'mine', 'informed', 'faced', 'spend', 'dozen', 'mention', 'conversation', 'noticed', 'sleeping', 'palace', 'forgotten', 'chose', 'forty', 'seconds']\n",
      "\n",
      "Label: 46: ['assistance', 'continuing', 'budget', 'housing', 'expenditures', 'financing', 'electronics', 'procurement', 'grants']\n",
      "\n",
      "Label: 47: ['man', 'old', 'young', 'boy', 'wife', 'woman', 'girl', 'mother', 'father', 'dead', 'son', 'husband', 'married', 'loved']\n",
      "\n",
      "Label: 48: ['time', 'little', 'still', 'men', 'long', 'place', 'found', 'water', 'put', 'hand', 'enough', 'took', 'called', 'big', 'along', 'light', 'began', 'hands', 'gave', 'either', 'body', 'already', 'keep', 'brought', 'moment', 'job', 'close', 'turn', 'full', 'short', 'outside', 'strong', 'play', 'longer', 'finally', 'kept', 'taking', 'coming', 'instead', 'added', 'move', 'hold', 'actually', 'rest', 'picture', 'bring', 'start', 'working', 'fall', 'comes']\n",
      "\n",
      "Label: 49: ['ship', 'sam', 'dogs', 'hanover', 'parker', 'surprised', 'uncle', 'warren', 'cousin', 'luck', 'wright', 'mama', 'anne', 'rachel', 'linda', 'carl', 'pike', 'tonight', 'robinson', 'chicken', 'jim', 'maris', 'hurry', 'stanley', 'reporters', 'andy', 'lunch', 'bride', 'rector', 'harold', 'chandler', 'eating', 'scotty', 'damn', 'checked', 'felix', 'lane', 'eddie', 'cried', 'grinned', 'miriam', 'tea', 'mickey', 'brannon', 'laugh', 'ramey', 'wherever', 'dan', 'permission', 'clayton', 'myra', 'shayne', 'marshal', 'sarah', 'ekstrohm', 'greg', 'owen', 'eugene', 'pack', 'wally', 'cancer', 'blanche', 'tim', 'yeah', 'tractor', 'moore', 'bore', 'midnight', 'pete', 'casey', 'bobby', 'wake', 'pa', 'maggie', 'aunt', 'panic', 'bother', 'yelled', 'bobbie', 'witnesses', 'startled', 'keeps', 'pitcher', 'ben', 'kay', 'joyce', 'lucky', 'wondering', 'scared', 'smart', 'bridget', 'keith', 'maude', 'sheriff', 'bet', 'buck', 'loud', 'figured', 'reporter', 'dolores', 'doc', 'anyhow', 'cathy', 'michelangelo', 'okay', 'borden', 'skyros', 'rob', 'snapped', 'damned', 'rousseau', 'killpath', 'haney', 'folks', 'shrugged', 'tommy']\n",
      "\n",
      "Label: 50: ['one', 'even', 'much', 'well', 'people', 'good', 'make', 'might', 'without', 'course', 'always', 'though', 'far', 'yet', 'give', 'often', 'felt', 'best', 'seemed', 'mind', 'others', 'kind', 'perhaps', 'quite', 'seen', 'word', 'words', 'probably', 'real', 'known', 'reason', 'seem', 'sometimes', 'able', 'child', 'says', 'believe', 'mean', 'idea', 'alone', 'read', 'person', 'lost', 'feeling', 'simply', 'sort', 'answer', 'thinking', 'certainly', 'understand', 'apparently']\n",
      "\n",
      "Label: 51: ['john', 'name', 'wrote', 'police', 'william', 'sent', 'letter', 'friend', 'george', 'letters', 'returned', 'thomas', 'charles', 'manager', 'king', 'mary', 'named', 'henry', 'governor', 'yesterday', 'judge', 'editor', 'telephone', 'louis', 'brother', 'daughter', 'jones', 'morgan', 'richard', 'frank', 'message', 'wilson', 'lewis', 'papers', 'lawyer', 'copy', 'thompson']\n",
      "\n",
      "Label: 52: ['victory', 'orchestra', 'baseball', 'palmer', 'runs', 'band', 'la', 'player', 'engine', 'screen', 'ballet', 'dancing', 'bob', 'concert', 'comedy', 'piano', 'harry', 'row', 'knee', 'presidential', 'golf', 'sing', 'italy', 'quarter', 'fewer', 'rice', 'performances', 'symphony', 'winning', 'dancer', 'russians', 'johnny', 'theatre', 'sang', 'santa', 'magnificent', 'festival', 'sessions', 'sixth', 'contest', 'bears', 'concerts', 'lively', 'delightful', 'repeat', 'cavalry', 'cocktail', 'stadium', 'star', 'pittsburgh', 'amateur', 'coach', 'broadway', 'seventeen', 'actor', 'eighth', 'westminster', 'resumed', 'protest', 'boating', 'exhibition', 'baltimore', 'spectacular', 'teams', 'vienna', 'auto', 'blues', 'rhythm', 'tip', 'sandburg', 'speeches', 'definitely', 'anniversary', 'wheels', 'partisan', 'occurring', 'ninth', 'splendid', 'strikes', 'tournament', 'guided', '1927', 'guitar', 'emerge', 'chorus', 'talks', 'tokyo', 'fame']\n",
      "\n",
      "Label: 53: ['music', 'century', 'book', 'fine', 'written', 'reading', 'series', 'movement', 'writing', 'choice', 'scene', 'role', 'events', 'jazz', 'style', 'accepted', 'film', 'tradition', 'older', 'entirely', 'frequently', 'records', 'dance', 'famous', 'poetry', 'marked', 'musical', 'presented', 'event', 'literary', 'writers', 'familiar', 'revolution', 'fashion', 'stands', 'largely', 'excellent', 'plays', 'arts', 'imagination', 'contemporary', 'recognize', 'pleasure', 'novel', 'painting', 'occasion', 'artist', 'theme', 'generation', 'poem', 'fiction']\n",
      "\n",
      "Label: 54: ['french', 'battle', 'german', 'russian', 'fighting', 'rapidly', 'fellow', 'congo', 'soldiers', 'fort', 'win', 'risk', 'symbol', 'troops', 'indian', 'abroad', 'welcome', 'millions', 'royal', 'guard', 'hearst', 'cuba', 'thousands', 'moscow', 'lincoln', 'mostly', 'spirits', 'mobile', 'slaves', 'insisted', 'ships', 'guns', 'fed', 'japan', 'banks', 'navy', 'colonel', 'jackson', 'occupied', 'meanwhile', 'sending', 'canada', 'fate', 'naval', 'survive', 'castro', 'indians', 'allies', 'frontier', 'sherman', 'threatened', 'commander', 'quarters', 'settlement', 'traders', 'parade', 'regiment', 'occupation', 'relatives', 'strategy', 'overseas', 'educated']\n",
      "\n",
      "Label: 55: ['cost', 'total', 'rate', 'tax', 'increase', 'costs', 'pay', 'amount', 'higher', 'increased', 'due', '1961', 'sales', 'average', 'lower', 'additional', 'fiscal', 'income', 'rates', 'annual', 'operating', 'gain', 'estimated', 'wages']\n",
      "\n",
      "Label: 56: ['leave', 'call', 'ask', 'hotel', 'stay', 'doctor']\n",
      "\n",
      "Label: 57: ['points', 'image', 'fixed', 'p', 'platform', 'cell', 'resolution', 'location', 'neighborhood', 'hence', 'completion', 'represented', 'angle', 'operator', 'functions', 'q', 'curve', 'consists', 'readily', 'assumption', 'composed', 'bars', 'e', 'atoms', 'trials', 'derived', 'hydrogen', 'defined', 'r', 'corresponding', 'random', 'axis', 'onset', 'n', 'multiple', 'f', 'similarly', 'variable', 'binomial', 'meets', 'probability', 'isolated', 'sequence', 'pencil', 'equation', 'namely', 'allowing', 'identical', 'frequencies', 'locking', 'network', 'occurrence', 'dimensions', 'stem', 'subsequent', 'specified', 'limitations', 'optimal', 'polynomial', 'refer', 'consisting', 'define', 'occurs', 'minimal', 'v', 'outcome', 'variables', 'tangent', 'correspondence', 'transformed', 'categories', 'zero', 'crystal', 'category', 'fraction', 'h', 'displacement', '0', 'successes', 'arbitrary', 'masses', 'computed', 'intermediate', 'linear', 'transformation', 'probabilities', 'label', 'slope', 'curves', 'numerical', 'vector', 'vertex', 'bargaining']\n",
      "\n",
      "Label: 58: ['strength', 'nuclear', 'factors', 'success', 'condition', 'produced', 'add', 'relationship', 'possibility', 'significant', 'relatively', 'circumstances', 'remains', 'capacity', 'subjects', 'tone', 'contrast', 'factor', 'danger', 'birth', 'sufficient', 'dramatic', 'argument', 'greatly', 'possibly', 'conclusion', 'understood', 'exercise', 'culture', 'absence', 'examples', 'content', 'element', 'qualities', 'talent', 'striking', 'wealth']\n",
      "\n",
      "Label: 59: ['used', 'use', 'order', 'possible', 'need', 'means', 'information', 'cannot', 'making', 'special', 'future', 'necessary', 'plan', 'needed', 'basis', 'space', 'required', 'complete', 'makes', 'likely', 'considered', 'merely', 'direct', 'consider', 'treatment', 'limited', 'suggested']\n",
      "\n",
      "Label: 60: ['machine', 'break', 'patient', 'looks', 'fit', 'carrying', 'buy', 'weather', 'aside', 'careful', 'travel', 'slow', 'animals', 'draw', 'motion', 'putting', 'loose', 'eventually', 'begun', 'expense', 'strike', 'concrete', 'blind', 'vacation', 'flight', 'load', 'arranged', 'liquor', 'ease', 'lots', 'rough', 'bread', 'thoroughly', 'finish', 'destroyed', 'track', 'definite', 'push', 'cash', 'schedule', 'waste', 'disappeared', 'tied', 'bigger', 'worst', 'ocean', 'blow', 'attempted', 'starts', 'muscles', 'hoping', 'designs', 'cure', 'absolutely', 'publicly', 'combat', 'upward', 'preferred', 'wishes', 'cycle', 'harder', 'generations', 'helpless', 'mate', 'physically']\n",
      "\n",
      "Label: 61: ['hot', 'pain', 'coffee', 'round', 'killed', 'die', 'clean', 'beat', 'cool', 'fat', 'snow', 'smile', 'wondered', 'flowers', 'alive', 'joe', 'minute', 'thoughts', 'crowd', 'breakfast', 'pull', 'surprise', 'sick', 'laughed', 'pair', 'ride', 'till', 'hoped', 'tired', 'cry', 'drinking', 'cook', 'humor', 'ring', 'ice', 'hans', 'throw', 'demanded', 'bag', 'funny', 'papa', 'shouted', 'mad', 'listening', 'supper', 'swimming', 'susan', 'drunk', 'hurt', 'comfortable', 'paint', 'thank', 'dressed', 'smiling', 'dirty', 'calm', 'crazy', 'stuff', 'letting', 'asleep', 'meal', 'dawn', 'tight', 'pot', 'cap', 'eileen', 'disturbed', 'johnnie', 'penny', 'dive', 'sink', 'whisky', 'belly', 'mess', 'fault', 'dishes', 'guys', 'happily', 'awake', 'policeman']\n",
      "\n",
      "Label: 62: ['system', 'group', 'social', 'form', 'thus', 'major', 'control', 'level', 'value', 'process', 'greater', 'values', 'conditions', 'forces', 'basic', 'changes', 'organization', 'function', 'structure']\n",
      "\n",
      "Label: 63: ['court', 'district', 'trial', 'unless', 'claim', 'agreed', 'file', 'rights', 'hearing', 'ordered', 'directed', 'jury', 'relief', 'attorney', 'appeal', 'grounds', 'administrative', 'investigation', 'supreme', 'courts', 'assembly', 'request', 'denied', 'representative', 'superior', 'recommended', 'referred', 'bureau', 'appointed', 'representatives', 'approved', 'desegregation', 'joint', 'revenue', 'dispute', 'filed', 'rejected', 'charter', 'ruled', 'jurisdiction', 'petitioner', 'regulations', 'rendered', 'recommend', 'recommendation', 'preliminary', 'wagner', 'submitted', 'proceedings', 'sue']\n",
      "\n",
      "Label: 64: ['white', 'black', 'red', 'dark', 'brown', 'hair', 'blue', 'color', 'beautiful', 'arms', 'blood', 'green', 'sun', 'heavy', 'deep', 'mouth', 'teeth', 'thin', 'bright', 'rose', 'neck', 'watched', 'gray', 'walls', 'dress', 'thick', 'wore', 'nose', 'stared', 'sky', 'pale', 'tall', 'yellow', 'tiny', 'pink', 'skin', 'golden', 'shade', 'beard', 'blonde']\n",
      "\n",
      "Label: 65: ['industry', 'effective', 'price', 'security', 'increases', 'exchange', 'policies', 'competition', 'wage', 'measures', 'salary']\n",
      "\n",
      "Label: 66: ['radio', 'obtained', 'indicated', 'energy', 'radiation', 'materials', 'distribution', 'stations', 'presence', 'shelter', 'protection', 'chemical', 'moon', 'sample', 'intensity', 'measurements', 'foods', 'waves', 'comparison', 'wave', 'observations', 'thermal', 'emission', 'temperatures']\n",
      "\n",
      "Label: 67: ['states', 'united', 'union', 'nations', 'countries', 'western', 'soviet', 'leaders', 'communist', 'laos', 'european', 'peoples']\n",
      "\n",
      "Label: 68: ['spoke', 'sweet', 'minister', 'martin', 'david', 'silent', 'wearing', 'calling', 'alexander', 'watson', 'lovely', 'distinguished', 'pleased', 'handsome', 'lawrence', 'handed', 'temple', 'sister', 'briefly', 'instant', 'noise', 'spanish', 'jane', 'clerk', 'johnson', 'lee', 'mountain', 'williams', 'howard', 'gesture', 'excitement', 'remark', 'listened', 'mighty', 'morse', 'ann', 'shorts', 'ear', 'harris', 'hal', 'colony', 'laughing', 'fred', 'ranch', 'cady', 'ill', 'unhappy', 'pointing', 'stretch', 'billy', 'recalled', 'mount', 'landing', 'coolidge', 'arlene', 'frightened', 'helva', 'conductor', 'wildly', 'honey', 'fog', 'promising', 'seated', 'theresa', 'tie', 'arrival', 'burns', 'stuck', 'hungry', 'cat', 'excited', 'complained', 'sighed', 'ah', 'gang', 'regularly', 'laughter', 'steadily', 'morris', 'questioning', 'ugly', 'shame', 'podger', 'cromwell', 'sixty', 'envelope', 'dare', 'stumbled', 'reverend', 'rang', 'donald', 'rush', 'invitation', 'responded', 'lean', 'worries', 'impulse', 'drank', 'addressed', 'companion', 'pamela', 'shocked', 'instantly', 'ridiculous', 'sober', 'paula', 'fury', 'letch', 'aged', 'announce', 'ernie', 'stevens']\n",
      "\n",
      "Label: 69: ['bill', 'included', 'worth', 'previous', 'workers', 'receive', 'connection', 'benefit', 'homes', 'advance', 'roads', 'extended', 'rural', 'estate', 'automobile', 'hopes', 'considering', 'bonds', 'bills', 'engaged', 'expansion', 'boards', 'insurance', 'offices', 'charges', 'amounts', 'transportation', 'concerns', 'proposal', 'spending', 'highway', 'customers', 'legislature', 'colleges', 'skills', 'reserve', 'retired', 'adjustment', 'reasonably', 'benefits', 'effectiveness', 'involve', 'vigorous', 'municipal', 'advantages', 'surplus', 'prospect', 'prospects', 'taxpayers', 'saving', 'expanded']\n",
      "\n",
      "Label: 70: ['poet', 'turning', 'sharp', 'dust', 'warm', 'grew', 'wind', 'soft', 'wild', 'sounds', 'driver', 'burning', 'occasionally', 'plain', 'angry', 'brush', 'switch', 'darkness', 'steady', 'smoke', 'stranger', 'sudden', 'ears', 'voices', 'clouds', 'stomach', 'bombs', 'height', 'tongue', 'tears', 'fly', 'jacket', 'burst', 'shouting', 'covers', 'naked', 'barely', 'maid', 'blanket', 'poured', 'warmth', 'sand', 'bullet', 'approaching', 'wings', 'dull', 'mirror', 'shirt', 'julia', 'mysterious', 'staring', 'torn', 'breaking', 'attacked', 'faint', 'cigarette', 'barton', 'swing', 'jump', 'cheap', 'flower', 'stern', 'searching', 'sweat', 'savage', 'despair', 'skirt', 'crack', 'bold', 'shining', 'shadows', 'jungle', 'laura', 'leaped', 'wiped', 'slender', 'whip', 'toast', 'lap', 'dim', 'twisted', 'straightened']\n",
      "\n",
      "Label: 71: ['mass', 'produce', 'atmosphere', 'smaller', 'observed', 'constant', 'flow', 'impact', 'cutting', 'reasonable', 'reduce', 'ideal', 'scale', 'tension', 'slight', 'conventional', 'efficiency', 'maintained', 'models', 'concentration', 'relative', 'electrical', 'contain', 'considerably', 'oxygen', 'occur', 'resulting', 'sufficiently', 'possibilities', 'particles', 'comparable', 'shear', 'transfer', 'pressures', 'thyroid', 'accuracy', 'coating', 'output', 'measurement', 'chlorine', 'depending', 'skywave', 'reducing', 'strain', 'density', 'flux', 'utility', 'magnitude', 'electron', 'marginal', 'exposure', 'heating', 'oxidation', 'substrate', 'sphere', 'availability', 'particle']\n",
      "\n",
      "Label: 72: ['stock', 'du', 'potential', 'gross', 'substantial', 'fund', 'rising', 'sets', 'prices', 'charged', 'motors', 'sold', '1954', 'shares', 'sale', 'continues', 'improvement', 'estimate', 'consumer', 'camera', 'outlook', 'substantially', 'producing', 'currently', 'farmers', 'adjusted', 'household', 'decline', 'competitive', 'markets', 'representing', 'dealers', 'fees', 'entertainment', 'suggests', 'profit', 'textile', 'grain', 'customer', 'supporting', 'revenues', 'allowances', 'corporations', 'probable', 'trading', 'dealer', 'contracts', 'absorbed', 'estimates', 'civilian', 'monthly', 'characterized', 'retail', 'solely', 'remainder', 'earnings', 'priority']\n",
      "\n",
      "Label: 73: ['city', 'york', 'central', 'received', 'county', 'england', 'entire', 'trade', 'throughout', 'according', 'record', 'southern', 'continued', 'former', 'recently', 'progress', 'chief', 'reported', 'main', 'staff', 'growing', 'serve', 'built', 'churches', 'project', 'civil', 'citizens', 'classes', 'reports', 'catholic', 'recognized', 'mission', 'formed', 'headquarters', 'railroad', 'organized', 'largest', 'metropolitan']\n",
      "\n",
      "Label: 74: ['post', 'bank', 'providence', 'virginia', 'california', 'located', 'coast', 'headed', 'dallas', 'joined', 'issued', 'massachusetts', 'philadelphia', 'grand', 'northern', 'georgia', 'native', 'avenue', 'pennsylvania', 'includes', 'hundreds', 'manchester', 'route', 'tour', 'downtown', 'democrats', 'illinois', 'mississippi', 'mayor', 'ohio', 'visiting', 'atlanta', 'urged', 'clark', 'elected', 'falls', 'factory', 'territory', 'kansas', 'heading', 'pacific', 'gallery', 'extending', 'allied', 'suburban', 'residence', 'southeast', 'irish', 'yankees', 'voted', 'shopping', 'delaware', 'greenwich', 'jersey', 'northwest', 'carolina', 'neighboring', 'advisory', 'clubs', 'factories', 'registered', 'orange', 'historic', 'memorial', 'maryland', 'madison', 'civic', 'tennessee', 'degrees', 'traveled', 'expects', 'gulf', 'capitol', 'empire', 'miami', 'springs', 'port', 'detroit', 'colonial', 'michigan', 'missouri', 'warwick', 'prairie', 'monument', 'vermont', 'voters', 'border', 'cape', 'residents', 'parks', 'florida', 'chapel', 'alabama', 'airport', 'mexico', 'wisconsin', 'columbia']\n",
      "\n",
      "Label: 75: ['losses', 'remaining', 'neutral', 'code', 'claimed', 'pont', 'thereby', 'returns', 'pathology', 'temporary', '19', 'seventh', '1952', 'widespread', 'et', 'questioned', 'contributions', 'unions', 'appointment', 'newly', 'calendar', 'diplomatic', '1956', 'mechanism', 'offering', 'committed', 'permits', 'requirement', 'injury', 'suspicion', 'mitchell', 'kingdom', 'stockholders', 'acquired', 'snakes', 'constitutional', 'viewed', 'nato', 'attracted', 'critic', 'mothers', 'delayed', 'shelters', 'attached', 'lands', 'entering', 'subjected', 'ruling', 'qualified', 'cited', 'draft', 'honored', 'biggest', 'puerto', 'assembled', 'exclusively', 'employee', 'declaration', 'interpreted', 'automobiles', 'narrative', 'astronomy', 'amendment', 'anticipated', '29', 'furnished', 'illustration', 'sentiment', 'victor', 'enable', 'congressional', 'miller', 'voluntary', 'attacks', 'earliest', 'retained', 'posts', 'conspiracy', 'ralph', 'doubtful', 'merchants', 'convenient', 'architect', 'occasions', 'describes', 'grows', 'destiny', 'reliable', 'preparing', 'physiological', 'alaska', 'refund', 'hypothalamic', 'merger', 'delay', '1948', 'socialist', 'johnston', '1950', 'rico', 'dedication', 'unlikely', 'behalf', 'giants', 'vernon', '28', 'prisoners', 'prospective', 'profits', 'heritage', 'commodities', 'katanga', 'enjoyment', 'possession', 'nuts', 'circular', 'telegraph', 'mars', 'legislators', 'votes', 'illness', 'hospitals', 'treaty', 'alliance', 'sailing', 'temporarily', '1946', '75', 'promises', 'bundle', 'slim', 'converted', 'gather', 'warrant', 'thereafter', 'notable', 'binding', 'accordance', 'socialism', 'sixteen', 'merchant', 'relating', 'fractions', 'pursue', 'plato', 'consistently', 'arrest', 'discharge', 'cuban', 'commissioner', 'appeals', 'tangible', 'politicians', 'respective', 'directors', 'filing', 'vincent', 'span', 'convenience', 'condemned', 'documents', 'corporate', 'entries', 'makers', 'decisive', 'dated', 'fatal', 'flood', 'mechanics', 'preserved', 'infinite', 'diseases', 'daytime', 'patents', 'plantation', 'tetrachloride', 'nonspecific', 'privilege', 'formally', 'committees', 'earned', 'deliver', '35', 'juvenile', 'resentment', '1945', 'objection', 'rebel', 'ceremony', 'costumes', 'stein']\n",
      "\n",
      "Label: 76: ['london', 'san', 'rome', 'paris', 'newspaper', 'tomorrow', 'duty', 'theater', 'los', 'angeles', 'opera', 'italian', 'mail', 'cast', 'admitted', 'prison', 'waters', 'journal', 'visited', 'queen', 'orleans', 'magazine', 'newspapers', 'reception', 'arrangements', 'harbor', 'printed', 'wednesday', 'returning', 'owners', 'succeeded', 'advised', 'unfortunately', 'nights', 'funeral', 'wedding', 'circles', 'gorton', 'fourteen', 'louisiana', 'nowhere', 'sons', 'movie', 'reminded', 'journey', 'convention', 'weekend', 'eager', 'newport', 'scholars', 'controversy', 'storm', 'invited', 'palfrey', 'houston', 'demonstration', 'workshop', 'masters', 'arrive', 'luncheon', 'lawyers', 'hollywood', 'sponsor', 'engagement', 'manhattan', 'fortunately', 'salem', 'arrested']\n",
      "\n",
      "Label: 77: ['population']\n",
      "\n",
      "Label: 78: ['force', 'lines', 'beyond', 'stage', 'single', 'directly', 'direction', 'led', 'lead', 'placed', 'established', 'follow', 'develop', 'acting']\n",
      "\n",
      "Label: 79: ['1', '2', '3', '4', 'section', 'shown', '5', 'c', 'aj', '6', '8', 'b', '7', 'chapter', 'item']\n",
      "\n",
      "Label: 80: ['war', 'south', 'west', 'north', 'peace', 'america', 'east', 'europe', 'british', 'germany', 'france', 'berlin', 'russia', 'china', 'britain', 'africa', 'asia', 'atlantic', 'eastern']\n",
      "\n",
      "Label: 81: ['act', 'corporation', 'title', 'article', 'assignment', 'india', 'entitled', 'payment', 'payments', 'provision', 'expenses', 'award', 'treasury', 'provisions', 'authorized', 'loans', 'reorganization', 'pursuant']\n",
      "\n",
      "Label: 82: ['river', 'ahead', 'station', 'drive', 'trees', 'sea', 'park', 'houses', 'train', 'buildings', 'camp', 'rock', 'valley', 'faces', 'hill', 'rain', 'traffic', 'horses', 'block', 'yards', 'signal', 'narrow', 'drove', 'beach', 'shore', 'streets', 'somewhere', 'stone', 'safe', 'bay', 'entrance', 'cross', 'wagon', 'walking', 'lake', 'hudson', 'pushed', 'driving', 'silence', 'hills', 'via', 'mile', 'lights', 'nearby', 'riding', 'approached', 'climbed', 'flying', 'reaching', 'mountains', 'rode', 'gate', 'shadow', 'yard', 'bus', 'parked', 'mud', 'gardens', 'farther', 'split', 'fence', 'fled', 'horizon', 'woods', 'crossing', 'sidewalk', 'cottage', 'ridge']\n",
      "\n",
      "Label: 83: ['women', 'friends', 'stand', 'boys', 'girls', 'note', 'ones', 'poor', 'pretty', 'write', 'playing', 'begin', 'learn', 'realize', 'wished', 'telling', 'fun']\n",
      "\n",
      "Label: 84: ['sign', 'model', 'aircraft', 'electric', 'electronic', 'commercial', 'machinery', 'plants', 'motor', 'machines', 'vehicles', 'boats', 'advertising', 'impressive', 'operate', 'manufacturers', 'purchase', 'safety', 'supplies', 'panels', 'precision', 'steel', 'meat', 'expensive', 'raw', 'tend', 'cooling', 'storage', 'seed', 'prominent', 'automatic', 'tool', 'attractive', 'handling', 'cotton', 'processing', 'cleaning', 'industries', 'supplied', 'stores', 'installed', 'patent', 'owned', 'suitable', 'tools', 'branches', 'wash', 'quantity', 'mills', 'testing', 'plastic', 'selling', 'plastics', 'replace', 'buying', 'modest', 'transferred', 'builder', 'sewage', 'operated', 'builders', 'promotion', 'register', 'gear', 'feeding', 'productive', 'sba', 'manufacturing', 'savings', 'gin', 'manufacturer', 'craft', 'lighting', 'inventory', 'bid', 'conversion', 'repair', 'disposal', 'purchased', 'improvements', 'package', 'specialists', 'stocks']\n",
      "\n",
      "Label: 85: ['tree', 'gradually', 'sports', 'iron', 'heads', 'wire', 'distant', 'paintings', 'equipped', 'beer', 'fish', 'swept', 'openly', 'keys', 'branch', 'spots', 'fishing', 'cooking', 'tossed', 'colored', 'trail', 'outer', 'horn', 'islands', 'ranging', 'root', 'silver', 'belt', 'trips', 'cow', 'gathering', 'examined', 'prize', 'wound', 'african', 'freight', 'cloud', 'surfaces', 'prayer', 'dried', 'placing', 'scattered', 'surrounding', 'flew', 'christmas', 'literally', 'frozen', 'paying', 'released', 'bridges', 'meals', 'planes', 'ward', 'al', 'aboard', 'patrol', 'hired', 'pile', 'proceeded', 'fist', 'rank', 'bend', 'motel', 'seized', 'tail', 'depression', 'weekly', 'leather', 'barrel', 'angels', 'drivers', 'peas', 'wines', 'circuit', 'ruth', 'heights', 'worn', 'attempting', 'plates', 'giant', 'rocks', 'wounded', 'whispered', 'fogg', 'pip', 'servants', 'warned', 'trucks', 'adding', 'patience', 'palm', 'loaded', 'di', 'autumn', 'surrender', 'shell', 'racing', 'bombers', 'sticks', 'drinks', 'melting', 'tire', 'herd', 'jail', 'hesitated', 'surrounded', 'flash', 'loop', 'francis', 'beam', 'winds', 'marble', 'addresses', 'obliged', 'desert', 'bullets', 'melody', 'breathing', 'tsunami', 'el', 'observers', 'greeted', 'ranks', 'hotels', 'injured', 'fitted', 'secrets', 'hidden', 'crash', 'crop', 'cream', 'tones', 'trap', 'alike', 'vacuum', 'endless', 'nest', 'distinctive', 'tooth', 'styles', 'bones', 'wit', 'slide', 'boots', 'crawled', 'nude', 'lungs', 'underground', 'interviews', 'guards', 'lodge', 'string', 'ray', 'stroke', 'crown', 'victims', 'packed', 'businesses', 'delivery', 'toes', 'ham', 'ladder', 'traveling', 'slip', 'neatly', 'midst', 'ambition', 'deadly', 'canvas', 'dairy', 'polish', 'tobacco', 'depths', 'sketches', 'fever', 'situated', 'fats', 'amen', 'distances', 'hay', 'timber', 'glued', 'smelled', 'stolen', 'repeatedly', 'arkansas', 'lip', 'erected', 'camps', 'loyal', 'ranged', 'dick', 'squad', 'kicked', 'lemon', 'fan', 'knight']\n",
      "\n",
      "Label: 86: ['attention', 'indeed', 'food', 'deal', 'physical', 'cause', 'performance', 'opportunity', 'character', 'obviously', 'lack', 'firm', 'importance', 'easily', 'stress', 'concern', 'popular', 'giving', 'proper', 'obvious', 'caused', 'greatest', 'takes', 'build', 'loss', 'impossible', 'aware', 'youth', 'forced', 'expression', 'ability', 'nevertheless', 'advantage', 'writer', 'allow', 'capable', 'exist', 'emphasis', 'fairly', 'apparent', 'conscious']\n",
      "\n",
      "Label: 87: ['history', 'art', 'modern', 'english', 'religious', 'knowledge', 'ideas', 'literature', 'science', 'works', 'understanding', 'religion', 'philosophy', 'scientific', 'historical', 'politics']\n",
      "\n",
      "Label: 88: ['variety', 'index', 'cells', 'mentioned', 'address', 'treated', 'selected', 'items', 'plus', 'detail', 'sections', 'reference', 'properties', 'experiments', 'typical', 'procedures', 'text', 'contained', 'solution', 'previously', 'dictionary', 'publication', 'description', 'practices', 'assigned', 'detailed', 'centers', 'characteristics', 'stages', 'ages', 'employed', 'essentially', 'periods', 'containing', 'elsewhere', 'listed', 'errors', 'collected', 'volumes', 'recorded', 'obtain', 'varying', 'varied', 'tissue', 'regarding', 'languages', 'indicates', 'introduction', 'regardless', 'resulted', 'illustrated', 'edition', 'tested', 'staining', 'kinds', 'stored', 'instructions', 'symbolic', 'lists', 'findings', 'demonstrated', 'transition', 'covering', 'respectively', 'articles', 'considerations', 'pages', 'accordingly', 'instances', 'tasks', 'samples', 'examination', 'absent', 'reserved', 'scope', 'entry', 'relevant', 'sampling', 'pertinent', 'indirect', 'classification', 'theoretical', 'summary']\n",
      "\n",
      "Label: 89: ['forms', 'language', 'existence', 'attitude', 'institutions', 'status', 'behavior', 'practice', 'reality', 'differences', 'traditional', 'individuals', 'principles', 'emotional', 'background', 'communication', 'significance', 'search', 'belief', 'spiritual', 'concerning', 'feelings', 'learning', 'technique', 'ultimate', 'evident', 'cultural', 'identity', 'experiences', 'situations', 'opportunities', 'fundamental', 'integration', 'attitudes', 'aspect', 'mere', 'patterns', 'opinions', 'origin', 'recognition', 'dealing', 'external', 'environment', 'urban', 'civilization', 'societies', 'psychological', 'goals', 'shared', 'relationships', 'primitive', 'worship', 'myth', 'structures', 'christianity', 'ethical', 'demonstrate', 'theological', 'philosophical', 'aesthetic', 'democracy', 'functional', 'norms', 'beliefs', 'invention']\n",
      "\n",
      "Label: 90: ['af', 'figure', 'table', 'square', 'volume', 'numbers', 'length', 'figures', 'cars', 'unit', 'shows', 'equal', 'inches', 'reduced', 'region', 'column', 'starting', 'portion', 'formula']\n",
      "\n",
      "Label: 91: ['may', 'also', 'many', 'great', 'however', 'fact', 'less', 'present', 'given', 'rather', 'important', 'case', 'interest', 'although', 'certain', 'different', 'example', 'seems', 'study', 'result', 'change', 'effect', 'therefore', 'evidence', 'situation', 'view', 'recent', 'particular', 'terms', 'especially', 'difficult', 'purpose', 'difference', 'particularly', 'questions', 'normal', 'clearly', 'approach', 'extent', 'considerable']\n",
      "\n",
      "Label: 92: ['small', 'high', 'number', 'large', 'within', 'area', 'field', 'areas', 'center', 'land', 'usually', 'various', 'growth', 'size', 'groups', 'larger']\n",
      "\n",
      "Label: 93: ['day', 'last', 'year', 'later', 'next', 'days', 'early', 'week', 'morning', 'months', 'return', 'late', 'hours', 'weeks', 'nearly', 'summer', 'month', 'spring', 'spent']\n",
      "\n",
      "Label: 94: ['opened', 'bed', 'gun', 'horse', 'dropped', 'glass', 'caught', 'arm', 'mike', 'kitchen', 'quickly', 'picked', 'beside', 'watching', 'bottle', 'pulled', 'box', 'chair', 'phil', 'desk', 'shop', 'truck', 'hat', 'seat', 'bedroom', 'rear', 'swung', 'shut', 'porch']\n",
      "\n",
      "Label: 95: ['million', 'daily', 'feed', 'maximum', '100', 'compared', 'approximately', 'initial', 'minimum', 'billion', '50', 'percent', '60', 'percentage', 'equivalent', 'residential', 'sum', 'acres', 'pounds', 'excess', 'reduction', '40', '200', 'ratio', 'yield', 'net', 'preceding', 'tons', 'cents', '70', 'milligrams', 'exceed']\n",
      "\n",
      "Label: 96: ['memory', 'song', 'jesus', 'perfect', 'vision', 'wonderful', 'flesh', 'taught', 'holy', 'leaves', 'soul', 'terrible', 'younger', 'driven', 'believes', 'grown', 'unlike', 'describe', 'grace', 'mystery', 'sharply', 'pleasant', 'sacred', 'thanks', 'stronger', 'innocent', 'spoken', 'plot', 'virgin', 'routine', 'sad', 'tells', 'phrase', 'dying', 'guilt', 'alert', 'violent', 'tragic', 'romantic', 'extraordinary', 'invariably', 'dreams', 'stars', 'hated', 'utterly', 'gentle', 'patchen', 'vague', 'lonely', 'relieved', 'killing', 'incredible', 'nerves', 'totally', 'belongs', 'uneasy', 'souls', 'possessed', 'killer', 'planet', 'mercy', 'hatred', 'lover', 'lacked', 'loves', 'dreamed', 'servant', 'puzzled']\n",
      "\n",
      "Label: 97: ['state', 'public', 'government', 'program', 'business', 'national', 'development', 'service', 'local', 'federal', 'education', 'military', 'support', 'research', 'defense', 'medical', 'administration', 'foreign', 'training', 'international', 'labor', 'programs', 'aid', 'planning', 'responsibility', 'financial']\n",
      "\n",
      "Label: 98: ['god', 'death', 'love', 'living', 'spirit', 'live', 'hope', 'heart', 'story', 'neither', 'fear', 'truth', 'doubt', 'born', 'faith', 'speak', 'none', 'knows', 'christ', 'marriage', 'everyone', 'lord', 'lives']\n",
      "\n",
      "Label: 99: ['years', 'three', 'four', 'five', 'ago', 'six', 'minutes', 'miles', 'hundred', 'ten', 'seven', 'eight', 'dollars', 'thousand', 'nine', 'twenty', 'fifty', 'thirty', 'fifteen', 'twelve', 'eleven']\n",
      "\n"
     ]
    }
   ],
   "source": [
    "# print out every words in each cluster.\n",
    "cluster_dict = kmeans_word_cluster_df.groupby('cluster')['word'].apply(list).to_dict()\n",
    "print('KMeans:\\n')\n",
    "for cluster in range(100):\n",
    "    print('Label: {}: {}\\n'.format(cluster, cluster_dict[cluster]))"
   ]
  }
 ],
 "metadata": {
  "kernelspec": {
   "display_name": "Python 3",
   "language": "python",
   "name": "python3"
  },
  "language_info": {
   "codemirror_mode": {
    "name": "ipython",
    "version": 3
   },
   "file_extension": ".py",
   "mimetype": "text/x-python",
   "name": "python",
   "nbconvert_exporter": "python",
   "pygments_lexer": "ipython3",
   "version": "3.6.6"
  }
 },
 "nbformat": 4,
 "nbformat_minor": 2
}
