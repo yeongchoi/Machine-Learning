{
 "cells": [
  {
   "cell_type": "markdown",
   "metadata": {},
   "source": [
    "# DSE 220  Homework 3"
   ]
  },
  {
   "cell_type": "markdown",
   "metadata": {},
   "source": [
    "### Load  libraries"
   ]
  },
  {
   "cell_type": "code",
   "execution_count": 1,
   "metadata": {},
   "outputs": [],
   "source": [
    "import numpy as np\n",
    "import pandas as pd\n",
    "import matplotlib.pyplot as plt\n",
    "from sklearn import datasets\n",
    "from sklearn.model_selection import train_test_split\n",
    "from sklearn.feature_extraction.text import TfidfVectorizer\n",
    "\n",
    "# Logistic Regression\n",
    "from sklearn.linear_model import LogisticRegression\n",
    "from sklearn.model_selection import GridSearchCV\n",
    "from sklearn.metrics import accuracy_score\n",
    "\n",
    "# Perceptron_SVM\n",
    "from sklearn.linear_model import Perceptron\n",
    "from sklearn.svm import SVC\n",
    "\n",
    "# Custom kernel\n",
    "from sklearn.metrics.pairwise import cosine_similarity\n",
    "from sklearn.metrics.pairwise import laplacian_kernel\n",
    "\n",
    "# Disable warnings\n",
    "import warnings\n",
    "warnings.filterwarnings('ignore')\n"
   ]
  },
  {
   "cell_type": "markdown",
   "metadata": {},
   "source": [
    "## Part 1: Logistic Regression "
   ]
  },
  {
   "cell_type": "markdown",
   "metadata": {},
   "source": [
    "### Question 1:\n",
    "    \n",
    "Perform a 80-20 split using train test split on the data to obtain the train and the test data. Set random state = 3 while performing the train test split. Use Logistic Regression to classify the wines according to their cultivators. Tune the classifier using Lasso and Ridge regularization techniques under different values of ’C’ using GridSearchCV. Clearly report the parameters of the best classifier and the accuracy on the test data. (10 marks).\n"
   ]
  },
  {
   "cell_type": "code",
   "execution_count": 2,
   "metadata": {},
   "outputs": [],
   "source": [
    "# Load data.\n",
    "wine = pd.read_csv('./wine_original.csv', delimiter=',')\n",
    "\n",
    "# Split data into train and test dataset.\n",
    "train,test = train_test_split(wine, test_size=0.2, random_state=3)\n",
    "\n",
    "# Split data into feature data and label data. \n",
    "train_data = train.iloc[:,1:]\n",
    "train_label = train['class']\n",
    "\n",
    "test_data = test.iloc[:,1:]\n",
    "test_label = test['class']"
   ]
  },
  {
   "cell_type": "code",
   "execution_count": 3,
   "metadata": {},
   "outputs": [
    {
     "name": "stdout",
     "output_type": "stream",
     "text": [
      "Selected Parameters:  {'C': 1, 'penalty': 'l1'}\n",
      "Test Accuracy = 0.8888888888888888\n"
     ]
    }
   ],
   "source": [
    "# Fit logistic regression model on trian dataset.\n",
    "parameters = { 'penalty': ['l1','l2'], \n",
    "               'C':[0.1, 0.5, 1, 2, 3, 4, 5, 10]}\n",
    "logreg = LogisticRegression()\n",
    "clf = GridSearchCV(logreg, parameters)\n",
    "clf.fit(train_data, train_label)\n",
    "\n",
    "# Make prediction on test dataset. \n",
    "test_pred = clf.predict(test_data)\n",
    "accuracy = accuracy_score(test_pred, test_label)\n",
    "print ('Selected Parameters: ', clf.best_params_)\n",
    "print ('Test Accuracy = ' + str(accuracy))"
   ]
  },
  {
   "cell_type": "markdown",
   "metadata": {},
   "source": [
    "## Part 2: Perceptron & Support Vector Machines\n",
    "### Load data "
   ]
  },
  {
   "cell_type": "code",
   "execution_count": 4,
   "metadata": {},
   "outputs": [],
   "source": [
    "# Training dataset. \n",
    "train = datasets.fetch_20newsgroups(subset=('train'), remove=('headers', 'footers', 'quotes'),\n",
    "                                    categories=('alt.atheism','comp.graphics','sci.space','talk.politics.mideast'))\n",
    "train_data = train.data\n",
    "y_train = train.target\n",
    "\n",
    "# Test dataset.\n",
    "test = datasets.fetch_20newsgroups(subset=('test'), remove=('headers', 'footers', 'quotes'),\n",
    "                                   categories=('alt.atheism','comp.graphics','sci.space','talk.politics.mideast'))\n",
    "test_data = test.data\n",
    "y_test = test.target"
   ]
  },
  {
   "cell_type": "markdown",
   "metadata": {},
   "source": [
    "### Vectorize "
   ]
  },
  {
   "cell_type": "markdown",
   "metadata": {},
   "source": [
    "We need to vectorize the documents to train our classifier. Use the TfidfVectorizer to get vectors of the documents (after smoothing1). A common practice is to convert all the documents to lowercase and remove stopwords like a, and, the etc. Use the stopwords set provided by ’nltk.corpus.stopwords’. Take advantage of the parameters provided by the TfidfVectorizer to convert to low- ercase and remove stopwords. (10 marks)"
   ]
  },
  {
   "cell_type": "code",
   "execution_count": 5,
   "metadata": {},
   "outputs": [],
   "source": [
    "# Get stop words. \n",
    "from nltk.corpus import stopwords \n",
    "stopwords = set(stopwords.words('english')) "
   ]
  },
  {
   "cell_type": "code",
   "execution_count": 6,
   "metadata": {},
   "outputs": [],
   "source": [
    "# Vectorize the documents.\n",
    "vectorizer = TfidfVectorizer(smooth_idf=True, lowercase=True, stop_words=stopwords)\n",
    "vectorizer.fit(train_data)\n",
    "\n",
    "X_train = vectorizer.transform(train_data)\n",
    "X_test = vectorizer.transform(test_data)"
   ]
  },
  {
   "cell_type": "markdown",
   "metadata": {},
   "source": [
    "### Question 2:\n",
    "\n",
    "After obtaining the tf-idf vectors for train and test data, use the perceptron model (no penalty) to train on the training vectors and compute the accuracy on the test vectors. (5 marks)\n"
   ]
  },
  {
   "cell_type": "code",
   "execution_count": 7,
   "metadata": {},
   "outputs": [
    {
     "name": "stdout",
     "output_type": "stream",
     "text": [
      "Test accuracy = 0.8078484438430311\n"
     ]
    }
   ],
   "source": [
    "# Model\n",
    "clf = Perceptron(penalty=None)\n",
    "\n",
    "# Fit model on training data.\n",
    "clf.fit(X_train, y_train)\n",
    "\n",
    "# Make prediction on test data.\n",
    "y_pred = clf.predict(X_test)\n",
    "print ('Test accuracy = ' + str(accuracy_score(y_test, y_pred)))"
   ]
  },
  {
   "cell_type": "markdown",
   "metadata": {},
   "source": [
    "### Question 3:\n",
    "\n",
    "Keeping all the above data processing steps same, observe how the test accuracy changes by varying the number of top features selected for 100, 200, 500, 1000, 1500, 2000, 4000, 10000, 20000, 30000 for a perceptron model. Report and plot the results. Provide a brief explanation of the observed results. (10 mark)"
   ]
  },
  {
   "cell_type": "code",
   "execution_count": 8,
   "metadata": {},
   "outputs": [
    {
     "name": "stdout",
     "output_type": "stream",
     "text": [
      "Number of top features: 100,  test accuracy: 0.6069012178619756\n",
      "Number of top features: 200,  test accuracy: 0.6732070365358592\n",
      "Number of top features: 500,  test accuracy: 0.7300405953991881\n",
      "Number of top features: 1000,  test accuracy: 0.7422192151556157\n",
      "Number of top features: 1500,  test accuracy: 0.7523680649526387\n",
      "Number of top features: 2000,  test accuracy: 0.7686062246278755\n",
      "Number of top features: 4000,  test accuracy: 0.7909336941813261\n",
      "Number of top features: 10000,  test accuracy: 0.8125845737483085\n",
      "Number of top features: 20000,  test accuracy: 0.8166441136671178\n",
      "Number of top features: 30000,  test accuracy: 0.8031123139377537\n"
     ]
    }
   ],
   "source": [
    "max_features=[100,200,500,1000,1500,2000,4000,10000,20000,30000]\n",
    "accuracies = []\n",
    "for n in max_features:\n",
    "    # Vectorize the documents.\n",
    "    vectorizer = TfidfVectorizer(smooth_idf=True, lowercase=True, \n",
    "                                 stop_words=stopwords, max_features=n)\n",
    "    vectorizer.fit(train_data)\n",
    "\n",
    "    X_train_sample = vectorizer.transform(train_data)\n",
    "    X_test_sample = vectorizer.transform(test_data)\n",
    "    \n",
    "    # Model\n",
    "    clf = Perceptron(penalty=None)\n",
    "\n",
    "    # Fit model on training data.\n",
    "    clf.fit(X_train_sample, y_train)\n",
    "\n",
    "    # Make prediction on test data.\n",
    "    y_pred = clf.predict(X_test_sample)\n",
    "    accuracy = accuracy_score(y_test, y_pred)\n",
    "    accuracies.append(accuracy)\n",
    "    print('Number of top features: {},  test accuracy: {}'.format(n,accuracy))\n"
   ]
  },
  {
   "cell_type": "code",
   "execution_count": 9,
   "metadata": {},
   "outputs": [
    {
     "data": {
      "image/png": "[encoded data removed]",
      "text/plain": [
       "<Figure size 432x288 with 1 Axes>"
      ]
     },
     "metadata": {
      "needs_background": "light"
     },
     "output_type": "display_data"
    }
   ],
   "source": [
    "# Plot the auccuracies on test data.\n",
    "plt.plot(max_features,accuracies,'*-')\n",
    "plt.xlabel('Number of top features',fontsize=12)\n",
    "plt.ylabel('Test accuracy',fontsize=12)\n",
    "plt.show()"
   ]
  },
  {
   "cell_type": "raw",
   "metadata": {},
   "source": [
    "With small number of features the test data accuray is very low, the model perfomrs poorly on training data. The most highest test accuracy is 81.67% with 20000 features, but with 30000 features the test accuracy dropped a little, which means too many features casued overfiting. "
   ]
  },
  {
   "cell_type": "markdown",
   "metadata": {},
   "source": [
    "### Question 4:\n",
    "\n",
    "After obtaining the tf-idf vectors for train and test data, use the SVM model to train on the training vectors and compute the accuracy on the test vectors. Use linear kernel and default parameters. (5 mark)"
   ]
  },
  {
   "cell_type": "code",
   "execution_count": 10,
   "metadata": {},
   "outputs": [
    {
     "name": "stdout",
     "output_type": "stream",
     "text": [
      "Test accuracy = 0.8335588633288228\n"
     ]
    }
   ],
   "source": [
    "# Model\n",
    "clf = SVC(kernel='linear')\n",
    "# Fit\n",
    "clf.fit(X_train, y_train)\n",
    "# Predict \n",
    "pred = clf.predict(X_test)\n",
    "# Evaluate\n",
    "print ('Test accuracy = ' + str(accuracy_score(y_test, pred)))"
   ]
  },
  {
   "cell_type": "markdown",
   "metadata": {},
   "source": [
    "### Question 5:\n",
    "\n",
    "Keeping all the above data processing steps same observe how the test accuracy changes by varying the number of top features selected for 100, 200, 500, 1000, 1500, 2000, 4000, 10000, 20000, 30000 for a linear SVM model. Report and plot the results. Provide a brief explanation of the observed results. (10 mark)"
   ]
  },
  {
   "cell_type": "code",
   "execution_count": 11,
   "metadata": {},
   "outputs": [
    {
     "name": "stdout",
     "output_type": "stream",
     "text": [
      "Number of top features: 100,  test accuracy: 0.652232746955345\n",
      "Number of top features: 200,  test accuracy: 0.6921515561569689\n",
      "Number of top features: 500,  test accuracy: 0.7422192151556157\n",
      "Number of top features: 1000,  test accuracy: 0.7672530446549392\n",
      "Number of top features: 1500,  test accuracy: 0.7767253044654939\n",
      "Number of top features: 2000,  test accuracy: 0.7855209742895806\n",
      "Number of top features: 4000,  test accuracy: 0.8213802435723951\n",
      "Number of top features: 10000,  test accuracy: 0.8328822733423545\n",
      "Number of top features: 20000,  test accuracy: 0.8315290933694182\n",
      "Number of top features: 30000,  test accuracy: 0.8328822733423545\n"
     ]
    }
   ],
   "source": [
    "max_features=[100,200,500,1000,1500,2000,4000,10000,20000,30000]\n",
    "accuracies = []\n",
    "for n in max_features:\n",
    "    # Vectorize the documents.\n",
    "    vectorizer = TfidfVectorizer(smooth_idf=True, lowercase=True, \n",
    "                                 stop_words=stopwords, max_features=n)\n",
    "    vectorizer.fit(train_data)\n",
    "\n",
    "    X_train_sample = vectorizer.transform(train_data)\n",
    "    X_test_sample = vectorizer.transform(test_data)\n",
    "    \n",
    "    # Model\n",
    "    clf = SVC(kernel='linear')\n",
    "    \n",
    "    # Fit model on training data.\n",
    "    clf.fit(X_train_sample, y_train)\n",
    "\n",
    "    # Make prediction on test data.\n",
    "    y_pred = clf.predict(X_test_sample)\n",
    "    accuracy = accuracy_score(y_test, y_pred)\n",
    "    accuracies.append(accuracy)\n",
    "    print('Number of top features: {},  test accuracy: {}'.format(n,accuracy))\n"
   ]
  },
  {
   "cell_type": "code",
   "execution_count": 12,
   "metadata": {},
   "outputs": [
    {
     "data": {
      "image/png": "[encoded data removed]",
      "text/plain": [
       "<Figure size 432x288 with 1 Axes>"
      ]
     },
     "metadata": {
      "needs_background": "light"
     },
     "output_type": "display_data"
    }
   ],
   "source": [
    "# Plot the auccuracies on test data.\n",
    "plt.plot(max_features,accuracies,'*-')\n",
    "plt.xlabel('Number of top features',fontsize=12)\n",
    "plt.ylabel('Test accuracy',fontsize=12)\n",
    "plt.show()"
   ]
  },
  {
   "cell_type": "raw",
   "metadata": {},
   "source": [
    "Small number of features underfitting the training data, that the model is hard to capture the relationships betweeen vocabularies and document classes. The test accuracies increaed with more and more featrues. The higest test accuracy is 0.833 with both 10000 and 30000 features, and here's no much differences between test accuracies with over 10000 features."
   ]
  },
  {
   "cell_type": "markdown",
   "metadata": {},
   "source": [
    "### Question 6:\n",
    "\n",
    "Perform 80-20 split of the training data to obtain validation data using train test split (random state=10). Use this validation data to tune the regularization parameter ’C’ for values 0.01,0.1,1,10,100. Select the best ’C’ and compute the accuracy for the test data. Report the validation and test accuracies. Use feature vectors of 2000 dimensions.(10 marks)"
   ]
  },
  {
   "cell_type": "code",
   "execution_count": 13,
   "metadata": {},
   "outputs": [],
   "source": [
    "# Vectorize the documents(2000 dimensions).\n",
    "vectorizer = TfidfVectorizer(smooth_idf=True, lowercase=True, stop_words=stopwords, max_features=2000)\n",
    "vectorizer.fit(train_data)\n",
    "\n",
    "X_train_2000 = vectorizer.transform(train_data)\n",
    "X_test_2000 = vectorizer.transform(test_data)\n",
    "\n",
    "# Split training data into train-validation dataset.\n",
    "train_X, vali_X, train_y, vali_y = train_test_split(X_train_2000, y_train, test_size=0.2, random_state=10)\n"
   ]
  },
  {
   "cell_type": "code",
   "execution_count": 14,
   "metadata": {},
   "outputs": [
    {
     "name": "stdout",
     "output_type": "stream",
     "text": [
      "C value and validation accuracy:\n",
      " {0.01: 0.2449438202247191, 0.1: 0.7573033707865169, 1: 0.8449438202247191, 10: 0.8224719101123595, 100: 0.8}\n",
      "\n",
      "The best C value is 1, and the validation accuracy is 0.8449438202247191\n"
     ]
    }
   ],
   "source": [
    "# Tune the regularization parametier 'C'.\n",
    "C=[0.01, 0.1, 1, 10, 100]\n",
    "vali_accuracy={}\n",
    "for c in C:\n",
    "    \n",
    "    # Model\n",
    "    clf = SVC(C=c,kernel='linear')\n",
    "    \n",
    "    # Fit model on training data.\n",
    "    clf.fit(train_X, train_y)\n",
    "\n",
    "    # Make prediction on test data.\n",
    "    vali_pred_y = clf.predict(vali_X)\n",
    "    accuracy = accuracy_score(vali_y, vali_pred_y)\n",
    "    vali_accuracy[c]=accuracy \n",
    "\n",
    "# Best_C\n",
    "best_c = max(vali_accuracy, key=vali_accuracy.get)\n",
    "validation_accuracy = max(vali_accuracy.values())\n",
    "print('C value and validation accuracy:\\n', vali_accuracy)\n",
    "print('\\nThe best C value is {}, and the validation accuracy is {}'.format(best_c, validation_accuracy))\n"
   ]
  },
  {
   "cell_type": "code",
   "execution_count": 15,
   "metadata": {},
   "outputs": [
    {
     "name": "stdout",
     "output_type": "stream",
     "text": [
      "C= 1,  Test accuracy= 0.7855209742895806\n"
     ]
    }
   ],
   "source": [
    "# Model\n",
    "clf = SVC(C=best_c,kernel='linear')\n",
    "    \n",
    "# Fit model on training data.\n",
    "clf.fit(X_train_2000, y_train)\n",
    "\n",
    "# Make prediction on test data.\n",
    "test_pred_y = clf.predict(X_test_2000)\n",
    "accuracy = accuracy_score(y_test, test_pred_y)\n",
    "\n",
    "print('C= {},  Test accuracy= {}'.format(best_c,accuracy))"
   ]
  },
  {
   "cell_type": "markdown",
   "metadata": {},
   "source": [
    "### Question 7: \n",
    "\n",
    "Use the same train and validation split as the previous question. Train a kernelized SVM (with ’C’=10000) with kernel values - ’poly’ with degree 1, 2, 3, ’rbf ’ and ’sigmoid’, and report the one with best accuracy on validation data. Report the test accuracy for the selected kernel. (10 marks)\n"
   ]
  },
  {
   "cell_type": "code",
   "execution_count": 16,
   "metadata": {},
   "outputs": [
    {
     "name": "stdout",
     "output_type": "stream",
     "text": [
      "kernel: ('poly', 1), validation accuracy= 0.8224719101123595\n",
      "kernel: ('poly', 2), validation accuracy= 0.2449438202247191\n",
      "kernel: ('poly', 3), validation accuracy= 0.2449438202247191\n",
      "kernel: rbf,   validation accuracy= 0.8224719101123595\n",
      "kernel: sigmoid,   validation accuracy= 0.8224719101123595\n"
     ]
    }
   ],
   "source": [
    "kernels=['poly', 'rbf','sigmoid']\n",
    "degrees =[1, 2, 3]\n",
    "vali_accuracies={}\n",
    "\n",
    "for k in kernels:\n",
    "    \n",
    "    if k == 'poly':\n",
    "        for d in degrees:\n",
    "            clf = SVC(C=10000, kernel=k,degree=d)\n",
    "            clf.fit(train_X, train_y)\n",
    "            vali_pred_y = clf.predict(vali_X)\n",
    "            accuracy = accuracy_score(vali_y, vali_pred_y)\n",
    "            vali_accuracies[(k,d)] = accuracy\n",
    "            print('kernel: {}, validation accuracy= {}'.format((k,d), accuracy))\n",
    "    else:\n",
    "        clf = SVC(C=10000, kernel=k)\n",
    "        clf.fit(train_X, train_y)\n",
    "        vali_pred_y = clf.predict(vali_X)\n",
    "        accuracy = accuracy_score(vali_y, vali_pred_y)\n",
    "        vali_accuracies[k] = accuracy\n",
    "        print('kernel: {},   validation accuracy= {}'.format(k,accuracy))\n"
   ]
  },
  {
   "cell_type": "code",
   "execution_count": 17,
   "metadata": {},
   "outputs": [
    {
     "name": "stdout",
     "output_type": "stream",
     "text": [
      "The best validation accuracy: 0.8224719101123595, kernel: [('poly', 1), 'rbf', 'sigmoid']\n"
     ]
    }
   ],
   "source": [
    "# Select best kernel and validation accuracy.\n",
    "max_accuracy = max(vali_accuracies.values())\n",
    "best_kernel = [k for k, v in vali_accuracies.items() if v == max_accuracy]\n",
    "print('The best validation accuracy: {}, kernel: {}'.format(max_accuracy, best_kernel))"
   ]
  },
  {
   "cell_type": "code",
   "execution_count": 18,
   "metadata": {},
   "outputs": [
    {
     "name": "stdout",
     "output_type": "stream",
     "text": [
      "Kernel: ('poly', 1), Test accuracy= 0.8224719101123595\n",
      "Kernel: rbf, Test accuracy= 0.7638700947225981\n",
      "Kernel: sigmoid, Test accuracy= 0.7652232746955345\n"
     ]
    }
   ],
   "source": [
    "for K in best_kernel:\n",
    "    if type(K) is tuple:\n",
    "        clf = SVC(C=10000, kernel=K[0], degree=K[1])\n",
    "    else: \n",
    "        clf = SVC(C=10000, kernel=K)\n",
    "    \n",
    "        clf.fit(X_train_2000, y_train)\n",
    "        test_pred_y = clf.predict(X_test_2000)\n",
    "        accuracy=accuracy_score(y_test, test_pred_y)\n",
    "        \n",
    "    print('Kernel: {}, Test accuracy= {}'.format(K,accuracy))"
   ]
  },
  {
   "cell_type": "markdown",
   "metadata": {},
   "source": [
    "## Part 3: Custom Kernel"
   ]
  },
  {
   "cell_type": "markdown",
   "metadata": {},
   "source": [
    "### Question 8:\n",
    "\n",
    "Use **Cosine Similarity** and **Laplacian Kernel** measures, and report the test accuracies using these kernels with SVM. (15 marks)"
   ]
  },
  {
   "cell_type": "code",
   "execution_count": 19,
   "metadata": {},
   "outputs": [
    {
     "name": "stdout",
     "output_type": "stream",
     "text": [
      "<function cosine_similarity at 0x1078e07b8>  Test accuracy =  0.7855209742895806\n",
      "<function laplacian_kernel at 0x1078e0730>  Test accuracy =  0.2665764546684709\n"
     ]
    }
   ],
   "source": [
    "for K in [cosine_similarity, laplacian_kernel]:\n",
    "    clf = SVC(kernel=K)\n",
    "    clf.fit(X_train_2000,y_train)\n",
    "\n",
    "    # Prediction \n",
    "    pred = clf.predict(X_test_2000)\n",
    "    accuracy = accuracy_score(y_test, pred)\n",
    "    print(K,' Test accuracy = ', accuracy)"
   ]
  },
  {
   "cell_type": "markdown",
   "metadata": {},
   "source": [
    "### Question 9:\n",
    "\n",
    "Another way to construct a kernel is use a linear combination of 2 kernels. \n",
    "\n",
    "Let K be a kernel represented as:   $K(x,y)=αK_{1}(x,y)+(1−α)K_{2}(x,y) (0≤α≤1)$\n",
    "\n",
    "Provide a brief explanation of why K is a valid kernel. Does your reasoning hold true for other values of α as well? Let K1 be the Cosine Similarity and K2 be the Laplacian Kernel. Using K as kernel, train a SVM model to tune the value of α (upto one decimal) and report the accuracy on the test data using the selected parameter. (15 marks)"
   ]
  },
  {
   "cell_type": "raw",
   "metadata": {},
   "source": [
    "The K is a valid kernel. A kernel function multiplied by a scalar remains a kernel function, and the sum or product of two kernel functions is still a kernel function. For any positive α(α≥0), K is a valid kernel function. "
   ]
  },
  {
   "cell_type": "code",
   "execution_count": 20,
   "metadata": {},
   "outputs": [],
   "source": [
    "# Kernel function.\n",
    "def my_kernel(X,y):\n",
    "    K1=cosine_similarity(X,y)\n",
    "    K2=laplacian_kernel(X,y)\n",
    "    K=a*K1+(1-a)*K2     \n",
    "    return K"
   ]
  },
  {
   "cell_type": "code",
   "execution_count": 21,
   "metadata": {},
   "outputs": [
    {
     "name": "stdout",
     "output_type": "stream",
     "text": [
      "alpha= 0.0, validation accuraty= 0.2449438202247191\n",
      "alpha= 0.1, validation accuraty= 0.7640449438202247\n",
      "alpha= 0.2, validation accuraty= 0.8179775280898877\n",
      "alpha= 0.3, validation accuraty= 0.8359550561797753\n",
      "alpha= 0.4, validation accuraty= 0.8382022471910112\n",
      "alpha= 0.5, validation accuraty= 0.8471910112359551\n",
      "alpha= 0.6, validation accuraty= 0.851685393258427\n",
      "alpha= 0.7, validation accuraty= 0.8539325842696629\n",
      "alpha= 0.8, validation accuraty= 0.8449438202247191\n",
      "alpha= 0.9, validation accuraty= 0.8471910112359551\n",
      "alpha= 1.0, validation accuraty= 0.8449438202247191\n"
     ]
    }
   ],
   "source": [
    "alpha=np.arange(0, 1.1, 0.1)\n",
    "results={}\n",
    "\n",
    "# Fit model with different alpha values.\n",
    "for a in alpha:\n",
    "    clf = SVC(kernel=my_kernel)\n",
    "    clf.fit(train_X,train_y)\n",
    "    accuracy=accuracy_score(vali_y, clf.predict(vali_X))\n",
    "    results[a]=accuracy\n",
    "    print('alpha= {:.2}, validation accuraty= {}'.format(a,accuracy))"
   ]
  },
  {
   "cell_type": "code",
   "execution_count": 22,
   "metadata": {},
   "outputs": [
    {
     "name": "stdout",
     "output_type": "stream",
     "text": [
      "alpha= 0.7, Test accuraty= 0.793640054127199\n"
     ]
    }
   ],
   "source": [
    "# Select the best alpha.\n",
    "best_alpha = max(results, key=results.get)\n",
    "\n",
    "# Molel\n",
    "a = best_alpha\n",
    "clf = SVC(kernel=my_kernel)\n",
    "\n",
    "# Fit model on training(train+vali) data.\n",
    "clf.fit(X_train_2000,y_train)\n",
    "\n",
    "# Prediction\n",
    "pred = clf.predict(X_test_2000)\n",
    "accuracy=accuracy_score(y_test, pred)\n",
    "print('alpha= {:.2}, Test accuraty= {}'.format(a,accuracy))"
   ]
  }
 ],
 "metadata": {
  "kernelspec": {
   "display_name": "Python 3",
   "language": "python",
   "name": "python3"
  },
  "language_info": {
   "codemirror_mode": {
    "name": "ipython",
    "version": 3
   },
   "file_extension": ".py",
   "mimetype": "text/x-python",
   "name": "python",
   "nbconvert_exporter": "python",
   "pygments_lexer": "ipython3",
   "version": "3.6.6"
  }
 },
 "nbformat": 4,
 "nbformat_minor": 2
}
