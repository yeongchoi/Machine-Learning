{
 "cells": [
  {
   "cell_type": "markdown",
   "metadata": {},
   "source": [
    "# DSE 220 Homework 2"
   ]
  },
  {
   "cell_type": "markdown",
   "metadata": {},
   "source": [
    "### Load  libraries"
   ]
  },
  {
   "cell_type": "code",
   "execution_count": 1,
   "metadata": {},
   "outputs": [],
   "source": [
    "import numpy as np\n",
    "import pandas as pd\n",
    "import itertools\n",
    "import matplotlib.pyplot as plt\n",
    "from collections import Counter \n",
    "from sklearn import datasets\n",
    "from sklearn.model_selection import train_test_split\n",
    "from sklearn.mixture import GaussianMixture\n",
    "from sklearn.metrics import accuracy_score\n",
    "from sklearn.metrics import confusion_matrix\n",
    "from sklearn.discriminant_analysis import LinearDiscriminantAnalysis\n",
    "from sklearn.neighbors import KNeighborsClassifier\n",
    "from sklearn.metrics import mean_squared_error\n",
    "from sklearn.metrics import mean_absolute_error\n",
    "from sklearn.metrics import r2_score"
   ]
  },
  {
   "cell_type": "markdown",
   "metadata": {},
   "source": [
    "## Part 1 - Generative Learning \n",
    "### Load data"
   ]
  },
  {
   "cell_type": "code",
   "execution_count": 2,
   "metadata": {},
   "outputs": [],
   "source": [
    "# Load training dataset.\n",
    "X_train = pd.read_csv('./mnist_train_data.csv', delimiter=',',header=None)\n",
    "y_train = np.genfromtxt('./mnist_train_labels.csv', delimiter=',')\n",
    "\n",
    "# Load test dataset.\n",
    "X_test = pd.read_csv('./mnist_test_data.csv', delimiter=',',header=None)\n",
    "y_test = np.genfromtxt('./mnist_test_labels.csv', delimiter=',')\n"
   ]
  },
  {
   "cell_type": "markdown",
   "metadata": {},
   "source": [
    "### Question 1: \n",
    "\n",
    "Compute and report the prior probabilities $π_{j}$ for all labels. (10 marks)"
   ]
  },
  {
   "cell_type": "code",
   "execution_count": 3,
   "metadata": {},
   "outputs": [
    {
     "data": {
      "text/plain": [
       "{0.0: 0.09866666666666667,\n",
       " 1.0: 0.11183333333333334,\n",
       " 2.0: 0.09683333333333333,\n",
       " 3.0: 0.10133333333333333,\n",
       " 4.0: 0.10383333333333333,\n",
       " 5.0: 0.08566666666666667,\n",
       " 6.0: 0.10133333333333333,\n",
       " 7.0: 0.1085,\n",
       " 8.0: 0.09183333333333334,\n",
       " 9.0: 0.10016666666666667}"
      ]
     },
     "execution_count": 3,
     "metadata": {},
     "output_type": "execute_result"
    }
   ],
   "source": [
    "# Get labels\n",
    "labels=np.unique(y_train)\n",
    "\n",
    "# pi={label: prior probability...}\n",
    "pi={}\n",
    "for j in labels:\n",
    "    pi[j] = np.sum(y_train==j)/len(y_train)\n",
    "pi"
   ]
  },
  {
   "cell_type": "markdown",
   "metadata": {},
   "source": [
    "### Question 2: \n",
    "\n",
    "For each pixel $X_{i}$ and label $j$, compute $P_{ji} = P(X_{i} = 1|y = j)$ (Use the maximum likelihood estimate shown in class). Use Laplacian Smoothing for computing Pji. Report the highest Pji for each label j. (15 marks)"
   ]
  },
  {
   "cell_type": "code",
   "execution_count": 4,
   "metadata": {},
   "outputs": [],
   "source": [
    "# Append 'class' label to traning dataset.\n",
    "X_train['class'] = y_train"
   ]
  },
  {
   "cell_type": "markdown",
   "metadata": {},
   "source": [
    "Use the maximum likelihood estimation. $\\hat{P_{ji}}= \\frac{n_{ji}}{n_{j}}$\n",
    "\n",
    "Laplacian Smoothing for $P_{ji}$: $\\hat{P_{ji}}= \\frac{n_{ji}+1}{n_{j}+2}$"
   ]
  },
  {
   "cell_type": "code",
   "execution_count": 5,
   "metadata": {},
   "outputs": [],
   "source": [
    "# Number of instaces of class j.\n",
    "n_j = X_train.groupby(['class']).size()\n",
    "\n",
    "# Number of instances of class j with Xi=1.\n",
    "n_ji = X_train.groupby(['class']).sum()\n",
    "\n",
    "# Get likelihood probabilitis.\n",
    "pr = (n_ji+1).div(n_j+2,axis=0)"
   ]
  },
  {
   "cell_type": "code",
   "execution_count": 6,
   "metadata": {},
   "outputs": [
    {
     "data": {
      "text/plain": [
       "class\n",
       "0.0    0.851852\n",
       "1.0    0.985141\n",
       "2.0    0.728988\n",
       "3.0    0.808197\n",
       "4.0    0.849600\n",
       "5.0    0.711240\n",
       "6.0    0.849180\n",
       "7.0    0.794793\n",
       "8.0    0.875226\n",
       "9.0    0.867330\n",
       "dtype: float64"
      ]
     },
     "execution_count": 6,
     "metadata": {},
     "output_type": "execute_result"
    }
   ],
   "source": [
    "# Higest P_ji for each label j.\n",
    "pr.max(axis=1)"
   ]
  },
  {
   "cell_type": "markdown",
   "metadata": {},
   "source": [
    "### Question 3:\n",
    "\n",
    "Use naive bayes (as shown in lecture slides) to classify the test data. Report the accuracy. (5 marks)"
   ]
  },
  {
   "cell_type": "code",
   "execution_count": 7,
   "metadata": {},
   "outputs": [],
   "source": [
    "# Take the log of prior probabilities. \n",
    "log_pi={}\n",
    "for i in range(10):\n",
    "    log_pi[i]=np.log(pi[i])"
   ]
  },
  {
   "cell_type": "code",
   "execution_count": 8,
   "metadata": {},
   "outputs": [],
   "source": [
    "def NB(data):\n",
    "    \n",
    "    # pr_dictionary: {class j:{feature i: probability}...}\n",
    "    pr_dict = pr.T.to_dict()\n",
    "    \n",
    "    # data_dictionary: {class j:{feature i: data}...}\n",
    "    data_dict = data.T.to_dict()\n",
    "    \n",
    "    # Naive Bayes model.\n",
    "    prediction = []\n",
    "    for n in range(len(data)):\n",
    "        score = {}\n",
    "        for j in range(10):\n",
    "            score[j] = 0\n",
    "            for i in range(784):\n",
    "                score[j] += np.log(pr_dict[j][i])*data_dict[n][i]\n",
    "                score[j] += np.log(1-pr_dict[j][i])*(1-data_dict[n][i])\n",
    "            score[j] += log_pi[j]\n",
    "            \n",
    "        max_score = max(score, key=score.get)\n",
    "        prediction.append(max_score)\n",
    "        \n",
    "    return prediction\n",
    "   "
   ]
  },
  {
   "cell_type": "code",
   "execution_count": 9,
   "metadata": {},
   "outputs": [
    {
     "name": "stdout",
     "output_type": "stream",
     "text": [
      "Accuracy of test data: 0.809\n"
     ]
    }
   ],
   "source": [
    "# Fit model on test dataset.\n",
    "y_pred= NB(X_test)\n",
    "\n",
    "# Test data accuracy.\n",
    "accuracy = np.sum(y_pred==y_test)/len(y_test)\n",
    "print('Accuracy of test data:',accuracy)"
   ]
  },
  {
   "cell_type": "markdown",
   "metadata": {},
   "source": [
    "### Question 4:\n",
    "\n",
    "Compute the confusion matrix (as shown in the lectures) and report the top 3 pairs with most (absolute number) incorrect classifications. (10 marks)"
   ]
  },
  {
   "cell_type": "code",
   "execution_count": 10,
   "metadata": {},
   "outputs": [],
   "source": [
    "def plot_confusion_matrix(cm, classes,\n",
    "                          normalize=False,\n",
    "                          title='Confusion matrix',\n",
    "                          cmap=plt.cm.Blues):\n",
    "    \"\"\"\n",
    "    This function prints and plots the confusion matrix.\n",
    "    Normalization can be applied by setting `normalize=True`.\n",
    "    \"\"\"\n",
    "    plt.imshow(cm, interpolation='nearest', cmap=cmap)\n",
    "    plt.title(title)\n",
    "    plt.colorbar()\n",
    "    tick_marks = np.arange(len(classes))\n",
    "    plt.xticks(tick_marks, classes, rotation=45)\n",
    "    plt.yticks(tick_marks, classes)\n",
    "\n",
    "\n",
    "    thresh = cm.max() / 2.\n",
    "    for i, j in itertools.product(range(cm.shape[0]), range(cm.shape[1])):\n",
    "        plt.text(j, i, cm[i, j],\n",
    "                 horizontalalignment=\"center\",\n",
    "                 color=\"white\" if cm[i, j] > thresh else \"black\")\n",
    "\n",
    "    plt.tight_layout()\n",
    "    plt.ylabel('True label')\n",
    "    plt.xlabel('Predicted label')\n"
   ]
  },
  {
   "cell_type": "code",
   "execution_count": 11,
   "metadata": {},
   "outputs": [
    {
     "data": {
      "image/png": "[encoded data removed]",
      "text/plain": [
       "<Figure size 432x288 with 2 Axes>"
      ]
     },
     "metadata": {
      "needs_background": "light"
     },
     "output_type": "display_data"
    }
   ],
   "source": [
    "# Compute confusion matrix\n",
    "cnf_matrix = confusion_matrix(y_test, y_pred)\n",
    "np.set_printoptions(precision=2)\n",
    "\n",
    "# Plot non-normalized confusion matrix\n",
    "plt.figure()\n",
    "plot_confusion_matrix(cnf_matrix, classes=[*range(10)],title='Confusion matrix')\n",
    "plt.show()"
   ]
  },
  {
   "cell_type": "code",
   "execution_count": 12,
   "metadata": {
    "scrolled": true
   },
   "outputs": [
    {
     "name": "stdout",
     "output_type": "stream",
     "text": [
      "The top 3 incorrect classifications:\n",
      "\n",
      "Truth: 4 Estimation: 9 Count: 21\n",
      "Truth: 5 Estimation: 3 Count: 11\n",
      "Truth: 8 Estimation: 3 Count: 9\n"
     ]
    }
   ],
   "source": [
    "# Convert confusion matrix to dictionary.\n",
    "# incorrect{(true,prediction):count ...}\n",
    "incorrect={}\n",
    "for row in range(10):\n",
    "    for col in range(10):\n",
    "        if row!=col:\n",
    "            incorrect[(row,col)]=cnf_matrix[row][col]\n",
    "\n",
    "# Top 3 incorrect classification.\n",
    "print(\"The top 3 incorrect classifications:\\n\")\n",
    "top_3 = Counter(incorrect).most_common(3)\n",
    "for item in top_3:\n",
    "    print(\"Truth:\",item[0][0],\"Estimation:\",item[0][1],\"Count:\",item[1])"
   ]
  },
  {
   "cell_type": "markdown",
   "metadata": {},
   "source": [
    "### Question 5:\n",
    "\n",
    "Visualizing mistakes: Print two MNIST images from the test data that your classifier misclassified. Write both the true and predicted labels for both of these misclassified digits. (10 marks)"
   ]
  },
  {
   "cell_type": "code",
   "execution_count": 13,
   "metadata": {},
   "outputs": [],
   "source": [
    "def displaychar(image):\n",
    "    plt.imshow(image.values.reshape([28,28]), cmap=plt.cm.gray)\n",
    "    plt.axis('off')\n",
    "    plt.show()"
   ]
  },
  {
   "cell_type": "code",
   "execution_count": 14,
   "metadata": {},
   "outputs": [
    {
     "name": "stdout",
     "output_type": "stream",
     "text": [
      "True label: 4.0; Predicted label: 9;\n"
     ]
    },
    {
     "data": {
      "image/png": "[encoded data removed]",
      "text/plain": [
       "<Figure size 432x288 with 1 Axes>"
      ]
     },
     "metadata": {
      "needs_background": "light"
     },
     "output_type": "display_data"
    },
    {
     "name": "stdout",
     "output_type": "stream",
     "text": [
      "True label: 8.0; Predicted label: 2;\n"
     ]
    },
    {
     "data": {
      "image/png": "[encoded data removed]",
      "text/plain": [
       "<Figure size 432x288 with 1 Axes>"
      ]
     },
     "metadata": {
      "needs_background": "light"
     },
     "output_type": "display_data"
    }
   ],
   "source": [
    "# Random select two samples from the misclassifications.\n",
    "index = np.random.choice(list(*np.where(y_pred!=y_test)), 2)\n",
    "\n",
    "# Display the misclassified digit.\n",
    "for i in index:\n",
    "    print(\"True label: {}; Predicted label: {};\".format(y_test[i],y_pred[i]))\n",
    "    displaychar(X_test.iloc[i,:])"
   ]
  },
  {
   "cell_type": "markdown",
   "metadata": {},
   "source": [
    "### Question 6:\n",
    "\n",
    "Implement Gaussian Mixture model on the data as shown in class. Tune the covariance type parameter on the validation data. Use the selected value to compute the test accuracy. As always, train the model on train+validation data to compute the test accuracy. (10 mark)\n"
   ]
  },
  {
   "cell_type": "code",
   "execution_count": 15,
   "metadata": {},
   "outputs": [],
   "source": [
    "# Load data from datasets.\n",
    "data =datasets.load_breast_cancer()\n",
    "\n",
    "X = data.data\n",
    "y = data.target\n",
    "\n",
    "# Split data in to tran-validation-test(40-20-40).\n",
    "X_train_val, X_test, y_train_val, y_test = train_test_split(X, y, test_size=0.4, shuffle=False)\n",
    "X_train, X_val, y_train, y_val= train_test_split(X_train_val, y_train_val, test_size=1/3, shuffle=False)\n"
   ]
  },
  {
   "cell_type": "code",
   "execution_count": 16,
   "metadata": {},
   "outputs": [
    {
     "name": "stdout",
     "output_type": "stream",
     "text": [
      "Covariance type: full,  validation accuracy = 0.6140350877192983\n",
      "Covariance type: tied,  validation accuracy = 0.8596491228070176\n",
      "Covariance type: diag,  validation accuracy = 0.9473684210526315\n",
      "Covariance type: spherical,  validation accuracy = 0.9736842105263158\n"
     ]
    }
   ],
   "source": [
    "# Model. \n",
    "accuracy={}\n",
    "covariance_type=['full', 'tied', 'diag', 'spherical']\n",
    "for cov_type in covariance_type:\n",
    "    clf = GaussianMixture(n_components=2, covariance_type=cov_type)  \n",
    "\n",
    "    clf.means_init = np.array([X_train[y_train == i].mean(axis=0) for i in range(2)])\n",
    "\n",
    "    # Fit.\n",
    "    clf.fit(X_train, y_train)\n",
    "\n",
    "    # Predict.\n",
    "    pred_val = clf.predict(X_val)\n",
    "    \n",
    "    # Evaluate.\n",
    "    accuracy[cov_type]= accuracy_score(y_val, pred_val)\n",
    "    print ('Covariance type: {},  validation accuracy = {}'.format(cov_type,(accuracy_score(y_val, pred_val))))"
   ]
  },
  {
   "cell_type": "code",
   "execution_count": 17,
   "metadata": {},
   "outputs": [
    {
     "name": "stdout",
     "output_type": "stream",
     "text": [
      "Covariance type: spherical,  validation accuracy = 0.9385964912280702\n"
     ]
    }
   ],
   "source": [
    "# Select optimal covariance type.\n",
    "cov_type = max(accuracy,key=accuracy.get)\n",
    "\n",
    "# Model\n",
    "clf = GaussianMixture(n_components=2, covariance_type=cov_type)  \n",
    "clf.means_init = np.array([X_train_val[y_train_val == i].mean(axis=0) for i in range(2)])\n",
    "\n",
    "# Fit\n",
    "clf.fit(X_train_val, y_train_val)\n",
    "\n",
    "# Predict.\n",
    "pred_test = clf.predict(X_test)\n",
    "    \n",
    "# Evaluate.\n",
    "print ('Covariance type: {},  validation accuracy = {}'.format(cov_type,(accuracy_score(y_test, pred_test))))\n"
   ]
  },
  {
   "cell_type": "markdown",
   "metadata": {},
   "source": [
    "### Question 7:\n",
    "\n",
    "Apply Linear Discriminant Analysis model on the train+validation data and report the accuracy obtained on test data. Report the transformation matrix (w) along with the intercept. (5 mark)"
   ]
  },
  {
   "cell_type": "code",
   "execution_count": 18,
   "metadata": {},
   "outputs": [
    {
     "name": "stdout",
     "output_type": "stream",
     "text": [
      "Test accuracy = 0.9736842105263158\n"
     ]
    }
   ],
   "source": [
    "from sklearn.discriminant_analysis import LinearDiscriminantAnalysis\n",
    "\n",
    "# Intialize\n",
    "clf = LinearDiscriminantAnalysis()\n",
    "# Train\n",
    "clf.fit(X_train_val, y_train_val)\n",
    "# Test\n",
    "y_pred = clf.predict(X_test)\n",
    "\n",
    "# print the accuracy\n",
    "print ('Test accuracy = ' + str(np.sum(y_pred == y_test)/len(y_test)))"
   ]
  },
  {
   "cell_type": "code",
   "execution_count": 19,
   "metadata": {},
   "outputs": [
    {
     "data": {
      "text/plain": [
       "array([[ 5.33e+00, -2.13e-01, -6.01e-01, -8.89e-03, -5.45e+01,  7.44e+01,\n",
       "        -4.98e+00, -3.42e+01,  1.73e+01, -4.45e+01, -8.41e+00, -2.53e-01,\n",
       "         5.79e-01,  1.06e-02, -2.81e+02, -2.63e+00,  4.26e+01, -1.67e+02,\n",
       "         1.27e+01,  2.01e+02, -3.54e+00, -7.22e-02, -5.54e-02,  2.39e-02,\n",
       "         1.39e+01,  1.04e+00, -6.06e+00, -1.48e+01, -1.63e+01, -8.05e+01]])"
      ]
     },
     "execution_count": 19,
     "metadata": {},
     "output_type": "execute_result"
    }
   ],
   "source": [
    "clf.coef_"
   ]
  },
  {
   "cell_type": "code",
   "execution_count": 20,
   "metadata": {},
   "outputs": [
    {
     "data": {
      "text/plain": [
       "array([50.96])"
      ]
     },
     "execution_count": 20,
     "metadata": {},
     "output_type": "execute_result"
    }
   ],
   "source": [
    "clf.intercept_"
   ]
  },
  {
   "cell_type": "markdown",
   "metadata": {},
   "source": [
    "## Part 2 - Evaluationg Classifier \n",
    "### Question 8:\n",
    "\n",
    "Load sklearn’s digits dataset (sklearn.datasets.load digits) and take the last 1300 samples as your test set. Train a K-Nearest Neighbor (k=5, linf distance) model and then without using any scikit-learn method, report the final values for Specificity, Sensitivity, TPR, TNR, FNR, FPR, Precision and Recall for Digit 3 (this digit is a positive, everything else is a negative). (15 marks)\n"
   ]
  },
  {
   "cell_type": "markdown",
   "metadata": {},
   "source": [
    "#### Load data."
   ]
  },
  {
   "cell_type": "code",
   "execution_count": 21,
   "metadata": {},
   "outputs": [],
   "source": [
    "# Load data from datasets.\n",
    "dataset =datasets.load_digits()\n",
    "\n",
    "X = dataset.data\n",
    "y = dataset.target\n",
    "\n",
    "# Split data into train-test set.\n",
    "X_train=X[:-1300]\n",
    "y_train=y[:-1300]\n",
    "\n",
    "X_test=X[-1300:]\n",
    "y_test=y[-1300:]"
   ]
  },
  {
   "cell_type": "markdown",
   "metadata": {},
   "source": [
    "#### Fit KNN model."
   ]
  },
  {
   "cell_type": "code",
   "execution_count": 22,
   "metadata": {},
   "outputs": [
    {
     "name": "stdout",
     "output_type": "stream",
     "text": [
      "Test accuracy (k=5): 0.8938461538461538\n"
     ]
    }
   ],
   "source": [
    "# Train k-nn model on train dataset.(k=5, l_inf distance(chebyshev))\n",
    "clf = KNeighborsClassifier(n_neighbors=5, metric='chebyshev')\n",
    "clf.fit(X_train, y_train)\n",
    "\n",
    "# Fit model on test dataset and get accuracy.\n",
    "y_pred = clf.predict(X_test)\n",
    "accuracy = np.sum(y_pred == y_test)/len(y_test)\n",
    "print('Test accuracy (k=5):',accuracy)"
   ]
  },
  {
   "cell_type": "markdown",
   "metadata": {},
   "source": [
    "#### Evaluations for digit 3."
   ]
  },
  {
   "cell_type": "code",
   "execution_count": 23,
   "metadata": {},
   "outputs": [
    {
     "data": {
      "text/html": [
       "<div>\n",
       "<style scoped>\n",
       "    .dataframe tbody tr th:only-of-type {\n",
       "        vertical-align: middle;\n",
       "    }\n",
       "\n",
       "    .dataframe tbody tr th {\n",
       "        vertical-align: top;\n",
       "    }\n",
       "\n",
       "    .dataframe thead th {\n",
       "        text-align: right;\n",
       "    }\n",
       "</style>\n",
       "<table border=\"1\" class=\"dataframe\">\n",
       "  <thead>\n",
       "    <tr style=\"text-align: right;\">\n",
       "      <th></th>\n",
       "      <th>positive</th>\n",
       "      <th>negative</th>\n",
       "    </tr>\n",
       "  </thead>\n",
       "  <tbody>\n",
       "    <tr>\n",
       "      <th>1</th>\n",
       "      <td>113</td>\n",
       "      <td>17</td>\n",
       "    </tr>\n",
       "    <tr>\n",
       "      <th>0</th>\n",
       "      <td>13</td>\n",
       "      <td>1157</td>\n",
       "    </tr>\n",
       "  </tbody>\n",
       "</table>\n",
       "</div>"
      ],
      "text/plain": [
       "   positive  negative\n",
       "1       113        17\n",
       "0        13      1157"
      ]
     },
     "execution_count": 23,
     "metadata": {},
     "output_type": "execute_result"
    }
   ],
   "source": [
    "# Number of samples of digit 3 in test data.\n",
    "test_num = np.count_nonzero(y_test==3)\n",
    "pred_num = np.count_nonzero(y_pred==3)\n",
    "# print(\"Number of digit 3 in test data:\",test_num)\n",
    "# print(\"Number of digit 3 in predicted data:\",pred_num)\n",
    "\n",
    "\n",
    "# Indices of digit 3 in test and predicted labels. \n",
    "y_test_3 = np.where(y_test==3)\n",
    "y_pred_3 = np.where(y_pred==3)\n",
    "\n",
    "# TP, TN, FP, FN\n",
    "TP = np.sum(np.isin(y_test_3, y_pred_3))\n",
    "FN = np.sum(np.isin(y_test_3, y_pred_3,invert=True))\n",
    "FP = np.count_nonzero(y_pred==3)-TP\n",
    "TN = np.count_nonzero(y_pred!=3)-FN\n",
    "\n",
    "# Confusion matrix for digit 3.\n",
    "cm = pd.DataFrame(data = [[TP,FN],[FP,TN]],columns=['positive','negative'],index=['1','0'])\n",
    "cm"
   ]
  },
  {
   "cell_type": "code",
   "execution_count": 24,
   "metadata": {},
   "outputs": [
    {
     "name": "stdout",
     "output_type": "stream",
     "text": [
      "Specificity=0.9888888888888889\n",
      "Sensitivity=0.8692307692307693\n",
      "TPR=0.8692307692307693\n",
      "TNR=0.9888888888888889\n",
      "FNR=0.13076923076923078\n",
      "FPR=0.011111111111111112\n",
      "Precision=0.8968253968253969\n",
      "Recall=0.8692307692307693\n",
      "\n"
     ]
    }
   ],
   "source": [
    "# Calculate evaluation matrics.\n",
    "specificity = TN/(TN+FP)\n",
    "sensitivity = TP/(TP+FN)\n",
    "TPR = TP/(TP+FN)\n",
    "TNR = TN/(TN+FP)\n",
    "FNR = FN/(FN+TP)\n",
    "FPR = FP/(FP+TN)\n",
    "precision = TP/(TP+FP)\n",
    "recall = TP/(TP+FN)\n",
    "print(\"Specificity={}\\nSensitivity={}\\nTPR={}\\nTNR={}\\nFNR={}\\nFPR={}\\nPrecision={}\\nRecall={}\\n\"\n",
    "      .format(specificity,sensitivity,TPR,TNR,FNR,FPR,precision,recall))"
   ]
  },
  {
   "cell_type": "markdown",
   "metadata": {},
   "source": [
    "## Part 3 - Regression  \n",
    "\n",
    "An ablation experiment consists of removing one feature from an experiment, in order to assess the amount of additional information that feature provides above and beyond the others. For this section, we will use the diabetes dataset from scikit-learn’s toy datasets. Split the data into training and testing data as a 90-10 split with random state of 10.\n",
    "\n",
    "### Question 9:\n",
    "\n",
    "Perform least squares regression on this dataset. Report the mean squared error and the mean absolute error on the test data. (5 marks)\n",
    "\n"
   ]
  },
  {
   "cell_type": "code",
   "execution_count": 25,
   "metadata": {},
   "outputs": [
    {
     "name": "stdout",
     "output_type": "stream",
     "text": [
      "Diabetes dataset\n",
      "================\n",
      "\n",
      "Notes\n",
      "-----\n",
      "\n",
      "Ten baseline variables, age, sex, body mass index, average blood\n",
      "pressure, and six blood serum measurements were obtained for each of n =\n",
      "442 diabetes patients, as well as the response of interest, a\n",
      "quantitative measure of disease progression one year after baseline.\n",
      "\n",
      "Data Set Characteristics:\n",
      "\n",
      "  :Number of Instances: 442\n",
      "\n",
      "  :Number of Attributes: First 10 columns are numeric predictive values\n",
      "\n",
      "  :Target: Column 11 is a quantitative measure of disease progression one year after baseline\n",
      "\n",
      "  :Attributes:\n",
      "    :Age:\n",
      "    :Sex:\n",
      "    :Body mass index:\n",
      "    :Average blood pressure:\n",
      "    :S1:\n",
      "    :S2:\n",
      "    :S3:\n",
      "    :S4:\n",
      "    :S5:\n",
      "    :S6:\n",
      "\n",
      "Note: Each of these 10 feature variables have been mean centered and scaled by the standard deviation times `n_samples` (i.e. the sum of squares of each column totals 1).\n",
      "\n",
      "Source URL:\n",
      "http://www4.stat.ncsu.edu/~boos/var.select/diabetes.html\n",
      "\n",
      "For more information see:\n",
      "Bradley Efron, Trevor Hastie, Iain Johnstone and Robert Tibshirani (2004) \"Least Angle Regression,\" Annals of Statistics (with discussion), 407-499.\n",
      "(http://web.stanford.edu/~hastie/Papers/LARS/LeastAngle_2002.pdf)\n",
      "\n"
     ]
    }
   ],
   "source": [
    "# Load data.\n",
    "diabets =datasets.load_diabetes()\n",
    "\n",
    "X = diabets.data\n",
    "y = diabets.target\n",
    "\n",
    "print(diabets.DESCR)"
   ]
  },
  {
   "cell_type": "code",
   "execution_count": 26,
   "metadata": {},
   "outputs": [
    {
     "name": "stdout",
     "output_type": "stream",
     "text": [
      "Test data mean squared error: 28060.622559310537\n",
      "Test data mean absolute error: 160.8439534334583\n"
     ]
    }
   ],
   "source": [
    "# Split data into train-test set.\n",
    "X_train, X_test, y_train, y_test = train_test_split(X, y, test_size=0.1, random_state=10)\n",
    "\n",
    "# Least squares regression\n",
    "theta,residuals,rank,s = np.linalg.lstsq(X_train, y_train, rcond=None)\n",
    "\n",
    "# Make predictions on the test data\n",
    "prediction = np.dot(X_test, theta)\n",
    "mse = mean_squared_error(y_test, prediction)\n",
    "\n",
    "# Mean squared error.\n",
    "print (\"Test data mean squared error:\",mean_squared_error(y_test, prediction))\n",
    "\n",
    "# Mean absolute error.\n",
    "print (\"Test data mean absolute error:\",mean_absolute_error(y_test, prediction))\n"
   ]
  },
  {
   "cell_type": "markdown",
   "metadata": {},
   "source": [
    "### Question 10:\n",
    "\n",
    "Repeat the experiment from Question 9 for all possible values of ablation (i.e., removing the feature 1 only, then removing the feature 2 only, and so on). Report all MSEs. (10 marks)\n",
    "\n"
   ]
  },
  {
   "cell_type": "code",
   "execution_count": 27,
   "metadata": {},
   "outputs": [
    {
     "name": "stdout",
     "output_type": "stream",
     "text": [
      "Removed feature: 0 , test data MSE: 28062.711822238078\n",
      "Removed feature: 1 , test data MSE: 27936.317900620532\n",
      "Removed feature: 2 , test data MSE: 29481.631561162365\n",
      "Removed feature: 3 , test data MSE: 28762.573222191175\n",
      "Removed feature: 4 , test data MSE: 28159.085211182188\n",
      "Removed feature: 5 , test data MSE: 28123.775325632363\n",
      "Removed feature: 6 , test data MSE: 27710.698098097317\n",
      "Removed feature: 7 , test data MSE: 28006.79649746867\n",
      "Removed feature: 8 , test data MSE: 28512.722055593065\n",
      "Removed feature: 9 , test data MSE: 28017.248647620938\n"
     ]
    }
   ],
   "source": [
    "train={}\n",
    "test={}\n",
    "MSEs=[]\n",
    "for index in range(10):\n",
    "    train[index] = np.delete(X_train,index,axis=1)\n",
    "    test[index] = np.delete(X_test,index,axis=1)\n",
    "    \n",
    "    # Least squares regression\n",
    "    theta,residuals,rank,s = np.linalg.lstsq(train[index], y_train, rcond=None)\n",
    "\n",
    "    # Make predictions on the test data\n",
    "    prediction = np.dot(test[index], theta)\n",
    "    MSE = mean_squared_error(y_test, prediction)\n",
    "    MSEs.append(MSE) \n",
    "\n",
    "    # Mean squared error.\n",
    "    print (\"Removed feature: {} , test data MSE: {}\".format(index,MSE))\n",
    "    "
   ]
  },
  {
   "cell_type": "markdown",
   "metadata": {},
   "source": [
    "### Question 11:\n",
    "\n",
    "Based on the MSE values obtained from Question 10, which features do you deem the most/least significant and why? (5 marks)\n",
    "\n"
   ]
  },
  {
   "cell_type": "code",
   "execution_count": 28,
   "metadata": {},
   "outputs": [
    {
     "data": {
      "image/png": "[encoded data removed]",
      "text/plain": [
       "<Figure size 432x288 with 1 Axes>"
      ]
     },
     "metadata": {
      "needs_background": "light"
     },
     "output_type": "display_data"
    }
   ],
   "source": [
    "# Plot test data MSEs.\n",
    "features = ['Age','Sex','Body mass index','Average blood pressure','S1','S2','S3','S4','S5','S6']\n",
    "plt.plot(features,MSEs,'*--')\n",
    "plt.xticks(rotation=40,ha='right',fontsize=8)\n",
    "plt.xlabel('Removed feature',fontsize=12)\n",
    "plt.ylabel('Test data MSE',fontsize=12)\n",
    "plt.show()"
   ]
  },
  {
   "cell_type": "markdown",
   "metadata": {},
   "source": [
    "As we can see from the graph, the test data MSE increated sharply when we removed the feature of \"Body mass index\", and the MSE is the higest among all MSEs. Additionaly, the lowest MSE is  removing the feature \"S3\". So we can assume that the feature `Body mass index` is **most** significant and the `S3` is **least** significant.  "
   ]
  },
  {
   "cell_type": "code",
   "execution_count": null,
   "metadata": {},
   "outputs": [],
   "source": []
  }
 ],
 "metadata": {
  "kernelspec": {
   "display_name": "Python 3",
   "language": "python",
   "name": "python3"
  },
  "language_info": {
   "codemirror_mode": {
    "name": "ipython",
    "version": 3
   },
   "file_extension": ".py",
   "mimetype": "text/x-python",
   "name": "python",
   "nbconvert_exporter": "python",
   "pygments_lexer": "ipython3",
   "version": "3.6.6"
  }
 },
 "nbformat": 4,
 "nbformat_minor": 2
}
