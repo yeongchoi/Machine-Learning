{
 "cells": [
  {
   "cell_type": "markdown",
   "metadata": {},
   "source": [
    "# DSE 220 Homework 1"
   ]
  },
  {
   "cell_type": "markdown",
   "metadata": {},
   "source": [
    "### Load Library"
   ]
  },
  {
   "cell_type": "code",
   "execution_count": 1,
   "metadata": {},
   "outputs": [],
   "source": [
    "import numpy as np\n",
    "import pandas as pd\n",
    "import matplotlib.pyplot as plt\n",
    "from sklearn.tree import DecisionTreeClassifier\n",
    "from sklearn.neighbors import KNeighborsClassifier\n",
    "from sklearn.preprocessing import StandardScaler"
   ]
  },
  {
   "cell_type": "markdown",
   "metadata": {},
   "source": [
    "## Part 1 - Data Preprocessing\n",
    "### Question 1: \n",
    "\n",
    "Remove the rows with missing labels (’class’) and rows with more than 7 missing features. Report the remaining number of rows. (1 mark)\n"
   ]
  },
  {
   "cell_type": "code",
   "execution_count": 2,
   "metadata": {},
   "outputs": [
    {
     "name": "stdout",
     "output_type": "stream",
     "text": [
      "The remaining number of rows: 154\n"
     ]
    }
   ],
   "source": [
    "# Load Data\n",
    "wine = pd.read_csv('./wine_modified.csv')\n",
    "\n",
    "# Remove the rows with missing labels.\n",
    "label_filtered_wine = wine.dropna(subset=['class'])\n",
    "\n",
    "# Remove the rows with more than 7 missing features.(7 Non-NaN: 13 features - 7 missing featues + 1 class label)\n",
    "NaN_filtered_wine = label_filtered_wine.dropna(thresh=7)\n",
    "\n",
    "print('The remaining number of rows:',NaN_filtered_wine.shape[0])"
   ]
  },
  {
   "cell_type": "markdown",
   "metadata": {},
   "source": [
    "### Question 2: \n",
    "\n",
    "Remove features with > 50% of missing values. For other features with missing values fill them with the mean of the corresponding features. Report the removed features (if any) and standard deviation of features with missing values after filling. (2 marks)"
   ]
  },
  {
   "cell_type": "code",
   "execution_count": 3,
   "metadata": {},
   "outputs": [
    {
     "name": "stdout",
     "output_type": "stream",
     "text": [
      "Removed features: ['Ash']\n"
     ]
    }
   ],
   "source": [
    "# Get columns\n",
    "columns = wine.columns.tolist()\n",
    "\n",
    "# Remove features with > 50% of missing values.\n",
    "feature_filtered_wine = NaN_filtered_wine.dropna(axis=1, thresh = wine.shape[0]/2)\n",
    "filtered_columns = feature_filtered_wine.columns.tolist()\n",
    "removed_columns = [item for item in columns if item not in filtered_columns]\n",
    "print('Removed features:',removed_columns)\n"
   ]
  },
  {
   "cell_type": "code",
   "execution_count": 4,
   "metadata": {},
   "outputs": [
    {
     "name": "stdout",
     "output_type": "stream",
     "text": [
      "Standard deviation of features with missing values after filling:\n",
      "\n",
      " Alcohol                   3.804067\n",
      "Malic acid                1.116005\n",
      "Alcalinity of ash         3.456794\n",
      "Magnesium                14.440377\n",
      "Total phenols             0.617237\n",
      "Flavanoids                0.873573\n",
      "Nonflavanoid phenols      0.127083\n",
      "Proanthocyanins           0.587671\n",
      "Color intensity           2.325204\n",
      "Hue                       0.229412\n",
      "OD280/OD315               0.723261\n",
      "Proline                 303.033368\n",
      "dtype: float64\n"
     ]
    }
   ],
   "source": [
    "# Fill missing values with mean.\n",
    "filling_wine = feature_filtered_wine.fillna(feature_filtered_wine.mean())\n",
    "print('Standard deviation of features with missing values after filling:\\n\\n',filling_wine.iloc[:,1:].std())"
   ]
  },
  {
   "cell_type": "markdown",
   "metadata": {},
   "source": [
    "### Question 3: \n",
    "\n",
    "Detect and remove rows with any outliers/incorrect values in features ’alcohol’ and ’proline’ (if any). Clearly state the basis of your removal. (1 mark)"
   ]
  },
  {
   "cell_type": "code",
   "execution_count": 5,
   "metadata": {},
   "outputs": [
    {
     "name": "stdout",
     "output_type": "stream",
     "text": [
      "Numnber of remaining rows after removing outliers of Alcohol: 149\n",
      "Numnber of remaining rows after removing outliers of Proline: 98\n"
     ]
    }
   ],
   "source": [
    "# Get mean and std for the features.\n",
    "sigma = filling_wine.iloc[:,1:].std().to_dict() # sigma{feature:std ...}\n",
    "mu = filling_wine.iloc[:,1:].mean().to_dict() # mu{feature:mean ...}\n",
    "\n",
    "# Remove the rows with outlier(1 std from the mean) values in features 'Alcohol' and 'Proline'. \n",
    "features = ['Alcohol','Proline']\n",
    "filtered_wine = filling_wine\n",
    "for feature in ['Alcohol','Proline']:\n",
    "    filtered_wine = filtered_wine[(filtered_wine[feature] < mu[feature]+sigma[feature]) &\n",
    "                                  (filtered_wine[feature] > mu[feature]-sigma[feature])]\n",
    "    print('Numnber of remaining rows after removing outliers of {}: {}'.format(feature,filtered_wine.shape[0]))"
   ]
  },
  {
   "cell_type": "markdown",
   "metadata": {},
   "source": [
    "## Part 2 - Decision Trees\n",
    "### Question 4: \n",
    "\n",
    "Train Decision Tree model on train data for criterions = {’gini’, ’entropy’} and report the accuracies on the validation data. Select the best criterion and report the accuracy on the test data. (1 mark)"
   ]
  },
  {
   "cell_type": "code",
   "execution_count": 6,
   "metadata": {},
   "outputs": [],
   "source": [
    "# Load datasets.\n",
    "X_train = pd.read_csv('./wine_train_data.csv')\n",
    "X_valid = pd.read_csv('./wine_val_data.csv')\n",
    "X_test = pd.read_csv('./wine_test_data.csv')\n",
    "\n",
    "y_train = np.loadtxt('./wine_train_labels.csv',delimiter=',',skiprows=1)\n",
    "y_valid = np.loadtxt('./wine_val_labels.csv',delimiter=',',skiprows=1)\n",
    "y_test = np.loadtxt('./wine_test_labels.csv',delimiter=',',skiprows=1)\n",
    "\n",
    "# Get 'train+validataion' data.\n",
    "X = pd.concat([X_train,X_valid])\n",
    "y = np.append(y_train,y_valid)"
   ]
  },
  {
   "cell_type": "code",
   "execution_count": 20,
   "metadata": {},
   "outputs": [
    {
     "name": "stdout",
     "output_type": "stream",
     "text": [
      "Validation accuracy(creterion=gini):0.9743589743589743\n",
      "Validation accuracy(creterion=entropy):0.9487179487179487\n"
     ]
    }
   ],
   "source": [
    "# Train Decision Tree model on train dataset.\n",
    "creterions=['gini','entropy']\n",
    "for creterion in creterions:\n",
    "    clf = DecisionTreeClassifier(criterion=creterion)\n",
    "    clf.fit(X_train, y_train)\n",
    "\n",
    "    # Fit model on validation dataset.\n",
    "    y_pred_valid = clf.predict(X_valid)\n",
    "    accuracy = np.sum(y_pred_valid == y_valid)/len(y_valid)\n",
    "    print('Validation accuracy(creterion={}):{}'.format(creterion,accuracy)) "
   ]
  },
  {
   "cell_type": "code",
   "execution_count": 24,
   "metadata": {},
   "outputs": [
    {
     "name": "stdout",
     "output_type": "stream",
     "text": [
      "Test accuracy: 0.8205128205128205\n"
     ]
    }
   ],
   "source": [
    "# Select criterion as 'entropy', train model on 'train + validataon' dataset.\n",
    "clf = DecisionTreeClassifier(criterion='entropy')\n",
    "clf.fit(X, y)\n",
    "\n",
    "# Fit model on test dataset.\n",
    "y_pred_test = clf.predict(X_test)\n",
    "accuracy = np.sum(y_pred_test == y_test)/len(y_test)\n",
    "print('Test accuracy:',accuracy)"
   ]
  },
  {
   "cell_type": "markdown",
   "metadata": {},
   "source": [
    "### Question 5: \n",
    "\n",
    "Use the criterion selected above to train Decision Tree model on train data for min samples split={2,5,10,20} and report the accuracies on the validation data. Select the best parameter and report the accuracy on the test data. (2 marks)"
   ]
  },
  {
   "cell_type": "code",
   "execution_count": 36,
   "metadata": {},
   "outputs": [
    {
     "name": "stdout",
     "output_type": "stream",
     "text": [
      "Validation accuracy(min_samples_split=2):0.9743589743589743\n",
      "Validation accuracy(min_samples_split=5):0.9487179487179487\n",
      "Validation accuracy(min_samples_split=10):0.9230769230769231\n",
      "Validation accuracy(min_samples_split=20):0.9230769230769231\n"
     ]
    }
   ],
   "source": [
    "# Train Decision Tree model on train dataset.\n",
    "min_samples_split=[2,5,10,20]\n",
    "for i in min_samples_split:\n",
    "    clf = DecisionTreeClassifier(criterion='entropy',min_samples_split=i)\n",
    "    clf.fit(X_train, y_train)\n",
    "\n",
    "    # Fit model on validation dataset.\n",
    "    y_pred_valid = clf.predict(X_valid)\n",
    "    accuracy = np.sum(y_pred_valid == y_valid)/len(y_valid)\n",
    "    print('Validation accuracy(min_samples_split={}):{}'.format(i,accuracy))\n",
    "   "
   ]
  },
  {
   "cell_type": "code",
   "execution_count": 37,
   "metadata": {},
   "outputs": [
    {
     "name": "stdout",
     "output_type": "stream",
     "text": [
      "Test accuracy: 0.8205128205128205\n"
     ]
    }
   ],
   "source": [
    "# Select 'min_samples_split' as 2, then train model on 'train+validation' dataset.\n",
    "clf = DecisionTreeClassifier(criterion='entropy', min_samples_split=2)\n",
    "clf.fit(X, y)\n",
    "\n",
    "# Fit model on test dataset.\n",
    "y_pred_test = clf.predict(X_test)\n",
    "accuracy = np.sum(y_pred_test == y_test)/len(y_test)\n",
    "print('Test accuracy:',accuracy)"
   ]
  },
  {
   "cell_type": "markdown",
   "metadata": {},
   "source": [
    "### Question 6: \n",
    "\n",
    "Use the parameters selected above (Q4 and Q5) to train Decision Tree model using the first 20, 40, 60, 80 and 100 samples from train data. Keep the validation set unchanged during this analysis. Report and plot the accuracies on the validation data. (2 marks)"
   ]
  },
  {
   "cell_type": "code",
   "execution_count": 39,
   "metadata": {},
   "outputs": [
    {
     "name": "stdout",
     "output_type": "stream",
     "text": [
      "Validation accuracy(train_samples=20):0.6153846153846154\n",
      "Validation accuracy(train_samples=40):0.8461538461538461\n",
      "Validation accuracy(train_samples=60):0.8717948717948718\n",
      "Validation accuracy(train_samples=80):0.8974358974358975\n",
      "Validation accuracy(train_samples=100):0.9743589743589743\n"
     ]
    },
    {
     "data": {
      "image/png": "[encoded data removed]",
      "text/plain": [
       "<Figure size 432x288 with 1 Axes>"
      ]
     },
     "metadata": {
      "needs_background": "light"
     },
     "output_type": "display_data"
    }
   ],
   "source": [
    "samples=[20,40,60,80,100]\n",
    "accuracies=[]\n",
    "for num in samples:\n",
    "    clf = DecisionTreeClassifier(criterion='entropy', min_samples_split=2)\n",
    "    clf.fit(X_train[:num],y_train[:num])\n",
    "    \n",
    "    # Fit model on validation dataset.\n",
    "    y_pred_valid = clf.predict(X_valid)\n",
    "    accuracy = np.sum(y_pred_valid == y_valid)/len(y_valid)\n",
    "    accuracies.append(accuracy)\n",
    "    print('Validation accuracy(train_samples={}):{}'.format(num,accuracy))\n",
    "\n",
    "# Plot the accuracies on validation dataset.\n",
    "plt.plot(samples,accuracies,'*-')\n",
    "plt.xlabel('train data sample size',fontsize=12)\n",
    "plt.ylabel('validation accuracy',fontsize=12)\n",
    "plt.show()"
   ]
  },
  {
   "cell_type": "markdown",
   "metadata": {},
   "source": [
    "## Part 3 - Nearest Neighbor\n",
    "**Normalize Data**: Normalize features such that for each feature the mean is 0 and the standard deviation is 1 in the train+validation data. Use the normalizing factors calculated on train+validation data to modify the values in train, validation and test data."
   ]
  },
  {
   "cell_type": "code",
   "execution_count": 40,
   "metadata": {},
   "outputs": [],
   "source": [
    "# Normalize features on 'tran+validation' dataset.\n",
    "scaler = StandardScaler()\n",
    "scaler.fit(X)\n",
    "\n",
    "# Get normalized train, validation,test data.\n",
    "X = scaler.transform(X)\n",
    "X_train = scaler.transform(X_train)\n",
    "X_valid = scaler.transform(X_valid)\n",
    "X_test = scaler.transform(X_test)"
   ]
  },
  {
   "cell_type": "markdown",
   "metadata": {},
   "source": [
    "### Question 7: \n",
    "\n",
    "Train k-nn model on train + validation data and report accuracy on test data. Use Euclidean distance and k=3. (1 mark)\n"
   ]
  },
  {
   "cell_type": "code",
   "execution_count": 41,
   "metadata": {},
   "outputs": [
    {
     "name": "stdout",
     "output_type": "stream",
     "text": [
      "Test accuracy (k=3): 0.8717948717948718\n"
     ]
    }
   ],
   "source": [
    "# Train k-nn model on 'train+validation' dataset.\n",
    "clf = KNeighborsClassifier(n_neighbors=3,p=2)\n",
    "clf.fit(X, y)\n",
    "\n",
    "# Fit model on test dataset and get accuracy.\n",
    "y_pred_test = clf.predict(X_test)\n",
    "accuracy = np.sum(y_pred_test == y_test)/len(y_test)\n",
    "print('Test accuracy (k=3):',accuracy)"
   ]
  },
  {
   "cell_type": "markdown",
   "metadata": {},
   "source": [
    "### Question 8: \n",
    "\n",
    "Train the model on train data for distance metrics defined by $l_{1}, l_{inf}, l_{2}$. Report the accuracies on the validation data. Select the best metric and report the accuracy on the test data for the selected metric. Use k=3. (1 mark)\n"
   ]
  },
  {
   "cell_type": "code",
   "execution_count": 42,
   "metadata": {},
   "outputs": [
    {
     "name": "stdout",
     "output_type": "stream",
     "text": [
      "Vadlidation accuracy(metric=manhattan):0.9487179487179487\n",
      "Vadlidation accuracy(metric=chebyshev):0.9230769230769231\n",
      "Vadlidation accuracy(metric=euclidean):0.9230769230769231\n"
     ]
    }
   ],
   "source": [
    "# Define diffent metrics distance. \n",
    "metrics = ['manhattan','chebyshev','euclidean']\n",
    "\n",
    "for metric in metrics:\n",
    "    \n",
    "    # Train model on train dataset.\n",
    "    clf = KNeighborsClassifier(n_neighbors=3,metric=metric)\n",
    "    clf.fit(X_train,y_train)\n",
    "     \n",
    "    # Fit model on valid dataset and get the accuracy.\n",
    "    y_pred_valid = clf.predict(X_valid)\n",
    "    accuracy = np.sum(y_pred_valid == y_valid)/(len(y_valid))\n",
    "    print('Vadlidation accuracy(metric={}):{}'.format(metric,accuracy))"
   ]
  },
  {
   "cell_type": "code",
   "execution_count": 43,
   "metadata": {},
   "outputs": [
    {
     "name": "stdout",
     "output_type": "stream",
     "text": [
      "Test accuracy (k=3, manhattan distance): 0.9743589743589743\n"
     ]
    }
   ],
   "source": [
    "# Select materic as 'manhattan distance'.\n",
    "# Train model on 'train+validation' dataset.\n",
    "clf = KNeighborsClassifier(n_neighbors=3,metric='manhattan')\n",
    "clf.fit(X,y)\n",
    "\n",
    "# Fit model on test dataset.\n",
    "y_pred_test = clf.predict(X_test)\n",
    "accuracy = np.sum(y_pred_test == y_test)/len(y_test)\n",
    "print('Test accuracy (k=3, manhattan distance):',accuracy)"
   ]
  },
  {
   "cell_type": "markdown",
   "metadata": {},
   "source": [
    "### Question 9: \n",
    "\n",
    "Train the k-nn model on train data for k=1,3,5,7,9. Report and plot the accuracies on the validation data. Select the best ’k’ value and report the accuracy on the test data for the selected ’k’. Use Euclidean distance. (2 marks)\n",
    "\n"
   ]
  },
  {
   "cell_type": "code",
   "execution_count": 46,
   "metadata": {},
   "outputs": [
    {
     "name": "stdout",
     "output_type": "stream",
     "text": [
      "Validation accuracy(k=1):0.9487179487179487\n",
      "Validation accuracy(k=3):0.9230769230769231\n",
      "Validation accuracy(k=5):0.9487179487179487\n",
      "Validation accuracy(k=7):0.9743589743589743\n",
      "Validation accuracy(k=9):0.9487179487179487\n"
     ]
    },
    {
     "data": {
      "image/png": "[encoded data removed]",
      "text/plain": [
       "<Figure size 432x288 with 1 Axes>"
      ]
     },
     "metadata": {
      "needs_background": "light"
     },
     "output_type": "display_data"
    }
   ],
   "source": [
    "# Define diffent k values.\n",
    "k_values=[1,3,5,7,9]\n",
    "accuracies=[]\n",
    "for k in k_values:\n",
    "    # Train diffent k value model on train data.\n",
    "    clf=KNeighborsClassifier(n_neighbors=k)\n",
    "    clf.fit(X_train,y_train)\n",
    "    \n",
    "    # Fit model on validation data.\n",
    "    y_pred_valid = clf.predict(X_valid)\n",
    "    accuracy = np.sum(y_pred_valid == y_valid)/len(y_valid)\n",
    "    accuracies.append(accuracy)\n",
    "    print('Validation accuracy(k={}):{}'.format(k,accuracy))\n",
    "\n",
    "# Plot the accuracies on validation dataset.\n",
    "plt.plot(k_values,accuracies,'*-')\n",
    "plt.xlabel('k values',fontsize=12)\n",
    "plt.ylabel('validation accuracy',fontsize=12)\n",
    "plt.show()"
   ]
  },
  {
   "cell_type": "code",
   "execution_count": 47,
   "metadata": {},
   "outputs": [
    {
     "name": "stdout",
     "output_type": "stream",
     "text": [
      "Test accuracy (k=7, Eucidean distance): 0.9230769230769231\n"
     ]
    }
   ],
   "source": [
    "# Select k value as 7, and train the model on 'train+validation' dataset.\n",
    "clf = KNeighborsClassifier(n_neighbors=7)\n",
    "clf.fit(X,y)\n",
    "\n",
    "# Fit model on test dataset.\n",
    "y_pred_test = clf.predict(X_test)\n",
    "accuracy = np.sum(y_pred_test == y_test)/len(y_test)\n",
    "print('Test accuracy (k=7, Eucidean distance):',accuracy)"
   ]
  },
  {
   "cell_type": "markdown",
   "metadata": {},
   "source": [
    "### Question 10:\n",
    "\n",
    "Instead of using full train data, train the model using the first 20, 40, 60, 80 and 100 data samples from train data. Keep the validation set unchanged during this analysis. Report and plot the accuracies on the validation data. Use Euclidean distance and k=3. Note: Don’t shuffle the data and use only the ’first n samples’, otherwise your answers may differ. (2 marks)"
   ]
  },
  {
   "cell_type": "code",
   "execution_count": 48,
   "metadata": {},
   "outputs": [
    {
     "name": "stdout",
     "output_type": "stream",
     "text": [
      "validation accuracy (train samples = 20): 0.9487179487179487 \n",
      "validation accuracy (train samples = 40): 1.0 \n",
      "validation accuracy (train samples = 60): 1.0 \n",
      "validation accuracy (train samples = 80): 1.0 \n",
      "validation accuracy (train samples = 100): 0.9230769230769231 \n"
     ]
    },
    {
     "data": {
      "image/png": "[encoded data removed]",
      "text/plain": [
       "<Figure size 432x288 with 1 Axes>"
      ]
     },
     "metadata": {
      "needs_background": "light"
     },
     "output_type": "display_data"
    }
   ],
   "source": [
    "samples=[20,40,60,80,100]\n",
    "accuracies=[]\n",
    "for num in samples:\n",
    "    # Train model on different sizes train dataset.\n",
    "    clf=KNeighborsClassifier(n_neighbors=3,p=2)\n",
    "    clf.fit(X_train[:num],y_train[:num])\n",
    "    \n",
    "    # Fit model on validation dataset.\n",
    "    predictions = clf.predict(X_valid)\n",
    "    accuracy = np.sum(predictions == y_valid)/len(y_valid)\n",
    "    accuracies.append(accuracy)\n",
    "    print('validation accuracy (train samples = {}): {} '.format(num,accuracy))\n",
    "\n",
    "# Plot the accuracies on validation dataset.\n",
    "plt.plot(samples,accuracies,'*-')\n",
    "plt.xlabel('train data sample size',fontsize=12)\n",
    "plt.ylabel('validation accuracy',fontsize=12)\n",
    "plt.show()\n",
    "\n"
   ]
  },
  {
   "cell_type": "code",
   "execution_count": null,
   "metadata": {},
   "outputs": [],
   "source": []
  }
 ],
 "metadata": {
  "kernelspec": {
   "display_name": "Python 3",
   "language": "python",
   "name": "python3"
  },
  "language_info": {
   "codemirror_mode": {
    "name": "ipython",
    "version": 3
   },
   "file_extension": ".py",
   "mimetype": "text/x-python",
   "name": "python",
   "nbconvert_exporter": "python",
   "pygments_lexer": "ipython3",
   "version": "3.6.6"
  }
 },
 "nbformat": 4,
 "nbformat_minor": 2
}
